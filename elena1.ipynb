{
 "cells": [
  {
   "cell_type": "markdown",
   "metadata": {},
   "source": [
    "# 1. Data import"
   ]
  },
  {
   "cell_type": "markdown",
   "metadata": {},
   "source": [
    "## 1.1 Importing the dataframes"
   ]
  },
  {
   "cell_type": "code",
   "execution_count": 1,
   "metadata": {},
   "outputs": [],
   "source": [
    "import pandas as pd\n",
    "import matplotlib.pyplot as plt\n",
    "import numpy as np\n",
    "import seaborn as sns\n",
    "from statsmodels.stats.proportion import proportions_ztest\n",
    "import math as math\n",
    "from scipy import stats\n",
    "import importlib\n",
    "import project_functions"
   ]
  },
  {
   "cell_type": "markdown",
   "metadata": {},
   "source": [
    "Here, we import functions we created in a previous notebook, so we can clean / reformat the column headers"
   ]
  },
  {
   "cell_type": "code",
   "execution_count": 2,
   "metadata": {},
   "outputs": [
    {
     "data": {
      "text/plain": [
       "<module 'project_functions' from 'c:\\\\Users\\\\Carlos\\\\Desktop\\\\Vanguard-AB-Testing\\\\project_functions.py'>"
      ]
     },
     "execution_count": 2,
     "metadata": {},
     "output_type": "execute_result"
    }
   ],
   "source": [
    "importlib.reload(project_functions)"
   ]
  },
  {
   "cell_type": "code",
   "execution_count": 3,
   "metadata": {},
   "outputs": [],
   "source": [
    "# cleaning the columns : changing the columns headers to correct format\n",
    "# for more information about this function --> cf project_functions.py notebook\n",
    "clean_my_columns = project_functions.clean_my_columns"
   ]
  },
  {
   "cell_type": "markdown",
   "metadata": {},
   "source": [
    "Now, we 'instance' our dataframes so we precise to Python to read them:"
   ]
  },
  {
   "cell_type": "code",
   "execution_count": 11,
   "metadata": {},
   "outputs": [],
   "source": [
    "# Cargar el dataset demografic\n",
    "df_pt1 = pd.read_csv('raw_data/df_final_web_data_pt_1.txt')\n",
    "df_pt2 = pd.read_csv('raw_data/df_final_web_data_pt_2.txt')\n",
    "df_users = pd.read_csv('raw_data/df_final_demo.txt')\n",
    "df_exp =pd.read_csv('raw_data/df_final_experiment_clients.txt')"
   ]
  },
  {
   "cell_type": "markdown",
   "metadata": {},
   "source": [
    "We apply column titles cleaning to every dataframe"
   ]
  },
  {
   "cell_type": "code",
   "execution_count": null,
   "metadata": {},
   "outputs": [],
   "source": [
    "clean_my_columns(df_exp)\n",
    "\n",
    "clean_my_columns(df_users)\n",
    "\n",
    "clean_my_columns(df_pt1)\n",
    "\n",
    "clean_my_columns(df_pt2)"
   ]
  },
  {
   "cell_type": "markdown",
   "metadata": {},
   "source": [
    "## 1.2 Looking at the datraframes"
   ]
  },
  {
   "cell_type": "markdown",
   "metadata": {},
   "source": [
    "### 1.2.0 Info about DF's"
   ]
  },
  {
   "cell_type": "code",
   "execution_count": null,
   "metadata": {},
   "outputs": [],
   "source": [
    "df_users.info(include='all')"
   ]
  },
  {
   "cell_type": "code",
   "execution_count": null,
   "metadata": {},
   "outputs": [],
   "source": [
    "df_exp.info(include='all')"
   ]
  },
  {
   "cell_type": "code",
   "execution_count": null,
   "metadata": {},
   "outputs": [],
   "source": [
    "df_pt1.info(include='all')"
   ]
  },
  {
   "cell_type": "code",
   "execution_count": null,
   "metadata": {},
   "outputs": [],
   "source": [
    "df_pt2.info(include='all')"
   ]
  },
  {
   "cell_type": "markdown",
   "metadata": {},
   "source": [
    "### 1.2.1 DF \"experiment participation\""
   ]
  },
  {
   "cell_type": "markdown",
   "metadata": {},
   "source": [
    "The exp dataframe states whether a client (client_id) is being redirected on the original version (control) or to the new version (test)"
   ]
  },
  {
   "cell_type": "code",
   "execution_count": null,
   "metadata": {},
   "outputs": [],
   "source": [
    "display(df_exp)\n",
    "df_exp.shape"
   ]
  },
  {
   "cell_type": "markdown",
   "metadata": {},
   "source": [
    "### 1.2.2 DF \"Clients' Demographic\""
   ]
  },
  {
   "cell_type": "code",
   "execution_count": null,
   "metadata": {},
   "outputs": [],
   "source": [
    "display(df_users)\n",
    "df_users.shape"
   ]
  },
  {
   "cell_type": "markdown",
   "metadata": {},
   "source": [
    "### 1.2.3 \"Footprints Data\" - 2 Tables"
   ]
  },
  {
   "cell_type": "code",
   "execution_count": null,
   "metadata": {},
   "outputs": [],
   "source": [
    "display(df_pt1.head())\n",
    "df_pt1.shape"
   ]
  },
  {
   "cell_type": "code",
   "execution_count": null,
   "metadata": {},
   "outputs": [],
   "source": [
    "display(df_pt2.head())\n",
    "df_pt2.shape"
   ]
  },
  {
   "cell_type": "markdown",
   "metadata": {},
   "source": [
    "## 1.3 Combining tables"
   ]
  },
  {
   "cell_type": "markdown",
   "metadata": {},
   "source": [
    "We're combining both group of tabless due to we have the same data columns within them."
   ]
  },
  {
   "cell_type": "markdown",
   "metadata": {},
   "source": [
    "### 1.3.1 Combining Footprints Tables:"
   ]
  },
  {
   "cell_type": "code",
   "execution_count": 15,
   "metadata": {},
   "outputs": [],
   "source": [
    "# Combining df_pt_1 and df_pt_2:\n",
    "df_footprint=pd.concat([df_pt1,df_pt2])"
   ]
  },
  {
   "cell_type": "code",
   "execution_count": null,
   "metadata": {},
   "outputs": [],
   "source": [
    "#Now we take a overview about the concatenated table\n",
    "display(df_footprint.head())\n",
    "\n",
    "print(f\"shape of pt1: {df_pt1.shape}\")\n",
    "print(f\"shape of pt2: {df_pt2.shape}\")\n",
    "print(f\"shape of the concat: {df_footprint.shape}\")"
   ]
  },
  {
   "cell_type": "markdown",
   "metadata": {},
   "source": [
    "Let's see how many unique clients we have data."
   ]
  },
  {
   "cell_type": "code",
   "execution_count": null,
   "metadata": {},
   "outputs": [],
   "source": [
    "# Number of clients\n",
    "df_footprint['client_id'].nunique()"
   ]
  },
  {
   "cell_type": "markdown",
   "metadata": {},
   "source": [
    "### 1.3.2 Combining Demo and Experiment tables"
   ]
  },
  {
   "cell_type": "markdown",
   "metadata": {},
   "source": [
    "Experiment a demo tables have the exactly same shape and they have client_id in common, soy we are going to merge them to have the second column from experiment as another variable in our big table \"demographics\". "
   ]
  },
  {
   "cell_type": "code",
   "execution_count": 19,
   "metadata": {},
   "outputs": [],
   "source": [
    "df_clients = df_users.merge(df_exp, on='client_id', how='left')"
   ]
  },
  {
   "cell_type": "code",
   "execution_count": null,
   "metadata": {},
   "outputs": [],
   "source": [
    "display(df_clients)\n",
    "df_clients.shape"
   ]
  },
  {
   "cell_type": "markdown",
   "metadata": {},
   "source": [
    "# 2. Cleaning Dataframes"
   ]
  },
  {
   "cell_type": "markdown",
   "metadata": {},
   "source": [
    "## 2.1 Cleaning Clients Table"
   ]
  },
  {
   "cell_type": "markdown",
   "metadata": {},
   "source": [
    "### 2.1.1 Duplicates"
   ]
  },
  {
   "cell_type": "code",
   "execution_count": 26,
   "metadata": {},
   "outputs": [
    {
     "name": "stdout",
     "output_type": "stream",
     "text": [
      "Empty DataFrame\n",
      "Columns: [client_id, clnt_tenure_yr, clnt_tenure_mnth, clnt_age, gendr, num_accts, bal, calls_6_mnth, logons_6_mnth, Variation]\n",
      "Index: []\n"
     ]
    }
   ],
   "source": [
    "# Let's check how many duplicated rows there are.\n",
    "duplicates_clients = df_clients.duplicated(keep=False)\n",
    "df_duplicates_clients = df_clients[duplicates_clients]\n",
    "\n",
    "print(df_duplicates_clients)"
   ]
  },
  {
   "cell_type": "code",
   "execution_count": null,
   "metadata": {},
   "outputs": [],
   "source": [
    "# Deleting all duplicates\n",
    "df_clients_nd = df_clients.drop_duplicates(keep=False)\n",
    "\n",
    "print(df_clients_nd)"
   ]
  },
  {
   "cell_type": "markdown",
   "metadata": {},
   "source": [
    "### 2.1.2 Nulls"
   ]
  },
  {
   "cell_type": "code",
   "execution_count": null,
   "metadata": {},
   "outputs": [],
   "source": [
    "missing_clients_data = df_clients_nd.isnull().sum()\n",
    "print(missing_clients_data)"
   ]
  },
  {
   "cell_type": "markdown",
   "metadata": {},
   "source": [
    "We procced to drop rows with nulls data (20109 rows)"
   ]
  },
  {
   "cell_type": "code",
   "execution_count": null,
   "metadata": {},
   "outputs": [],
   "source": [
    "df_clients_nd_nn = df_clients_nd.dropna()\n",
    "\n",
    "print(df_clients_nd_nn)"
   ]
  },
  {
   "cell_type": "markdown",
   "metadata": {},
   "source": [
    "### 2.1.3 Column client_id"
   ]
  },
  {
   "cell_type": "markdown",
   "metadata": {},
   "source": [
    "* Checking unique values"
   ]
  },
  {
   "cell_type": "code",
   "execution_count": 31,
   "metadata": {},
   "outputs": [
    {
     "data": {
      "text/plain": [
       "(50487, 10)"
      ]
     },
     "execution_count": 31,
     "metadata": {},
     "output_type": "execute_result"
    }
   ],
   "source": [
    "df_clients_nd_nn.shape"
   ]
  },
  {
   "cell_type": "code",
   "execution_count": 33,
   "metadata": {},
   "outputs": [
    {
     "data": {
      "text/plain": [
       "50487"
      ]
     },
     "execution_count": 33,
     "metadata": {},
     "output_type": "execute_result"
    }
   ],
   "source": [
    "df_clients_nd_nn['client_id'].nunique()"
   ]
  },
  {
   "cell_type": "markdown",
   "metadata": {},
   "source": [
    "Unique values for id_client is the same than shape, so we assume it is cleaned."
   ]
  },
  {
   "cell_type": "markdown",
   "metadata": {},
   "source": [
    "### 2.1.4 Column clnt_tenure_yr"
   ]
  },
  {
   "cell_type": "code",
   "execution_count": null,
   "metadata": {},
   "outputs": [],
   "source": [
    "display(df_clients_nd_nn['clnt_tenure_yr'])\n",
    "print(f\"Valor mínimo: {df_clients_nd_nn['clnt_tenure_yr'].min()}\")\n",
    "print(f\"Valor mínimo: {df_clients_nd_nn['clnt_tenure_yr'].max()}\")"
   ]
  },
  {
   "cell_type": "markdown",
   "metadata": {},
   "source": [
    "We change the column datatype:"
   ]
  },
  {
   "cell_type": "code",
   "execution_count": null,
   "metadata": {},
   "outputs": [],
   "source": [
    "df_clients_nd_nn['clnt_tenure_yr'] = df_clients_nd_nn['clnt_tenure_yr'].astype(int)"
   ]
  },
  {
   "cell_type": "code",
   "execution_count": null,
   "metadata": {},
   "outputs": [],
   "source": [
    "df_clients_nd_nn['clnt_tenure_yr'].unique()"
   ]
  },
  {
   "cell_type": "markdown",
   "metadata": {},
   "source": [
    "### 2.1.5 Column clnt_tenure_mnth"
   ]
  },
  {
   "cell_type": "code",
   "execution_count": null,
   "metadata": {},
   "outputs": [],
   "source": [
    "display(df_clients_nd_nn['clnt_tenure_yr'])\n",
    "print(f\"Valor mínimo: {df_clients_nd_nn['clnt_tenure_yr'].min()}\")\n",
    "print(f\"Valor mínimo: {df_clients_nd_nn['clnt_tenure_yr'].max()}\")"
   ]
  },
  {
   "cell_type": "markdown",
   "metadata": {},
   "source": [
    "We change the column datatype:"
   ]
  },
  {
   "cell_type": "code",
   "execution_count": null,
   "metadata": {},
   "outputs": [],
   "source": [
    "df_clients_nd_nn['clnt_tenure_mnth'] = df_clients_nd_nn['clnt_tenure_mnth'].astype(int)"
   ]
  },
  {
   "cell_type": "code",
   "execution_count": null,
   "metadata": {},
   "outputs": [],
   "source": [
    "df_clients_nd_nn['clnt_tenure_mnth'].unique()"
   ]
  },
  {
   "cell_type": "markdown",
   "metadata": {},
   "source": [
    "Let's see if moonths and years of tenure are coherent. "
   ]
  },
  {
   "cell_type": "code",
   "execution_count": null,
   "metadata": {},
   "outputs": [],
   "source": [
    "# Comprobamos si hay filas donde los meses son mayores o iguales a 12 pero no coinciden con los años\n",
    "df_inconsistencias = df_clients_nd_nn[(df_clients_nd_nn['clnt_tenure_mnth'] >= 12) & (df_clients_nd_nn['clnt_tenure_yr'] != df_clients_nd_nn['clnt_tenure_mnth'] // 12)]\n",
    "\n",
    "# Mostrar filas con inconsistencias\n",
    "print(df_inconsistencias)"
   ]
  },
  {
   "cell_type": "markdown",
   "metadata": {},
   "source": [
    "Let's drop that inconsistences:"
   ]
  },
  {
   "cell_type": "code",
   "execution_count": 43,
   "metadata": {},
   "outputs": [],
   "source": [
    "df_clients_nd_nn_in = df_clients_nd_nn.drop(df_inconsistencias.index)"
   ]
  },
  {
   "cell_type": "markdown",
   "metadata": {},
   "source": [
    "### 2.1.6 Column client_age"
   ]
  },
  {
   "cell_type": "code",
   "execution_count": null,
   "metadata": {},
   "outputs": [],
   "source": [
    "display(df_clients_nd_nn_in['clnt_age'])\n",
    "print(f\"Valor mínimo: {df_clients_nd_nn_in['clnt_age'].min()}\")\n",
    "print(f\"Valor máximo: {df_clients_nd_nn_in['clnt_age'].max()}\")"
   ]
  },
  {
   "cell_type": "markdown",
   "metadata": {},
   "source": [
    "We round the client's age.We add the column."
   ]
  },
  {
   "cell_type": "code",
   "execution_count": 44,
   "metadata": {},
   "outputs": [],
   "source": [
    "df_clients_nd_nn_in['edad_redondeada'] = df_clients_nd_nn_in['clnt_age'].round()"
   ]
  },
  {
   "cell_type": "markdown",
   "metadata": {},
   "source": [
    "Let's graph ages"
   ]
  },
  {
   "cell_type": "code",
   "execution_count": null,
   "metadata": {},
   "outputs": [],
   "source": [
    "# Supongamos que tu DataFrame tiene una columna llamada 'edad'\n",
    "df_clients_nd_nn_in['edad_redondeada'].value_counts().sort_index().plot(kind='bar', figsize=(10,6))\n",
    "\n",
    "# Añadir título y etiquetas\n",
    "plt.title('Distribución de Edades de los Clientes')\n",
    "plt.xlabel('Edad')\n",
    "plt.ylabel('Número de Clientes')\n",
    "\n",
    "# Mostrar el gráfico\n",
    "plt.show()"
   ]
  },
  {
   "cell_type": "markdown",
   "metadata": {},
   "source": [
    "### 2.1.7 Column gender"
   ]
  },
  {
   "cell_type": "code",
   "execution_count": 45,
   "metadata": {},
   "outputs": [],
   "source": [
    "display(df_clients_nd_nn_in['gendr'])\n",
    "print(f\"Valor mínimo: {df_clients_nd_nn_in['gendr'].min()}\")\n",
    "print(f\"Valor máximo: {df_clients_nd_nn_in['gendr'].max()}\")"
   ]
  },
  {
   "cell_type": "markdown",
   "metadata": {},
   "source": [
    "Check unique values"
   ]
  },
  {
   "cell_type": "code",
   "execution_count": null,
   "metadata": {},
   "outputs": [],
   "source": [
    "unique_genders = df_clients_nd_nn_in['gendr'].unique()\n",
    "count_genders = df_clients_nd_nn_in['gendr'].value_counts()\n",
    "print(\"\\nValores únicos en la columna 'gendr':\")\n",
    "print(unique_genders)\n",
    "print(count_genders)"
   ]
  },
  {
   "cell_type": "markdown",
   "metadata": {},
   "source": [
    "Let's replace X by U in those 2 values with X gender. "
   ]
  },
  {
   "cell_type": "code",
   "execution_count": 46,
   "metadata": {},
   "outputs": [],
   "source": [
    "df_clients_nd_nn_in['gendr'] = df_clients_nd_nn_in['gendr'].replace('X', 'U')"
   ]
  },
  {
   "cell_type": "code",
   "execution_count": 47,
   "metadata": {},
   "outputs": [],
   "source": [
    "# In case you wannna drop those.\n",
    "# df_clients_nd_nn_in_gdr = df_clients_nd_nn_in[df_clients_nd_nn_in['gendr'] != 'X']"
   ]
  },
  {
   "cell_type": "markdown",
   "metadata": {},
   "source": [
    "### 2.1.8 Column num_accts"
   ]
  },
  {
   "cell_type": "code",
   "execution_count": null,
   "metadata": {},
   "outputs": [],
   "source": [
    "display(df_clients_nd_nn_in['num_accts'])\n",
    "print(f\"Valor mínimo: {df_clients_nd_nn_in['num_accts'].min()}\")\n",
    "print(f\"Valor máximo: {df_clients_nd_nn_in['num_accts'].max()}\")"
   ]
  },
  {
   "cell_type": "markdown",
   "metadata": {},
   "source": [
    "We change the column datatype:"
   ]
  },
  {
   "cell_type": "code",
   "execution_count": 49,
   "metadata": {},
   "outputs": [],
   "source": [
    "df_clients_nd_nn_in['num_accts'] = df_clients_nd_nn_in['num_accts'].astype(int)"
   ]
  },
  {
   "cell_type": "code",
   "execution_count": null,
   "metadata": {},
   "outputs": [],
   "source": [
    "df_clients_nd_nn_in['num_accts'].value_counts()"
   ]
  },
  {
   "cell_type": "markdown",
   "metadata": {},
   "source": [
    "### 2.1.9 Column bal"
   ]
  },
  {
   "cell_type": "code",
   "execution_count": null,
   "metadata": {},
   "outputs": [],
   "source": [
    "display(df_clients_nd_nn_in['num_accts'])\n",
    "print(f\"Valor mínimo: {df_clients_nd_nn_in['num_accts'].min()}\")\n",
    "print(f\"Valor máximo: {df_clients_nd_nn_in['num_accts'].max()}\")"
   ]
  },
  {
   "cell_type": "code",
   "execution_count": null,
   "metadata": {},
   "outputs": [],
   "source": [
    "df_clients_nd_nn_in['num_accts'].value_counts()"
   ]
  },
  {
   "cell_type": "markdown",
   "metadata": {},
   "source": [
    "### 2.1.10 Column calls_6_month"
   ]
  },
  {
   "cell_type": "code",
   "execution_count": null,
   "metadata": {},
   "outputs": [],
   "source": [
    "display(df_clients_nd_nn_in['calls_6_mnth'])\n",
    "print(f\"Valor mínimo: {df_clients_nd_nn_in['calls_6_mnth'].min()}\")\n",
    "print(f\"Valor máximo: {df_clients_nd_nn_in['calls_6_mnth'].max()}\")"
   ]
  },
  {
   "cell_type": "code",
   "execution_count": null,
   "metadata": {},
   "outputs": [],
   "source": [
    "df_clients_nd_nn_in['calls_6_mnth'].value_counts()"
   ]
  },
  {
   "cell_type": "markdown",
   "metadata": {},
   "source": [
    "Let's turn into int"
   ]
  },
  {
   "cell_type": "code",
   "execution_count": 54,
   "metadata": {},
   "outputs": [],
   "source": [
    "df_clients_nd_nn_in['calls_6_mnth'] = df_clients_nd_nn_in['calls_6_mnth'].astype(int)"
   ]
  },
  {
   "cell_type": "markdown",
   "metadata": {},
   "source": [
    "### 2.1.11 Column logons_6_mnth"
   ]
  },
  {
   "cell_type": "code",
   "execution_count": null,
   "metadata": {},
   "outputs": [],
   "source": [
    "display(df_clients_nd_nn_in['logons_6_mnth'])\n",
    "print(f\"Valor mínimo: {df_clients_nd_nn_in['logons_6_mnth'].min()}\")\n",
    "print(f\"Valor máximo: {df_clients_nd_nn_in['logons_6_mnth'].max()}\")"
   ]
  },
  {
   "cell_type": "code",
   "execution_count": null,
   "metadata": {},
   "outputs": [],
   "source": [
    "df_clients_nd_nn_in['logons_6_mnth'].value_counts()"
   ]
  },
  {
   "cell_type": "code",
   "execution_count": 57,
   "metadata": {},
   "outputs": [],
   "source": [
    "df_clients_nd_nn_in['logons_6_mnth'] = df_clients_nd_nn_in['logons_6_mnth'].astype(int)"
   ]
  },
  {
   "cell_type": "markdown",
   "metadata": {},
   "source": [
    "## 2.2 Cleaning Footprints Table"
   ]
  },
  {
   "cell_type": "markdown",
   "metadata": {},
   "source": [
    "### 2.2.1 Duplicates"
   ]
  },
  {
   "cell_type": "code",
   "execution_count": null,
   "metadata": {},
   "outputs": [],
   "source": [
    "# Let's check how many duplicated rows there are.\n",
    "duplicates = df_footprint.duplicated(keep=False)\n",
    "df_duplicates = df_footprint[duplicates]\n",
    "\n",
    "print(df_duplicates)"
   ]
  },
  {
   "cell_type": "code",
   "execution_count": null,
   "metadata": {},
   "outputs": [],
   "source": [
    "# Deleting all duplicates\n",
    "df_footprint_nd = df_footprint.drop_duplicates(keep=False)\n",
    "\n",
    "print(df_footprint_nd)"
   ]
  },
  {
   "cell_type": "markdown",
   "metadata": {},
   "source": [
    "### 2.2.2 Drop Clients not in experiment"
   ]
  },
  {
   "cell_type": "code",
   "execution_count": null,
   "metadata": {},
   "outputs": [],
   "source": [
    "#create list of client_ids: \n",
    "clients_list = list(df_clients['client_id'])\n",
    "clients_list"
   ]
  },
  {
   "cell_type": "markdown",
   "metadata": {},
   "source": [
    "Because we need to put an eye only in the clients who we know are in the experiment (so, the list of clients in df_clients), we are deleting the rest of clients. "
   ]
  },
  {
   "cell_type": "code",
   "execution_count": null,
   "metadata": {},
   "outputs": [],
   "source": [
    "#creating new dataframe with footprints only with clients from clients list\n",
    "df_sample_fp = df_footprint_nd.loc[df_footprint_nd['client_id'].isin(clients_list)]\n",
    "\n",
    "df_sample_fp.shape"
   ]
  },
  {
   "cell_type": "markdown",
   "metadata": {},
   "source": [
    "### 2.2.3 Nulls"
   ]
  },
  {
   "cell_type": "markdown",
   "metadata": {},
   "source": [
    "Let's see now if we have nulls values"
   ]
  },
  {
   "cell_type": "code",
   "execution_count": null,
   "metadata": {},
   "outputs": [],
   "source": [
    "missing_data = df_footprint_nd.isnull().sum()\n",
    "print(missing_data)"
   ]
  },
  {
   "cell_type": "markdown",
   "metadata": {},
   "source": [
    "# Para comprobar si hay datos atípicos en la columna clnt_age, puedes calcular los límites intercuartílicos (IQR). "
   ]
  },
  {
   "cell_type": "code",
   "execution_count": 77,
   "metadata": {},
   "outputs": [
    {
     "name": "stdout",
     "output_type": "stream",
     "text": [
      "Cantidad de valores atípicos en clnt_age: 0\n"
     ]
    }
   ],
   "source": [
    "# Calcular Q1 (primer cuartil) y Q3 (tercer cuartil)\n",
    "Q1 = df_demo['clnt_age'].quantile(0.25)\n",
    "Q3 = df_demo['clnt_age'].quantile(0.75)\n",
    "IQR = Q3 - Q1\n",
    "\n",
    "# Definir límites inferior y superior\n",
    "lower_bound = Q1 - 1.5 * IQR\n",
    "upper_bound = Q3 + 1.5 * IQR\n",
    "\n",
    "# Identificar valores atípicos\n",
    "outliers = df_demo[(df_demo['clnt_age'] < lower_bound) | (df_demo['clnt_age'] > upper_bound)]\n",
    "\n",
    "# Mostrar cantidad de valores atípicos\n",
    "print(f'Cantidad de valores atípicos en clnt_age: {outliers.shape[0]}')\n"
   ]
  },
  {
   "cell_type": "markdown",
   "metadata": {},
   "source": [
    "##  Análisis de la Demografía de los Clientes"
   ]
  },
  {
   "cell_type": "code",
   "execution_count": 78,
   "metadata": {},
   "outputs": [
    {
     "data": {
      "text/plain": [
       "(count    70591.000000\n",
       " mean        46.442542\n",
       " std         15.591381\n",
       " min         13.500000\n",
       " 25%         32.500000\n",
       " 50%         47.000000\n",
       " 75%         59.000000\n",
       " max         96.000000\n",
       " Name: clnt_age, dtype: float64,\n",
       " gendr\n",
       " U    24122\n",
       " M    23724\n",
       " F    22745\n",
       " Name: count, dtype: int64,\n",
       " num_accts\n",
       " 2.0    55494\n",
       " 3.0    12528\n",
       " 4.0     2241\n",
       " 5.0      284\n",
       " 6.0       33\n",
       " 7.0        8\n",
       " 1.0        2\n",
       " 8.0        1\n",
       " Name: count, dtype: int64)"
      ]
     },
     "execution_count": 78,
     "metadata": {},
     "output_type": "execute_result"
    }
   ],
   "source": [
    "import pandas as pd\n",
    "\n",
    "# Cargar el DataFrame (si no está cargado)\n",
    "# df_demo = pd.read_csv('ruta_al_archivo.csv')\n",
    "\n",
    "# Análisis de la edad de los clientes\n",
    "age_distribution = df_demo['clnt_age'].describe()\n",
    "\n",
    "# Distribución de género\n",
    "gender_distribution = df_demo['gendr'].value_counts()\n",
    "\n",
    "# Número de cuentas por cliente\n",
    "account_distribution = df_demo['num_accts'].value_counts()\n",
    "\n",
    "age_distribution, gender_distribution, account_distribution\n"
   ]
  },
  {
   "cell_type": "code",
   "execution_count": 79,
   "metadata": {},
   "outputs": [
    {
     "data": {
      "text/plain": [
       "(46.442542250428524,\n",
       " 12.053108753240497,\n",
       "       clnt_tenure_yr  clnt_age  counts\n",
       " 0                2.0      14.5       1\n",
       " 1                2.0      17.0       1\n",
       " 2                2.0      18.5       2\n",
       " 3                2.0      19.5       1\n",
       " 4                2.0      21.5       1\n",
       " ...              ...       ...     ...\n",
       " 4345            55.0      67.0       1\n",
       " 4346            55.0      68.0       1\n",
       " 4347            55.0      72.0       1\n",
       " 4348            55.0      78.0       1\n",
       " 4349            62.0      51.0       1\n",
       " \n",
       " [4350 rows x 3 columns])"
      ]
     },
     "execution_count": 79,
     "metadata": {},
     "output_type": "execute_result"
    }
   ],
   "source": [
    "# Edad promedio\n",
    "average_age = df_demo['clnt_age'].mean()\n",
    "\n",
    "# Tenencia promedio\n",
    "average_tenure = df_demo['clnt_tenure_yr'].mean()\n",
    "\n",
    "# Agrupar por edad y tenencia\n",
    "age_tenure_analysis = df_demo.groupby(['clnt_tenure_yr', 'clnt_age']).size().reset_index(name='counts')\n",
    "\n",
    "average_age, average_tenure, age_tenure_analysis\n"
   ]
  },
  {
   "cell_type": "code",
   "execution_count": 80,
   "metadata": {},
   "outputs": [
    {
     "name": "stderr",
     "output_type": "stream",
     "text": [
      "C:\\Users\\Usuario\\AppData\\Local\\Temp\\ipykernel_120500\\287947343.py:5: FutureWarning: The default of observed=False is deprecated and will be changed to True in a future version of pandas. Pass observed=False to retain current behavior or observed=True to adopt the future default and silence this warning.\n",
      "  call_login_analysis = df_demo.groupby(pd.cut(df_demo['bal'], bins=[0, 100000, 500000, 1000000, 10000000])).agg({'calls_6_mnth': 'mean', 'logons_6_mnth': 'mean'})\n"
     ]
    },
    {
     "data": {
      "text/plain": [
       "(          clnt_age       bal\n",
       " clnt_age  1.000000  0.209545\n",
       " bal       0.209545  1.000000,\n",
       "                      calls_6_mnth  logons_6_mnth\n",
       " bal                                             \n",
       " (0, 100000]              3.053574       5.207998\n",
       " (100000, 500000]         3.902361       6.150634\n",
       " (500000, 1000000]        4.567957       6.771071\n",
       " (1000000, 10000000]      4.882653       7.113946)"
      ]
     },
     "execution_count": 80,
     "metadata": {},
     "output_type": "execute_result"
    }
   ],
   "source": [
    "# Análisis de saldo en función de la edad\n",
    "age_balance_correlation = df_demo[['clnt_age', 'bal']].corr()\n",
    "\n",
    "# Promedio de llamadas y logins por grupo de saldo\n",
    "call_login_analysis = df_demo.groupby(pd.cut(df_demo['bal'], bins=[0, 100000, 500000, 1000000, 10000000])).agg({'calls_6_mnth': 'mean', 'logons_6_mnth': 'mean'})\n",
    "\n",
    "age_balance_correlation, call_login_analysis\n"
   ]
  },
  {
   "cell_type": "code",
   "execution_count": 81,
   "metadata": {},
   "outputs": [
    {
     "name": "stdout",
     "output_type": "stream",
     "text": [
      "Correlación entre Edad y Número de Cuentas: -0.017708400750834206\n"
     ]
    }
   ],
   "source": [
    "correlation_age_accounts = df_demo['clnt_age'].corr(df_demo['num_accts'])\n",
    "print(\"Correlación entre Edad y Número de Cuentas:\", correlation_age_accounts)\n"
   ]
  },
  {
   "cell_type": "code",
   "execution_count": 82,
   "metadata": {},
   "outputs": [
    {
     "name": "stdout",
     "output_type": "stream",
     "text": [
      "age_group\n",
      "Joven      2.264922\n",
      "Adulto     2.263316\n",
      "Mayor      2.254641\n",
      "Anciano    2.238759\n",
      "Name: num_accts, dtype: float64\n"
     ]
    },
    {
     "name": "stderr",
     "output_type": "stream",
     "text": [
      "C:\\Users\\Usuario\\AppData\\Local\\Temp\\ipykernel_120500\\218544797.py:5: FutureWarning: The default of observed=False is deprecated and will be changed to True in a future version of pandas. Pass observed=False to retain current behavior or observed=True to adopt the future default and silence this warning.\n",
      "  avg_accounts_by_age_group = df_demo.groupby('age_group')['num_accts'].mean()\n"
     ]
    }
   ],
   "source": [
    "age_bins = [0, 30, 45, 60, 100]\n",
    "age_labels = ['Joven', 'Adulto', 'Mayor', 'Anciano']\n",
    "df_demo['age_group'] = pd.cut(df_demo['clnt_age'], bins=age_bins, labels=age_labels)\n",
    "\n",
    "avg_accounts_by_age_group = df_demo.groupby('age_group')['num_accts'].mean()\n",
    "print(avg_accounts_by_age_group)\n"
   ]
  },
  {
   "cell_type": "code",
   "execution_count": 83,
   "metadata": {},
   "outputs": [
    {
     "data": {
      "text/html": [
       "<div>\n",
       "<style scoped>\n",
       "    .dataframe tbody tr th:only-of-type {\n",
       "        vertical-align: middle;\n",
       "    }\n",
       "\n",
       "    .dataframe tbody tr th {\n",
       "        vertical-align: top;\n",
       "    }\n",
       "\n",
       "    .dataframe thead th {\n",
       "        text-align: right;\n",
       "    }\n",
       "</style>\n",
       "<table border=\"1\" class=\"dataframe\">\n",
       "  <thead>\n",
       "    <tr style=\"text-align: right;\">\n",
       "      <th></th>\n",
       "      <th></th>\n",
       "      <th>count</th>\n",
       "      <th>mean</th>\n",
       "      <th>std</th>\n",
       "      <th>min</th>\n",
       "      <th>25%</th>\n",
       "      <th>50%</th>\n",
       "      <th>75%</th>\n",
       "      <th>max</th>\n",
       "    </tr>\n",
       "    <tr>\n",
       "      <th>clnt_age</th>\n",
       "      <th>gendr</th>\n",
       "      <th></th>\n",
       "      <th></th>\n",
       "      <th></th>\n",
       "      <th></th>\n",
       "      <th></th>\n",
       "      <th></th>\n",
       "      <th></th>\n",
       "      <th></th>\n",
       "    </tr>\n",
       "  </thead>\n",
       "  <tbody>\n",
       "    <tr>\n",
       "      <th>13.5</th>\n",
       "      <th>U</th>\n",
       "      <td>1.0</td>\n",
       "      <td>24435.08</td>\n",
       "      <td>NaN</td>\n",
       "      <td>24435.08</td>\n",
       "      <td>24435.0800</td>\n",
       "      <td>24435.080</td>\n",
       "      <td>24435.0800</td>\n",
       "      <td>24435.08</td>\n",
       "    </tr>\n",
       "    <tr>\n",
       "      <th rowspan=\"2\" valign=\"top\">14.0</th>\n",
       "      <th>F</th>\n",
       "      <td>1.0</td>\n",
       "      <td>16989.14</td>\n",
       "      <td>NaN</td>\n",
       "      <td>16989.14</td>\n",
       "      <td>16989.1400</td>\n",
       "      <td>16989.140</td>\n",
       "      <td>16989.1400</td>\n",
       "      <td>16989.14</td>\n",
       "    </tr>\n",
       "    <tr>\n",
       "      <th>U</th>\n",
       "      <td>1.0</td>\n",
       "      <td>19945.35</td>\n",
       "      <td>NaN</td>\n",
       "      <td>19945.35</td>\n",
       "      <td>19945.3500</td>\n",
       "      <td>19945.350</td>\n",
       "      <td>19945.3500</td>\n",
       "      <td>19945.35</td>\n",
       "    </tr>\n",
       "    <tr>\n",
       "      <th rowspan=\"2\" valign=\"top\">14.5</th>\n",
       "      <th>F</th>\n",
       "      <td>3.0</td>\n",
       "      <td>17103.58</td>\n",
       "      <td>1781.543845</td>\n",
       "      <td>15048.83</td>\n",
       "      <td>16546.8800</td>\n",
       "      <td>18044.930</td>\n",
       "      <td>18130.9550</td>\n",
       "      <td>18216.98</td>\n",
       "    </tr>\n",
       "    <tr>\n",
       "      <th>M</th>\n",
       "      <td>4.0</td>\n",
       "      <td>23983.90</td>\n",
       "      <td>7106.456638</td>\n",
       "      <td>15487.91</td>\n",
       "      <td>19442.9675</td>\n",
       "      <td>25116.555</td>\n",
       "      <td>29657.4875</td>\n",
       "      <td>30214.58</td>\n",
       "    </tr>\n",
       "    <tr>\n",
       "      <th>...</th>\n",
       "      <th>...</th>\n",
       "      <td>...</td>\n",
       "      <td>...</td>\n",
       "      <td>...</td>\n",
       "      <td>...</td>\n",
       "      <td>...</td>\n",
       "      <td>...</td>\n",
       "      <td>...</td>\n",
       "      <td>...</td>\n",
       "    </tr>\n",
       "    <tr>\n",
       "      <th>94.0</th>\n",
       "      <th>U</th>\n",
       "      <td>3.0</td>\n",
       "      <td>394455.75</td>\n",
       "      <td>485296.364159</td>\n",
       "      <td>58162.77</td>\n",
       "      <td>116286.6300</td>\n",
       "      <td>174410.490</td>\n",
       "      <td>562602.2400</td>\n",
       "      <td>950793.99</td>\n",
       "    </tr>\n",
       "    <tr>\n",
       "      <th>94.5</th>\n",
       "      <th>U</th>\n",
       "      <td>1.0</td>\n",
       "      <td>108825.59</td>\n",
       "      <td>NaN</td>\n",
       "      <td>108825.59</td>\n",
       "      <td>108825.5900</td>\n",
       "      <td>108825.590</td>\n",
       "      <td>108825.5900</td>\n",
       "      <td>108825.59</td>\n",
       "    </tr>\n",
       "    <tr>\n",
       "      <th>95.5</th>\n",
       "      <th>F</th>\n",
       "      <td>1.0</td>\n",
       "      <td>43471.96</td>\n",
       "      <td>NaN</td>\n",
       "      <td>43471.96</td>\n",
       "      <td>43471.9600</td>\n",
       "      <td>43471.960</td>\n",
       "      <td>43471.9600</td>\n",
       "      <td>43471.96</td>\n",
       "    </tr>\n",
       "    <tr>\n",
       "      <th rowspan=\"2\" valign=\"top\">96.0</th>\n",
       "      <th>M</th>\n",
       "      <td>1.0</td>\n",
       "      <td>36297.66</td>\n",
       "      <td>NaN</td>\n",
       "      <td>36297.66</td>\n",
       "      <td>36297.6600</td>\n",
       "      <td>36297.660</td>\n",
       "      <td>36297.6600</td>\n",
       "      <td>36297.66</td>\n",
       "    </tr>\n",
       "    <tr>\n",
       "      <th>U</th>\n",
       "      <td>1.0</td>\n",
       "      <td>94240.29</td>\n",
       "      <td>NaN</td>\n",
       "      <td>94240.29</td>\n",
       "      <td>94240.2900</td>\n",
       "      <td>94240.290</td>\n",
       "      <td>94240.2900</td>\n",
       "      <td>94240.29</td>\n",
       "    </tr>\n",
       "  </tbody>\n",
       "</table>\n",
       "<p>481 rows × 8 columns</p>\n",
       "</div>"
      ],
      "text/plain": [
       "                count       mean            std        min          25%  \\\n",
       "clnt_age gendr                                                            \n",
       "13.5     U        1.0   24435.08            NaN   24435.08   24435.0800   \n",
       "14.0     F        1.0   16989.14            NaN   16989.14   16989.1400   \n",
       "         U        1.0   19945.35            NaN   19945.35   19945.3500   \n",
       "14.5     F        3.0   17103.58    1781.543845   15048.83   16546.8800   \n",
       "         M        4.0   23983.90    7106.456638   15487.91   19442.9675   \n",
       "...               ...        ...            ...        ...          ...   \n",
       "94.0     U        3.0  394455.75  485296.364159   58162.77  116286.6300   \n",
       "94.5     U        1.0  108825.59            NaN  108825.59  108825.5900   \n",
       "95.5     F        1.0   43471.96            NaN   43471.96   43471.9600   \n",
       "96.0     M        1.0   36297.66            NaN   36297.66   36297.6600   \n",
       "         U        1.0   94240.29            NaN   94240.29   94240.2900   \n",
       "\n",
       "                       50%          75%        max  \n",
       "clnt_age gendr                                      \n",
       "13.5     U       24435.080   24435.0800   24435.08  \n",
       "14.0     F       16989.140   16989.1400   16989.14  \n",
       "         U       19945.350   19945.3500   19945.35  \n",
       "14.5     F       18044.930   18130.9550   18216.98  \n",
       "         M       25116.555   29657.4875   30214.58  \n",
       "...                    ...          ...        ...  \n",
       "94.0     U      174410.490  562602.2400  950793.99  \n",
       "94.5     U      108825.590  108825.5900  108825.59  \n",
       "95.5     F       43471.960   43471.9600   43471.96  \n",
       "96.0     M       36297.660   36297.6600   36297.66  \n",
       "         U       94240.290   94240.2900   94240.29  \n",
       "\n",
       "[481 rows x 8 columns]"
      ]
     },
     "execution_count": 83,
     "metadata": {},
     "output_type": "execute_result"
    }
   ],
   "source": [
    "demographics_balance = df_demo.groupby(['clnt_age', 'gendr'])['bal'].describe()\n",
    "demographics_balance\n"
   ]
  },
  {
   "cell_type": "markdown",
   "metadata": {},
   "source": []
  }
 ],
 "metadata": {
  "kernelspec": {
   "display_name": "Python 3",
   "language": "python",
   "name": "python3"
  },
  "language_info": {
   "codemirror_mode": {
    "name": "ipython",
    "version": 3
   },
   "file_extension": ".py",
   "mimetype": "text/x-python",
   "name": "python",
   "nbconvert_exporter": "python",
   "pygments_lexer": "ipython3",
   "version": "3.11.9"
  }
 },
 "nbformat": 4,
 "nbformat_minor": 4
}
