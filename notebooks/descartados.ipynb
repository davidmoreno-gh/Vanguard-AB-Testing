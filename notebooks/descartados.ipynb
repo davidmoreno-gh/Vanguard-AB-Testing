{
 "cells": [
  {
   "cell_type": "markdown",
   "metadata": {},
   "source": [
    "# 9. nO CORRER Otros"
   ]
  },
  {
   "cell_type": "markdown",
   "metadata": {},
   "source": [
    "## 9.1 Explicación KDE"
   ]
  },
  {
   "cell_type": "markdown",
   "metadata": {},
   "source": [
    "Currently, we have the meaning of each column (variable) that we show here below: \n",
    "\n",
    "* client_id: Every client’s unique ID.\n",
    "* variation: Indicates if a client was part of the experiment.\n",
    "* visitor_id: A unique ID for each client-device combination.\n",
    "* visit_id: A unique ID for each web visit/session.\n",
    "* process_step: Marks each step in the digital process.\n",
    "* date_time: Timestamp of each web activity.\n",
    "* clnt_tenure_yr: Represents how long the client has been with Vanguard, measured in years.\n",
    "* clnt_tenure_mnth: Further breaks down the client’s tenure with Vanguard in months.\n",
    "* clnt_age: Indicates the age of the client.\n",
    "* gendr: Specifies the client’s gender.\n",
    "* num_accts: Denotes the number of accounts the client holds with Vanguard.\n",
    "* bal: Gives the total balance spread across all accounts for a particular client.\n",
    "* calls_6_mnth: Records the number of times the client reached out over a call in the past six months.\n",
    "* logons_6_mnth: The frequency with which the client logged onto Vanguard’s platform over the last six months"
   ]
  },
  {
   "cell_type": "markdown",
   "metadata": {},
   "source": [
    "## 9.2 Análisis de la demografía de los clientes"
   ]
  },
  {
   "cell_type": "code",
   "execution_count": null,
   "metadata": {},
   "outputs": [],
   "source": [
    "# Análisis de la edad de los clientes\n",
    "age_distribution = df_demo['clnt_age'].describe()\n",
    "\n",
    "# Distribución de género\n",
    "gender_distribution = df_demo['gendr'].value_counts()\n",
    "\n",
    "# Número de cuentas por cliente\n",
    "account_distribution = df_demo['num_accts'].value_counts()\n",
    "\n",
    "age_distribution, gender_distribution, account_distribution"
   ]
  },
  {
   "cell_type": "code",
   "execution_count": null,
   "metadata": {},
   "outputs": [],
   "source": [
    "# Edad promedio\n",
    "average_age = df_demo['clnt_age'].mean()\n",
    "\n",
    "# Tenencia promedio\n",
    "average_tenure = df_demo['clnt_tenure_yr'].mean()\n",
    "\n",
    "# Agrupar por edad y tenencia\n",
    "age_tenure_analysis = df_demo.groupby(['clnt_tenure_yr', 'clnt_age']).size().reset_index(name='counts')\n",
    "\n",
    "average_age, average_tenure, age_tenure_analysis"
   ]
  },
  {
   "cell_type": "code",
   "execution_count": null,
   "metadata": {},
   "outputs": [],
   "source": [
    "# Análisis de saldo en función de la edad\n",
    "age_balance_correlation = df_demo[['clnt_age', 'bal']].corr()\n",
    "\n",
    "# Promedio de llamadas y logins por grupo de saldo\n",
    "call_login_analysis = df_demo.groupby(pd.cut(df_demo['bal'], bins=[0, 100000, 500000, 1000000, 10000000])).agg({'calls_6_mnth': 'mean', 'logons_6_mnth': 'mean'})\n",
    "\n",
    "age_balance_correlation, call_login_analysis"
   ]
  },
  {
   "cell_type": "code",
   "execution_count": null,
   "metadata": {},
   "outputs": [],
   "source": [
    "correlation_age_accounts = df_demo['clnt_age'].corr(df_demo['num_accts'])\n",
    "print(\"Correlación entre Edad y Número de Cuentas:\", correlation_age_accounts)"
   ]
  },
  {
   "cell_type": "code",
   "execution_count": null,
   "metadata": {},
   "outputs": [],
   "source": [
    "age_bins = [0, 30, 45, 60, 100]\n",
    "age_labels = ['Joven', 'Adulto', 'Mayor', 'Anciano']\n",
    "df_demo['age_group'] = pd.cut(df_demo['clnt_age'], bins=age_bins, labels=age_labels)\n",
    "\n",
    "avg_accounts_by_age_group = df_demo.groupby('age_group')['num_accts'].mean()\n",
    "print(avg_accounts_by_age_group)"
   ]
  },
  {
   "cell_type": "code",
   "execution_count": null,
   "metadata": {},
   "outputs": [],
   "source": [
    "demographics_balance = df_demo.groupby(['clnt_age', 'gendr'])['bal'].describe()\n",
    "demographics_balance"
   ]
  },
  {
   "cell_type": "markdown",
   "metadata": {},
   "source": [
    "411 Análisis por gender"
   ]
  },
  {
   "cell_type": "markdown",
   "metadata": {},
   "source": [
    "df_sample_client.groupby(['variation','gendr'])['client_id'].count()"
   ]
  },
  {
   "cell_type": "code",
   "execution_count": null,
   "metadata": {},
   "outputs": [],
   "source": [
    "df1 = df_sample_client.groupby(['variation','gendr'])['client_id'].count()"
   ]
  },
  {
   "cell_type": "markdown",
   "metadata": {},
   "source": [
    "promedio de llamadas y logins por grupo de saldo"
   ]
  },
  {
   "cell_type": "code",
   "execution_count": null,
   "metadata": {},
   "outputs": [],
   "source": [
    "# Promedio de llamadas y logins por grupo de saldo\n",
    "call_login_analysis = df_demo.groupby(pd.cut(df_demo['bal'], bins=[0, 100000, 500000, 1000000, 10000000])).agg({'calls_6_mnth': 'mean', 'logons_6_mnth': 'mean'})\n",
    "\n",
    "call_login_analysis"
   ]
  },
  {
   "cell_type": "markdown",
   "metadata": {},
   "source": [
    "# 10. (NO CORRER) Contraste de Hipótesis"
   ]
  },
  {
   "cell_type": "markdown",
   "metadata": {},
   "source": [
    "## 8.1 Prep"
   ]
  },
  {
   "cell_type": "code",
   "execution_count": null,
   "metadata": {},
   "outputs": [],
   "source": [
    "df_conv=pd.read_csv('../sol_data/df_conv.csv')\n",
    "df_error_counter=pd.read_csv(\"../sol_data/df_error_counter.csv\")"
   ]
  },
  {
   "cell_type": "code",
   "execution_count": null,
   "metadata": {},
   "outputs": [],
   "source": [
    "df_time= pd.read_csv(\"vanguard - process step diff and step time per client id, per visit_id.csv\")"
   ]
  },
  {
   "cell_type": "code",
   "execution_count": null,
   "metadata": {},
   "outputs": [
    {
     "data": {
      "text/html": [
       "<div>\n",
       "<style scoped>\n",
       "    .dataframe tbody tr th:only-of-type {\n",
       "        vertical-align: middle;\n",
       "    }\n",
       "\n",
       "    .dataframe tbody tr th {\n",
       "        vertical-align: top;\n",
       "    }\n",
       "\n",
       "    .dataframe thead th {\n",
       "        text-align: right;\n",
       "    }\n",
       "</style>\n",
       "<table border=\"1\" class=\"dataframe\">\n",
       "  <thead>\n",
       "    <tr style=\"text-align: right;\">\n",
       "      <th></th>\n",
       "      <th>Unnamed: 0</th>\n",
       "      <th>variation</th>\n",
       "      <th>conversion</th>\n",
       "      <th>total</th>\n",
       "      <th>proportion</th>\n",
       "      <th>prop*100</th>\n",
       "    </tr>\n",
       "  </thead>\n",
       "  <tbody>\n",
       "    <tr>\n",
       "      <th>0</th>\n",
       "      <td>0</td>\n",
       "      <td>control</td>\n",
       "      <td>6170.0</td>\n",
       "      <td>138038</td>\n",
       "      <td>0.044698</td>\n",
       "      <td>4.469784</td>\n",
       "    </tr>\n",
       "    <tr>\n",
       "      <th>1</th>\n",
       "      <td>1</td>\n",
       "      <td>test</td>\n",
       "      <td>11759.0</td>\n",
       "      <td>175866</td>\n",
       "      <td>0.066863</td>\n",
       "      <td>6.686341</td>\n",
       "    </tr>\n",
       "  </tbody>\n",
       "</table>\n",
       "</div>"
      ],
      "text/plain": [
       "   Unnamed: 0 variation  conversion   total  proportion  prop*100\n",
       "0           0   control      6170.0  138038    0.044698  4.469784\n",
       "1           1      test     11759.0  175866    0.066863  6.686341"
      ]
     },
     "metadata": {},
     "output_type": "display_data"
    }
   ],
   "source": [
    "df_error_counter"
   ]
  },
  {
   "cell_type": "markdown",
   "metadata": {},
   "source": [
    "## Z-test proportion test "
   ]
  },
  {
   "cell_type": "markdown",
   "metadata": {},
   "source": [
    "Based on https://towardsdatascience.com/a-b-testing-with-binary-data-two-sample-proportions-z-test-5c222d7772ad!"
   ]
  },
  {
   "cell_type": "code",
   "execution_count": null,
   "metadata": {},
   "outputs": [],
   "source": [
    "def create_df_ztest(df,stat):\n",
    "    pd.DataFrame({\n",
    "    'variation': ['control', 'test'], \n",
    "    'conversion': [\n",
    "        \n",
    "        sum(df[df['variation'] == 'Control'].stat),\n",
    "        sum(df[df['variation'] == 'Test'].stat)\n",
    "    ], \n",
    "  \n",
    "    'total': [\n",
    "\n",
    "        len(df[df['variation'] == 'Control']),\n",
    "        len(df[df['variation'] == 'Test'])],\n",
    "\n",
    "    'proportion':[\n",
    "        sum(df[df['variation'] == 'Control'].stat) / len(df[df['variation'] == 'Control']),\n",
    "        sum(df[df['variation'] == 'Test'].stat) / len(df[df['variation'] == 'Test'])\n",
    "    ]\n",
    "})"
   ]
  },
  {
   "cell_type": "code",
   "execution_count": null,
   "metadata": {},
   "outputs": [],
   "source": [
    "# create data frame with counts of conversion in test and control group with extra column with total counts per sample\n",
    "df_ztest = pd.DataFrame({\n",
    "    'variation': ['control', 'test'], \n",
    "    'conversion': [\n",
    "        \n",
    "        sum(df_conv[df_conv['variation'] == 'Control'].conversion),\n",
    "        sum(df_conv[df_conv['variation'] == 'Test'].conversion)\n",
    "    ], \n",
    "  \n",
    "    'total': [\n",
    "\n",
    "        len(df_conv[df_conv['variation'] == 'Control']),\n",
    "        len(df_conv[df_conv['variation'] == 'Test'])],\n",
    "\n",
    "    'proportion':[\n",
    "        sum(df_conv[df_conv['variation'] == 'Control'].conversion) / len(df_conv[df_conv['variation'] == 'Control']),\n",
    "        sum(df_conv[df_conv['variation'] == 'Test'].conversion) / len(df_conv[df_conv['variation'] == 'Test'])\n",
    "    ]\n",
    "})"
   ]
  },
  {
   "cell_type": "code",
   "execution_count": null,
   "metadata": {},
   "outputs": [
    {
     "data": {
      "text/html": [
       "<div>\n",
       "<style scoped>\n",
       "    .dataframe tbody tr th:only-of-type {\n",
       "        vertical-align: middle;\n",
       "    }\n",
       "\n",
       "    .dataframe tbody tr th {\n",
       "        vertical-align: top;\n",
       "    }\n",
       "\n",
       "    .dataframe thead th {\n",
       "        text-align: right;\n",
       "    }\n",
       "</style>\n",
       "<table border=\"1\" class=\"dataframe\">\n",
       "  <thead>\n",
       "    <tr style=\"text-align: right;\">\n",
       "      <th></th>\n",
       "      <th>variation</th>\n",
       "      <th>conversion</th>\n",
       "      <th>total</th>\n",
       "      <th>proportion</th>\n",
       "    </tr>\n",
       "  </thead>\n",
       "  <tbody>\n",
       "    <tr>\n",
       "      <th>0</th>\n",
       "      <td>control</td>\n",
       "      <td>14726</td>\n",
       "      <td>23307</td>\n",
       "      <td>0.631827</td>\n",
       "    </tr>\n",
       "    <tr>\n",
       "      <th>1</th>\n",
       "      <td>test</td>\n",
       "      <td>18259</td>\n",
       "      <td>26889</td>\n",
       "      <td>0.679051</td>\n",
       "    </tr>\n",
       "  </tbody>\n",
       "</table>\n",
       "</div>"
      ],
      "text/plain": [
       "  variation  conversion  total  proportion\n",
       "0   control       14726  23307    0.631827\n",
       "1      test       18259  26889    0.679051"
      ]
     },
     "metadata": {},
     "output_type": "display_data"
    }
   ],
   "source": [
    "df_ztest"
   ]
  },
  {
   "cell_type": "code",
   "execution_count": null,
   "metadata": {},
   "outputs": [
    {
     "data": {
      "text/html": [
       "<div>\n",
       "<style scoped>\n",
       "    .dataframe tbody tr th:only-of-type {\n",
       "        vertical-align: middle;\n",
       "    }\n",
       "\n",
       "    .dataframe tbody tr th {\n",
       "        vertical-align: top;\n",
       "    }\n",
       "\n",
       "    .dataframe thead th {\n",
       "        text-align: right;\n",
       "    }\n",
       "</style>\n",
       "<table border=\"1\" class=\"dataframe\">\n",
       "  <thead>\n",
       "    <tr style=\"text-align: right;\">\n",
       "      <th></th>\n",
       "      <th>Unnamed: 0</th>\n",
       "      <th>variation</th>\n",
       "      <th>conversion</th>\n",
       "      <th>total</th>\n",
       "      <th>proportion</th>\n",
       "      <th>prop*100</th>\n",
       "    </tr>\n",
       "  </thead>\n",
       "  <tbody>\n",
       "    <tr>\n",
       "      <th>0</th>\n",
       "      <td>0</td>\n",
       "      <td>control</td>\n",
       "      <td>6170.0</td>\n",
       "      <td>138038</td>\n",
       "      <td>0.044698</td>\n",
       "      <td>4.469784</td>\n",
       "    </tr>\n",
       "    <tr>\n",
       "      <th>1</th>\n",
       "      <td>1</td>\n",
       "      <td>test</td>\n",
       "      <td>11759.0</td>\n",
       "      <td>175866</td>\n",
       "      <td>0.066863</td>\n",
       "      <td>6.686341</td>\n",
       "    </tr>\n",
       "  </tbody>\n",
       "</table>\n",
       "</div>"
      ],
      "text/plain": [
       "   Unnamed: 0 variation  conversion   total  proportion  prop*100\n",
       "0           0   control      6170.0  138038    0.044698  4.469784\n",
       "1           1      test     11759.0  175866    0.066863  6.686341"
      ]
     },
     "metadata": {},
     "output_type": "display_data"
    }
   ],
   "source": [
    "df_error_counter"
   ]
  },
  {
   "cell_type": "code",
   "execution_count": null,
   "metadata": {},
   "outputs": [],
   "source": [
    "#run proportion test\n",
    "#proportions_ztest(count=[18333, 15201], nobs=[26959,23527], alternative='larger')"
   ]
  },
  {
   "cell_type": "code",
   "execution_count": null,
   "metadata": {},
   "outputs": [],
   "source": [
    "# Z-test definitions: \n",
    "\n",
    "# p1 = proportion of successes in sample 1 (control group)\n",
    "# p2 = proportion of successes in sample 2 (test group)\n",
    "\n",
    "# n1 = number of trials in sample 1\n",
    "# n2 = number of trials in sample 2\n",
    "\n",
    "#The null hypothesis states that there is no difference in the proportions, while \n",
    "#the alternative hypothesis says that proportion 1 is less than proportion 2. I.e., there is an effect of the new design.\n",
    "\n",
    "# H0: p1 = p2\n",
    "# H1: p1 < p2 (left-tailed test)"
   ]
  },
  {
   "cell_type": "code",
   "execution_count": null,
   "metadata": {},
   "outputs": [
    {
     "data": {
      "text/plain": [
       "548"
      ]
     },
     "metadata": {},
     "output_type": "display_data"
    }
   ],
   "source": [
    "# Estimate sample size for z-test\n",
    "\n",
    "def z_calc(p1, p2, n1, n2):\n",
    "    p_star = (p1*n1 + p2*n2) / (n1 + n2)\n",
    "    return (p2 - p1) / math.sqrt(p_star*(1 - p_star)*((1.0 / n1) + (1.0 / n2)))\n",
    "\n",
    "def sample_required(p1, p_diff, alpha):\n",
    "    if p_diff <= 0:  # p_diff = p2-p1\n",
    "        raise ValueError(\"p_diff must be > 0\")\n",
    "    n = 1\n",
    "    while True:\n",
    "        z = z_calc(p1, p1+p_diff, n1=n, n2=n)\n",
    "        p = 1 - stats.norm.cdf(z)\n",
    "        if p < alpha:\n",
    "            break\n",
    "        n += 1\n",
    "    return n\n",
    "\n",
    "sample_size = sample_required(df_ztest[['proportion'][0]][0],(df_ztest[['proportion'][0]][1] - df_ztest[['proportion'][0]][0]), 0.05)\n",
    "\n",
    "sample_size"
   ]
  },
  {
   "cell_type": "markdown",
   "metadata": {},
   "source": [
    "The minimum sample size is 1051 for each group. (this is an extra step - in our case the samples were very big anyway)"
   ]
  },
  {
   "cell_type": "code",
   "execution_count": null,
   "metadata": {},
   "outputs": [],
   "source": [
    "# Create new data frame with random sample for the z-test\n",
    "\n",
    "df_tr = df_conv[df_conv['variation'] == 'Test']\n",
    "df_ctrl = df_conv[df_conv['variation'] == 'Control']"
   ]
  },
  {
   "cell_type": "code",
   "execution_count": null,
   "metadata": {},
   "outputs": [
    {
     "ename": "NameError",
     "evalue": "name 'df_tr' is not defined",
     "output_type": "error",
     "traceback": [
      "\u001b[1;31m---------------------------------------------------------------------------\u001b[0m\n",
      "\u001b[1;31mNameError\u001b[0m                                 Traceback (most recent call last)\n",
      "Cell \u001b[1;32mIn[136], line 1\u001b[0m\n",
      "\u001b[1;32m----> 1\u001b[0m df_tr_sample \u001b[38;5;241m=\u001b[39m df_tr\u001b[38;5;241m.\u001b[39msample(n\u001b[38;5;241m=\u001b[39m\u001b[38;5;241m20000\u001b[39m, random_state\u001b[38;5;241m=\u001b[39m\u001b[38;5;241m23\u001b[39m)\n",
      "\u001b[0;32m      2\u001b[0m df_ctrl_sample \u001b[38;5;241m=\u001b[39m df_ctrl\u001b[38;5;241m.\u001b[39msample(n\u001b[38;5;241m=\u001b[39m\u001b[38;5;241m20000\u001b[39m, random_state\u001b[38;5;241m=\u001b[39m\u001b[38;5;241m23\u001b[39m)\n",
      "\n",
      "\u001b[1;31mNameError\u001b[0m: name 'df_tr' is not defined"
     ]
    }
   ],
   "source": [
    "df_tr_sample = df_tr.sample(n=20000, random_state=23)\n",
    "df_ctrl_sample = df_ctrl.sample(n=20000, random_state=23)"
   ]
  },
  {
   "cell_type": "code",
   "execution_count": null,
   "metadata": {},
   "outputs": [
    {
     "data": {
      "text/html": [
       "<div>\n",
       "<style scoped>\n",
       "    .dataframe tbody tr th:only-of-type {\n",
       "        vertical-align: middle;\n",
       "    }\n",
       "\n",
       "    .dataframe tbody tr th {\n",
       "        vertical-align: top;\n",
       "    }\n",
       "\n",
       "    .dataframe thead th {\n",
       "        text-align: right;\n",
       "    }\n",
       "</style>\n",
       "<table border=\"1\" class=\"dataframe\">\n",
       "  <thead>\n",
       "    <tr style=\"text-align: right;\">\n",
       "      <th></th>\n",
       "      <th>client_id</th>\n",
       "      <th>confirm</th>\n",
       "      <th>start</th>\n",
       "      <th>step_1</th>\n",
       "      <th>step_2</th>\n",
       "      <th>step_3</th>\n",
       "      <th>conversion</th>\n",
       "      <th>completed_&amp;_confused</th>\n",
       "      <th>completed_linear</th>\n",
       "      <th>clnt_tenure_yr</th>\n",
       "      <th>clnt_tenure_mnth</th>\n",
       "      <th>clnt_age</th>\n",
       "      <th>gendr</th>\n",
       "      <th>num_accts</th>\n",
       "      <th>bal</th>\n",
       "      <th>calls_6_mnth</th>\n",
       "      <th>logons_6_mnth</th>\n",
       "      <th>variation</th>\n",
       "      <th>edad_redondeada</th>\n",
       "    </tr>\n",
       "  </thead>\n",
       "  <tbody>\n",
       "    <tr>\n",
       "      <th>0</th>\n",
       "      <td>2342766</td>\n",
       "      <td>1.0</td>\n",
       "      <td>1.0</td>\n",
       "      <td>1.0</td>\n",
       "      <td>1.0</td>\n",
       "      <td>1.0</td>\n",
       "      <td>1</td>\n",
       "      <td>0</td>\n",
       "      <td>1</td>\n",
       "      <td>15</td>\n",
       "      <td>183</td>\n",
       "      <td>63.5</td>\n",
       "      <td>F</td>\n",
       "      <td>2</td>\n",
       "      <td>38319.57</td>\n",
       "      <td>0</td>\n",
       "      <td>3</td>\n",
       "      <td>Test</td>\n",
       "      <td>64</td>\n",
       "    </tr>\n",
       "    <tr>\n",
       "      <th>1</th>\n",
       "      <td>8348583</td>\n",
       "      <td>1.0</td>\n",
       "      <td>1.0</td>\n",
       "      <td>1.0</td>\n",
       "      <td>1.0</td>\n",
       "      <td>1.0</td>\n",
       "      <td>1</td>\n",
       "      <td>0</td>\n",
       "      <td>1</td>\n",
       "      <td>6</td>\n",
       "      <td>82</td>\n",
       "      <td>47.5</td>\n",
       "      <td>U</td>\n",
       "      <td>2</td>\n",
       "      <td>52909.43</td>\n",
       "      <td>0</td>\n",
       "      <td>3</td>\n",
       "      <td>Test</td>\n",
       "      <td>48</td>\n",
       "    </tr>\n",
       "  </tbody>\n",
       "</table>\n",
       "</div>"
      ],
      "text/plain": [
       "   client_id  confirm  start  step_1  step_2  step_3  conversion  \\\n",
       "0    2342766      1.0    1.0     1.0     1.0     1.0           1   \n",
       "1    8348583      1.0    1.0     1.0     1.0     1.0           1   \n",
       "\n",
       "   completed_&_confused  completed_linear  clnt_tenure_yr  clnt_tenure_mnth  \\\n",
       "0                     0                 1              15               183   \n",
       "1                     0                 1               6                82   \n",
       "\n",
       "   clnt_age gendr  num_accts       bal  calls_6_mnth  logons_6_mnth variation  \\\n",
       "0      63.5     F          2  38319.57             0              3      Test   \n",
       "1      47.5     U          2  52909.43             0              3      Test   \n",
       "\n",
       "   edad_redondeada  \n",
       "0               64  \n",
       "1               48  "
      ]
     },
     "metadata": {},
     "output_type": "display_data"
    }
   ],
   "source": [
    "df_sample = pd.concat([df_tr_sample, df_ctrl_sample], ignore_index=True)\n",
    "df_sample.head(2)"
   ]
  },
  {
   "cell_type": "code",
   "execution_count": null,
   "metadata": {},
   "outputs": [],
   "source": [
    "df_sample_gr = df_sample.groupby('variation').agg({'conversion':'sum','client_id':'nunique'}).reset_index()"
   ]
  },
  {
   "cell_type": "code",
   "execution_count": null,
   "metadata": {},
   "outputs": [],
   "source": [
    "df_sample_gr['proportion'] = (df_sample_gr['conversion']) / df_sample_gr['client_id']"
   ]
  },
  {
   "cell_type": "code",
   "execution_count": null,
   "metadata": {},
   "outputs": [
    {
     "data": {
      "text/html": [
       "<div>\n",
       "<style scoped>\n",
       "    .dataframe tbody tr th:only-of-type {\n",
       "        vertical-align: middle;\n",
       "    }\n",
       "\n",
       "    .dataframe tbody tr th {\n",
       "        vertical-align: top;\n",
       "    }\n",
       "\n",
       "    .dataframe thead th {\n",
       "        text-align: right;\n",
       "    }\n",
       "</style>\n",
       "<table border=\"1\" class=\"dataframe\">\n",
       "  <thead>\n",
       "    <tr style=\"text-align: right;\">\n",
       "      <th></th>\n",
       "      <th>variation</th>\n",
       "      <th>conversion</th>\n",
       "      <th>client_id</th>\n",
       "      <th>proportion</th>\n",
       "    </tr>\n",
       "  </thead>\n",
       "  <tbody>\n",
       "    <tr>\n",
       "      <th>0</th>\n",
       "      <td>Control</td>\n",
       "      <td>12635</td>\n",
       "      <td>20000</td>\n",
       "      <td>0.63175</td>\n",
       "    </tr>\n",
       "    <tr>\n",
       "      <th>1</th>\n",
       "      <td>Test</td>\n",
       "      <td>13591</td>\n",
       "      <td>20000</td>\n",
       "      <td>0.67955</td>\n",
       "    </tr>\n",
       "  </tbody>\n",
       "</table>\n",
       "</div>"
      ],
      "text/plain": [
       "  variation  conversion  client_id  proportion\n",
       "0   Control       12635      20000     0.63175\n",
       "1      Test       13591      20000     0.67955"
      ]
     },
     "metadata": {},
     "output_type": "display_data"
    }
   ],
   "source": [
    "df_sample_gr"
   ]
  },
  {
   "cell_type": "markdown",
   "metadata": {},
   "source": [
    "### Z-test and results"
   ]
  },
  {
   "cell_type": "code",
   "execution_count": null,
   "metadata": {},
   "outputs": [],
   "source": [
    "number_of_successes = [12899, 13626]\n",
    "total_sample_sizes = [20000, 20000]"
   ]
  },
  {
   "cell_type": "code",
   "execution_count": null,
   "metadata": {},
   "outputs": [],
   "source": [
    "test_stat, p_value = proportions_ztest(number_of_successes, total_sample_sizes, alternative='smaller')"
   ]
  },
  {
   "cell_type": "code",
   "execution_count": null,
   "metadata": {},
   "outputs": [
    {
     "name": "stdout",
     "output_type": "stream",
     "text": [
      "Computed z-test statistic:  -7.6908142674918025\n",
      "Computed p-value:  7.310077118377838e-15\n"
     ]
    }
   ],
   "source": [
    "print(\"Computed z-test statistic: \", test_stat)\n",
    "print(\"Computed p-value: \", p_value)"
   ]
  },
  {
   "cell_type": "markdown",
   "metadata": {},
   "source": [
    " In that case, we see that our result is statistically significant and we have evidence to reject the null hypothesis."
   ]
  },
  {
   "cell_type": "markdown",
   "metadata": {},
   "source": [
    "### Proportion z-test vs threshold 105%"
   ]
  },
  {
   "cell_type": "code",
   "execution_count": null,
   "metadata": {},
   "outputs": [
    {
     "data": {
      "text/plain": [
       "0.6634187154073884"
      ]
     },
     "metadata": {},
     "output_type": "display_data"
    }
   ],
   "source": [
    "#df_sample_gr\n",
    "\n",
    "threshold=(sum(df_conv[df_conv['variation'] == 'Control'].conversion) / len(df_conv[df_conv['variation'] == 'Control']))*1.05\n",
    "threshold"
   ]
  },
  {
   "cell_type": "code",
   "execution_count": null,
   "metadata": {},
   "outputs": [
    {
     "data": {
      "text/plain": [
       "(5.8479878733746435, 2.4877740802725258e-09)"
      ]
     },
     "metadata": {},
     "output_type": "display_data"
    }
   ],
   "source": [
    "# run z proportion test of test conversion vs p\n",
    "# H0: p = p0\n",
    "# H1: test > p\n",
    "\n",
    "# Result cannot reject H0\n",
    "\n",
    "\n",
    "proportions_ztest(count=18333, nobs=26959, value=threshold ,alternative='larger')"
   ]
  },
  {
   "cell_type": "markdown",
   "metadata": {},
   "source": [
    "### Duration per step testing (PENDIENTE)"
   ]
  },
  {
   "cell_type": "code",
   "execution_count": null,
   "metadata": {},
   "outputs": [],
   "source": [
    "df_time.head()"
   ]
  },
  {
   "cell_type": "code",
   "execution_count": null,
   "metadata": {},
   "outputs": [],
   "source": [
    "df_time.shape"
   ]
  },
  {
   "cell_type": "code",
   "execution_count": null,
   "metadata": {},
   "outputs": [],
   "source": [
    "# boxplot of step_time  \n",
    "sns.boxplot(  y='step_time', data=df_time)"
   ]
  },
  {
   "cell_type": "code",
   "execution_count": null,
   "metadata": {},
   "outputs": [],
   "source": [
    "# remove nulls from df_time step_time\n",
    "\n",
    "df_time2 = df_time.dropna(subset=['step_time'])\n",
    "\n",
    "df_time2['step_time'].describe()"
   ]
  },
  {
   "cell_type": "code",
   "execution_count": null,
   "metadata": {},
   "outputs": [],
   "source": [
    "#running again the boxplot\n",
    "sns.boxplot(  y='step_time', data=df_time2)"
   ]
  },
  {
   "cell_type": "code",
   "execution_count": null,
   "metadata": {},
   "outputs": [],
   "source": [
    "# Assigning 600 seconds max to the times >= 600s\n",
    "df_time2['step_time'] = df_time2['step_time'].apply(lambda x : x if x < 600 else 600)\n",
    "\n",
    "\n",
    "df_time2['step_time'].describe()"
   ]
  },
  {
   "cell_type": "code",
   "execution_count": null,
   "metadata": {},
   "outputs": [],
   "source": [
    "df_time2.head()"
   ]
  },
  {
   "cell_type": "code",
   "execution_count": null,
   "metadata": {},
   "outputs": [],
   "source": [
    "#DO NOT RUN\n",
    "#removing outliers\n",
    "\n",
    "def remove_outliers(data, col):\n",
    "    Q3 = np.quantile(data[col], 0.75)\n",
    "    Q1 = np.quantile(data[col], 0.25)\n",
    "    IQR = Q3 - Q1\n",
    "    \n",
    "    # Define bounds for the outliers\n",
    "    lower_bound = Q1 - 1.5 * IQR\n",
    "    upper_bound = Q3 + 1.5 * IQR\n",
    "    \n",
    "    print(\"Lower Bound:\", lower_bound)\n",
    "    print(\"Upper Bound:\", upper_bound)\n",
    "    \n",
    "    # Filter the DataFrame based on the condition\n",
    "    filtered_data = data[(data[col] > lower_bound) & (data[col] < upper_bound)]\n",
    "\n",
    "    return filtered_data\n",
    "\n",
    "# Call the function and print the result\n",
    "df_time_no_outliers = remove_outliers(df_time2, 'step_time')"
   ]
  },
  {
   "cell_type": "code",
   "execution_count": null,
   "metadata": {},
   "outputs": [],
   "source": [
    "#DO NOT RUN\n",
    "df_time_no_outliers.shape"
   ]
  },
  {
   "cell_type": "code",
   "execution_count": null,
   "metadata": {},
   "outputs": [],
   "source": [
    "#running again the boxplot, but this time with 'replaced by 600 sec' outliers\n",
    "sns.boxplot(  y='step_time', data=df_time2)"
   ]
  },
  {
   "cell_type": "code",
   "execution_count": null,
   "metadata": {},
   "outputs": [],
   "source": [
    "# create series with control and test step_time \n",
    "time_test = df_time2[df_time2['Variation'] == 'Test']['step_time']\n",
    "time_control = df_time2[df_time2['Variation'] == 'Control']['step_time']"
   ]
  },
  {
   "cell_type": "code",
   "execution_count": null,
   "metadata": {},
   "outputs": [],
   "source": [
    "time_test.describe() "
   ]
  },
  {
   "cell_type": "code",
   "execution_count": null,
   "metadata": {},
   "outputs": [],
   "source": [
    "sns.histplot(time_test, kde=True, label='Test')\n",
    "sns.histplot(time_control, kde=True, label='Control')\n",
    "\n",
    "# Add legend\n",
    "plt.legend()\n",
    "\n",
    "# Show plot\n",
    "plt.show()"
   ]
  },
  {
   "cell_type": "code",
   "execution_count": null,
   "metadata": {},
   "outputs": [],
   "source": [
    "time_test.describe()"
   ]
  },
  {
   "cell_type": "code",
   "execution_count": null,
   "metadata": {},
   "outputs": [],
   "source": [
    "time_control.describe()"
   ]
  },
  {
   "cell_type": "code",
   "execution_count": null,
   "metadata": {},
   "outputs": [],
   "source": [
    "# mann whitney test for step time\n",
    "# H0: test <= control\n",
    "# H1: test > control\n",
    "stats.mannwhitneyu(time_test, time_control, alternative='greater')"
   ]
  },
  {
   "cell_type": "markdown",
   "metadata": {},
   "source": [
    "we cannot reject H0, meaning either test is smaller is there's no significant difference in terms of avg time duration"
   ]
  },
  {
   "cell_type": "code",
   "execution_count": null,
   "metadata": {},
   "outputs": [],
   "source": [
    "df_tr_error = df_error_counter[df_error_counter['variation'] == 'Test']\n",
    "df_ctrl_error = df_error_counter[df_error_counter['variation'] == 'Control']"
   ]
  },
  {
   "cell_type": "code",
   "execution_count": null,
   "metadata": {},
   "outputs": [],
   "source": [
    "df_time2"
   ]
  },
  {
   "cell_type": "code",
   "execution_count": null,
   "metadata": {},
   "outputs": [],
   "source": [
    "df_time2.to_csv('df_time2.csv')"
   ]
  },
  {
   "cell_type": "code",
   "execution_count": null,
   "metadata": {},
   "outputs": [],
   "source": [
    "##Z-test on the error rates"
   ]
  },
  {
   "cell_type": "code",
   "execution_count": null,
   "metadata": {},
   "outputs": [
    {
     "data": {
      "text/plain": [
       "(27.12298779001062, 2.6376195787310787e-162)"
      ]
     },
     "metadata": {},
     "output_type": "display_data"
    }
   ],
   "source": [
    "proportions_ztest(count=[11838, 6358], nobs=[177787,143420], alternative='larger')\n",
    "#the error count in the test group is significantly larger than the error count on the \n",
    "# control group --> which may explain why the process wasn't more efficient and didn't meet\n",
    "# the required threshold"
   ]
  }
 ],
 "metadata": {
  "language_info": {
   "name": "python"
  }
 },
 "nbformat": 4,
 "nbformat_minor": 2
}
