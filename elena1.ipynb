{
 "cells": [
  {
   "cell_type": "markdown",
   "metadata": {},
   "source": [
    "# 1. Data import"
   ]
  },
  {
   "cell_type": "markdown",
   "metadata": {},
   "source": [
    "## 1.1 Importing the dataframes"
   ]
  },
  {
   "cell_type": "code",
   "execution_count": 1,
   "metadata": {},
   "outputs": [],
   "source": [
    "import pandas as pd\n",
    "import matplotlib.pyplot as plt\n",
    "import numpy as np\n",
    "import seaborn as sns\n",
    "from statsmodels.stats.proportion import proportions_ztest\n",
    "import math as math\n",
    "from scipy import stats\n",
    "import importlib\n",
    "import project_functions"
   ]
  },
  {
   "cell_type": "markdown",
   "metadata": {},
   "source": [
    "Here, we import functions we created in a previous notebook, so we can clean / reformat the column headers"
   ]
  },
  {
   "cell_type": "code",
   "execution_count": 2,
   "metadata": {},
   "outputs": [
    {
     "data": {
      "text/plain": [
       "<module 'project_functions' from 'c:\\\\Users\\\\Carlos\\\\Desktop\\\\Vanguard-AB-Testing\\\\project_functions.py'>"
      ]
     },
     "execution_count": 2,
     "metadata": {},
     "output_type": "execute_result"
    }
   ],
   "source": [
    "importlib.reload(project_functions)"
   ]
  },
  {
   "cell_type": "code",
   "execution_count": 3,
   "metadata": {},
   "outputs": [],
   "source": [
    "# cleaning the columns : changing the columns headers to correct format\n",
    "# for more information about this function --> cf project_functions.py notebook\n",
    "clean_my_columns = project_functions.clean_my_columns"
   ]
  },
  {
   "cell_type": "markdown",
   "metadata": {},
   "source": [
    "Now, we 'instance' our dataframes so we precise to Python to read them:"
   ]
  },
  {
   "cell_type": "code",
   "execution_count": 4,
   "metadata": {},
   "outputs": [],
   "source": [
    "# Cargar el dataset demografic\n",
    "df_pt1 = pd.read_csv('raw_data/df_final_web_data_pt_1.txt')\n",
    "df_pt2 = pd.read_csv('raw_data/df_final_web_data_pt_2.txt')\n",
    "df_users = pd.read_csv('raw_data/df_final_demo.txt')\n",
    "df_exp =pd.read_csv('raw_data/df_final_experiment_clients.txt')"
   ]
  },
  {
   "cell_type": "markdown",
   "metadata": {},
   "source": [
    "We apply column titles cleaning to every dataframe"
   ]
  },
  {
   "cell_type": "code",
   "execution_count": 5,
   "metadata": {},
   "outputs": [
    {
     "data": {
      "text/html": [
       "<div>\n",
       "<style scoped>\n",
       "    .dataframe tbody tr th:only-of-type {\n",
       "        vertical-align: middle;\n",
       "    }\n",
       "\n",
       "    .dataframe tbody tr th {\n",
       "        vertical-align: top;\n",
       "    }\n",
       "\n",
       "    .dataframe thead th {\n",
       "        text-align: right;\n",
       "    }\n",
       "</style>\n",
       "<table border=\"1\" class=\"dataframe\">\n",
       "  <thead>\n",
       "    <tr style=\"text-align: right;\">\n",
       "      <th></th>\n",
       "      <th>client_id</th>\n",
       "      <th>visitor_id</th>\n",
       "      <th>visit_id</th>\n",
       "      <th>process_step</th>\n",
       "      <th>date_time</th>\n",
       "    </tr>\n",
       "  </thead>\n",
       "  <tbody>\n",
       "    <tr>\n",
       "      <th>0</th>\n",
       "      <td>763412</td>\n",
       "      <td>601952081_10457207388</td>\n",
       "      <td>397475557_40440946728_419634</td>\n",
       "      <td>confirm</td>\n",
       "      <td>2017-06-06 08:56:00</td>\n",
       "    </tr>\n",
       "    <tr>\n",
       "      <th>1</th>\n",
       "      <td>6019349</td>\n",
       "      <td>442094451_91531546617</td>\n",
       "      <td>154620534_35331068705_522317</td>\n",
       "      <td>confirm</td>\n",
       "      <td>2017-06-01 11:59:27</td>\n",
       "    </tr>\n",
       "    <tr>\n",
       "      <th>2</th>\n",
       "      <td>6019349</td>\n",
       "      <td>442094451_91531546617</td>\n",
       "      <td>154620534_35331068705_522317</td>\n",
       "      <td>step_3</td>\n",
       "      <td>2017-06-01 11:58:48</td>\n",
       "    </tr>\n",
       "    <tr>\n",
       "      <th>3</th>\n",
       "      <td>6019349</td>\n",
       "      <td>442094451_91531546617</td>\n",
       "      <td>154620534_35331068705_522317</td>\n",
       "      <td>step_2</td>\n",
       "      <td>2017-06-01 11:58:08</td>\n",
       "    </tr>\n",
       "    <tr>\n",
       "      <th>4</th>\n",
       "      <td>6019349</td>\n",
       "      <td>442094451_91531546617</td>\n",
       "      <td>154620534_35331068705_522317</td>\n",
       "      <td>step_1</td>\n",
       "      <td>2017-06-01 11:57:58</td>\n",
       "    </tr>\n",
       "    <tr>\n",
       "      <th>...</th>\n",
       "      <td>...</td>\n",
       "      <td>...</td>\n",
       "      <td>...</td>\n",
       "      <td>...</td>\n",
       "      <td>...</td>\n",
       "    </tr>\n",
       "    <tr>\n",
       "      <th>412259</th>\n",
       "      <td>9668240</td>\n",
       "      <td>388766751_9038881013</td>\n",
       "      <td>922267647_3096648104_968866</td>\n",
       "      <td>start</td>\n",
       "      <td>2017-05-24 18:46:10</td>\n",
       "    </tr>\n",
       "    <tr>\n",
       "      <th>412260</th>\n",
       "      <td>9668240</td>\n",
       "      <td>388766751_9038881013</td>\n",
       "      <td>922267647_3096648104_968866</td>\n",
       "      <td>start</td>\n",
       "      <td>2017-05-24 18:45:29</td>\n",
       "    </tr>\n",
       "    <tr>\n",
       "      <th>412261</th>\n",
       "      <td>9668240</td>\n",
       "      <td>388766751_9038881013</td>\n",
       "      <td>922267647_3096648104_968866</td>\n",
       "      <td>step_1</td>\n",
       "      <td>2017-05-24 18:44:51</td>\n",
       "    </tr>\n",
       "    <tr>\n",
       "      <th>412262</th>\n",
       "      <td>9668240</td>\n",
       "      <td>388766751_9038881013</td>\n",
       "      <td>922267647_3096648104_968866</td>\n",
       "      <td>start</td>\n",
       "      <td>2017-05-24 18:44:34</td>\n",
       "    </tr>\n",
       "    <tr>\n",
       "      <th>412263</th>\n",
       "      <td>674799</td>\n",
       "      <td>947159805_81558194550</td>\n",
       "      <td>86152093_47511127657_716022</td>\n",
       "      <td>start</td>\n",
       "      <td>2017-06-03 12:17:09</td>\n",
       "    </tr>\n",
       "  </tbody>\n",
       "</table>\n",
       "<p>412264 rows × 5 columns</p>\n",
       "</div>"
      ],
      "text/plain": [
       "        client_id             visitor_id                      visit_id  \\\n",
       "0          763412  601952081_10457207388  397475557_40440946728_419634   \n",
       "1         6019349  442094451_91531546617  154620534_35331068705_522317   \n",
       "2         6019349  442094451_91531546617  154620534_35331068705_522317   \n",
       "3         6019349  442094451_91531546617  154620534_35331068705_522317   \n",
       "4         6019349  442094451_91531546617  154620534_35331068705_522317   \n",
       "...           ...                    ...                           ...   \n",
       "412259    9668240   388766751_9038881013   922267647_3096648104_968866   \n",
       "412260    9668240   388766751_9038881013   922267647_3096648104_968866   \n",
       "412261    9668240   388766751_9038881013   922267647_3096648104_968866   \n",
       "412262    9668240   388766751_9038881013   922267647_3096648104_968866   \n",
       "412263     674799  947159805_81558194550   86152093_47511127657_716022   \n",
       "\n",
       "       process_step            date_time  \n",
       "0           confirm  2017-06-06 08:56:00  \n",
       "1           confirm  2017-06-01 11:59:27  \n",
       "2            step_3  2017-06-01 11:58:48  \n",
       "3            step_2  2017-06-01 11:58:08  \n",
       "4            step_1  2017-06-01 11:57:58  \n",
       "...             ...                  ...  \n",
       "412259        start  2017-05-24 18:46:10  \n",
       "412260        start  2017-05-24 18:45:29  \n",
       "412261       step_1  2017-05-24 18:44:51  \n",
       "412262        start  2017-05-24 18:44:34  \n",
       "412263        start  2017-06-03 12:17:09  \n",
       "\n",
       "[412264 rows x 5 columns]"
      ]
     },
     "execution_count": 5,
     "metadata": {},
     "output_type": "execute_result"
    }
   ],
   "source": [
    "clean_my_columns(df_exp)\n",
    "\n",
    "clean_my_columns(df_users)\n",
    "\n",
    "clean_my_columns(df_pt1)\n",
    "\n",
    "clean_my_columns(df_pt2)"
   ]
  },
  {
   "cell_type": "markdown",
   "metadata": {},
   "source": [
    "## 1.2 Looking at the datraframes"
   ]
  },
  {
   "cell_type": "markdown",
   "metadata": {},
   "source": [
    "### 1.2.0 Info about DF's"
   ]
  },
  {
   "cell_type": "code",
   "execution_count": 6,
   "metadata": {},
   "outputs": [
    {
     "name": "stdout",
     "output_type": "stream",
     "text": [
      "<class 'pandas.core.frame.DataFrame'>\n",
      "RangeIndex: 70609 entries, 0 to 70608\n",
      "Data columns (total 9 columns):\n",
      " #   Column            Non-Null Count  Dtype  \n",
      "---  ------            --------------  -----  \n",
      " 0   client_id         70609 non-null  int64  \n",
      " 1   clnt_tenure_yr    70595 non-null  float64\n",
      " 2   clnt_tenure_mnth  70595 non-null  float64\n",
      " 3   clnt_age          70594 non-null  float64\n",
      " 4   gendr             70595 non-null  object \n",
      " 5   num_accts         70595 non-null  float64\n",
      " 6   bal               70595 non-null  float64\n",
      " 7   calls_6_mnth      70595 non-null  float64\n",
      " 8   logons_6_mnth     70595 non-null  float64\n",
      "dtypes: float64(7), int64(1), object(1)\n",
      "memory usage: 4.8+ MB\n"
     ]
    }
   ],
   "source": [
    "df_users.info()"
   ]
  },
  {
   "cell_type": "code",
   "execution_count": 7,
   "metadata": {},
   "outputs": [
    {
     "name": "stdout",
     "output_type": "stream",
     "text": [
      "<class 'pandas.core.frame.DataFrame'>\n",
      "RangeIndex: 70609 entries, 0 to 70608\n",
      "Data columns (total 2 columns):\n",
      " #   Column     Non-Null Count  Dtype \n",
      "---  ------     --------------  ----- \n",
      " 0   client_id  70609 non-null  int64 \n",
      " 1   variation  50500 non-null  object\n",
      "dtypes: int64(1), object(1)\n",
      "memory usage: 1.1+ MB\n"
     ]
    }
   ],
   "source": [
    "df_exp.info()"
   ]
  },
  {
   "cell_type": "code",
   "execution_count": 8,
   "metadata": {},
   "outputs": [
    {
     "name": "stdout",
     "output_type": "stream",
     "text": [
      "<class 'pandas.core.frame.DataFrame'>\n",
      "RangeIndex: 343141 entries, 0 to 343140\n",
      "Data columns (total 5 columns):\n",
      " #   Column        Non-Null Count   Dtype \n",
      "---  ------        --------------   ----- \n",
      " 0   client_id     343141 non-null  int64 \n",
      " 1   visitor_id    343141 non-null  object\n",
      " 2   visit_id      343141 non-null  object\n",
      " 3   process_step  343141 non-null  object\n",
      " 4   date_time     343141 non-null  object\n",
      "dtypes: int64(1), object(4)\n",
      "memory usage: 13.1+ MB\n"
     ]
    }
   ],
   "source": [
    "df_pt1.info()"
   ]
  },
  {
   "cell_type": "code",
   "execution_count": 9,
   "metadata": {},
   "outputs": [
    {
     "name": "stdout",
     "output_type": "stream",
     "text": [
      "<class 'pandas.core.frame.DataFrame'>\n",
      "RangeIndex: 412264 entries, 0 to 412263\n",
      "Data columns (total 5 columns):\n",
      " #   Column        Non-Null Count   Dtype \n",
      "---  ------        --------------   ----- \n",
      " 0   client_id     412264 non-null  int64 \n",
      " 1   visitor_id    412264 non-null  object\n",
      " 2   visit_id      412264 non-null  object\n",
      " 3   process_step  412264 non-null  object\n",
      " 4   date_time     412264 non-null  object\n",
      "dtypes: int64(1), object(4)\n",
      "memory usage: 15.7+ MB\n"
     ]
    }
   ],
   "source": [
    "df_pt2.info()"
   ]
  },
  {
   "cell_type": "markdown",
   "metadata": {},
   "source": [
    "### 1.2.1 DF \"experiment participation\""
   ]
  },
  {
   "cell_type": "markdown",
   "metadata": {},
   "source": [
    "The exp dataframe states whether a client (client_id) is being redirected on the original version (control) or to the new version (test)"
   ]
  },
  {
   "cell_type": "code",
   "execution_count": 10,
   "metadata": {},
   "outputs": [
    {
     "data": {
      "text/html": [
       "<div>\n",
       "<style scoped>\n",
       "    .dataframe tbody tr th:only-of-type {\n",
       "        vertical-align: middle;\n",
       "    }\n",
       "\n",
       "    .dataframe tbody tr th {\n",
       "        vertical-align: top;\n",
       "    }\n",
       "\n",
       "    .dataframe thead th {\n",
       "        text-align: right;\n",
       "    }\n",
       "</style>\n",
       "<table border=\"1\" class=\"dataframe\">\n",
       "  <thead>\n",
       "    <tr style=\"text-align: right;\">\n",
       "      <th></th>\n",
       "      <th>client_id</th>\n",
       "      <th>variation</th>\n",
       "    </tr>\n",
       "  </thead>\n",
       "  <tbody>\n",
       "    <tr>\n",
       "      <th>0</th>\n",
       "      <td>9988021</td>\n",
       "      <td>Test</td>\n",
       "    </tr>\n",
       "    <tr>\n",
       "      <th>1</th>\n",
       "      <td>8320017</td>\n",
       "      <td>Test</td>\n",
       "    </tr>\n",
       "    <tr>\n",
       "      <th>2</th>\n",
       "      <td>4033851</td>\n",
       "      <td>Control</td>\n",
       "    </tr>\n",
       "    <tr>\n",
       "      <th>3</th>\n",
       "      <td>1982004</td>\n",
       "      <td>Test</td>\n",
       "    </tr>\n",
       "    <tr>\n",
       "      <th>4</th>\n",
       "      <td>9294070</td>\n",
       "      <td>Control</td>\n",
       "    </tr>\n",
       "    <tr>\n",
       "      <th>...</th>\n",
       "      <td>...</td>\n",
       "      <td>...</td>\n",
       "    </tr>\n",
       "    <tr>\n",
       "      <th>70604</th>\n",
       "      <td>2443347</td>\n",
       "      <td>NaN</td>\n",
       "    </tr>\n",
       "    <tr>\n",
       "      <th>70605</th>\n",
       "      <td>8788427</td>\n",
       "      <td>NaN</td>\n",
       "    </tr>\n",
       "    <tr>\n",
       "      <th>70606</th>\n",
       "      <td>266828</td>\n",
       "      <td>NaN</td>\n",
       "    </tr>\n",
       "    <tr>\n",
       "      <th>70607</th>\n",
       "      <td>1266421</td>\n",
       "      <td>NaN</td>\n",
       "    </tr>\n",
       "    <tr>\n",
       "      <th>70608</th>\n",
       "      <td>9895983</td>\n",
       "      <td>NaN</td>\n",
       "    </tr>\n",
       "  </tbody>\n",
       "</table>\n",
       "<p>70609 rows × 2 columns</p>\n",
       "</div>"
      ],
      "text/plain": [
       "       client_id variation\n",
       "0        9988021      Test\n",
       "1        8320017      Test\n",
       "2        4033851   Control\n",
       "3        1982004      Test\n",
       "4        9294070   Control\n",
       "...          ...       ...\n",
       "70604    2443347       NaN\n",
       "70605    8788427       NaN\n",
       "70606     266828       NaN\n",
       "70607    1266421       NaN\n",
       "70608    9895983       NaN\n",
       "\n",
       "[70609 rows x 2 columns]"
      ]
     },
     "metadata": {},
     "output_type": "display_data"
    },
    {
     "data": {
      "text/plain": [
       "(70609, 2)"
      ]
     },
     "execution_count": 10,
     "metadata": {},
     "output_type": "execute_result"
    }
   ],
   "source": [
    "display(df_exp)\n",
    "df_exp.shape"
   ]
  },
  {
   "cell_type": "markdown",
   "metadata": {},
   "source": [
    "### 1.2.2 DF \"Clients' Demographic\""
   ]
  },
  {
   "cell_type": "code",
   "execution_count": 11,
   "metadata": {},
   "outputs": [
    {
     "data": {
      "text/html": [
       "<div>\n",
       "<style scoped>\n",
       "    .dataframe tbody tr th:only-of-type {\n",
       "        vertical-align: middle;\n",
       "    }\n",
       "\n",
       "    .dataframe tbody tr th {\n",
       "        vertical-align: top;\n",
       "    }\n",
       "\n",
       "    .dataframe thead th {\n",
       "        text-align: right;\n",
       "    }\n",
       "</style>\n",
       "<table border=\"1\" class=\"dataframe\">\n",
       "  <thead>\n",
       "    <tr style=\"text-align: right;\">\n",
       "      <th></th>\n",
       "      <th>client_id</th>\n",
       "      <th>clnt_tenure_yr</th>\n",
       "      <th>clnt_tenure_mnth</th>\n",
       "      <th>clnt_age</th>\n",
       "      <th>gendr</th>\n",
       "      <th>num_accts</th>\n",
       "      <th>bal</th>\n",
       "      <th>calls_6_mnth</th>\n",
       "      <th>logons_6_mnth</th>\n",
       "    </tr>\n",
       "  </thead>\n",
       "  <tbody>\n",
       "    <tr>\n",
       "      <th>0</th>\n",
       "      <td>836976</td>\n",
       "      <td>6.0</td>\n",
       "      <td>73.0</td>\n",
       "      <td>60.5</td>\n",
       "      <td>U</td>\n",
       "      <td>2.0</td>\n",
       "      <td>45105.30</td>\n",
       "      <td>6.0</td>\n",
       "      <td>9.0</td>\n",
       "    </tr>\n",
       "    <tr>\n",
       "      <th>1</th>\n",
       "      <td>2304905</td>\n",
       "      <td>7.0</td>\n",
       "      <td>94.0</td>\n",
       "      <td>58.0</td>\n",
       "      <td>U</td>\n",
       "      <td>2.0</td>\n",
       "      <td>110860.30</td>\n",
       "      <td>6.0</td>\n",
       "      <td>9.0</td>\n",
       "    </tr>\n",
       "    <tr>\n",
       "      <th>2</th>\n",
       "      <td>1439522</td>\n",
       "      <td>5.0</td>\n",
       "      <td>64.0</td>\n",
       "      <td>32.0</td>\n",
       "      <td>U</td>\n",
       "      <td>2.0</td>\n",
       "      <td>52467.79</td>\n",
       "      <td>6.0</td>\n",
       "      <td>9.0</td>\n",
       "    </tr>\n",
       "    <tr>\n",
       "      <th>3</th>\n",
       "      <td>1562045</td>\n",
       "      <td>16.0</td>\n",
       "      <td>198.0</td>\n",
       "      <td>49.0</td>\n",
       "      <td>M</td>\n",
       "      <td>2.0</td>\n",
       "      <td>67454.65</td>\n",
       "      <td>3.0</td>\n",
       "      <td>6.0</td>\n",
       "    </tr>\n",
       "    <tr>\n",
       "      <th>4</th>\n",
       "      <td>5126305</td>\n",
       "      <td>12.0</td>\n",
       "      <td>145.0</td>\n",
       "      <td>33.0</td>\n",
       "      <td>F</td>\n",
       "      <td>2.0</td>\n",
       "      <td>103671.75</td>\n",
       "      <td>0.0</td>\n",
       "      <td>3.0</td>\n",
       "    </tr>\n",
       "    <tr>\n",
       "      <th>...</th>\n",
       "      <td>...</td>\n",
       "      <td>...</td>\n",
       "      <td>...</td>\n",
       "      <td>...</td>\n",
       "      <td>...</td>\n",
       "      <td>...</td>\n",
       "      <td>...</td>\n",
       "      <td>...</td>\n",
       "      <td>...</td>\n",
       "    </tr>\n",
       "    <tr>\n",
       "      <th>70604</th>\n",
       "      <td>7993686</td>\n",
       "      <td>4.0</td>\n",
       "      <td>56.0</td>\n",
       "      <td>38.5</td>\n",
       "      <td>U</td>\n",
       "      <td>3.0</td>\n",
       "      <td>1411062.68</td>\n",
       "      <td>5.0</td>\n",
       "      <td>5.0</td>\n",
       "    </tr>\n",
       "    <tr>\n",
       "      <th>70605</th>\n",
       "      <td>8981690</td>\n",
       "      <td>12.0</td>\n",
       "      <td>148.0</td>\n",
       "      <td>31.0</td>\n",
       "      <td>M</td>\n",
       "      <td>2.0</td>\n",
       "      <td>101867.07</td>\n",
       "      <td>6.0</td>\n",
       "      <td>6.0</td>\n",
       "    </tr>\n",
       "    <tr>\n",
       "      <th>70606</th>\n",
       "      <td>333913</td>\n",
       "      <td>16.0</td>\n",
       "      <td>198.0</td>\n",
       "      <td>61.5</td>\n",
       "      <td>F</td>\n",
       "      <td>2.0</td>\n",
       "      <td>40745.00</td>\n",
       "      <td>3.0</td>\n",
       "      <td>3.0</td>\n",
       "    </tr>\n",
       "    <tr>\n",
       "      <th>70607</th>\n",
       "      <td>1573142</td>\n",
       "      <td>21.0</td>\n",
       "      <td>255.0</td>\n",
       "      <td>68.0</td>\n",
       "      <td>M</td>\n",
       "      <td>3.0</td>\n",
       "      <td>475114.69</td>\n",
       "      <td>4.0</td>\n",
       "      <td>4.0</td>\n",
       "    </tr>\n",
       "    <tr>\n",
       "      <th>70608</th>\n",
       "      <td>5602139</td>\n",
       "      <td>21.0</td>\n",
       "      <td>254.0</td>\n",
       "      <td>59.5</td>\n",
       "      <td>F</td>\n",
       "      <td>3.0</td>\n",
       "      <td>157498.73</td>\n",
       "      <td>7.0</td>\n",
       "      <td>7.0</td>\n",
       "    </tr>\n",
       "  </tbody>\n",
       "</table>\n",
       "<p>70609 rows × 9 columns</p>\n",
       "</div>"
      ],
      "text/plain": [
       "       client_id  clnt_tenure_yr  clnt_tenure_mnth  clnt_age gendr  num_accts  \\\n",
       "0         836976             6.0              73.0      60.5     U        2.0   \n",
       "1        2304905             7.0              94.0      58.0     U        2.0   \n",
       "2        1439522             5.0              64.0      32.0     U        2.0   \n",
       "3        1562045            16.0             198.0      49.0     M        2.0   \n",
       "4        5126305            12.0             145.0      33.0     F        2.0   \n",
       "...          ...             ...               ...       ...   ...        ...   \n",
       "70604    7993686             4.0              56.0      38.5     U        3.0   \n",
       "70605    8981690            12.0             148.0      31.0     M        2.0   \n",
       "70606     333913            16.0             198.0      61.5     F        2.0   \n",
       "70607    1573142            21.0             255.0      68.0     M        3.0   \n",
       "70608    5602139            21.0             254.0      59.5     F        3.0   \n",
       "\n",
       "              bal  calls_6_mnth  logons_6_mnth  \n",
       "0        45105.30           6.0            9.0  \n",
       "1       110860.30           6.0            9.0  \n",
       "2        52467.79           6.0            9.0  \n",
       "3        67454.65           3.0            6.0  \n",
       "4       103671.75           0.0            3.0  \n",
       "...           ...           ...            ...  \n",
       "70604  1411062.68           5.0            5.0  \n",
       "70605   101867.07           6.0            6.0  \n",
       "70606    40745.00           3.0            3.0  \n",
       "70607   475114.69           4.0            4.0  \n",
       "70608   157498.73           7.0            7.0  \n",
       "\n",
       "[70609 rows x 9 columns]"
      ]
     },
     "metadata": {},
     "output_type": "display_data"
    },
    {
     "data": {
      "text/plain": [
       "(70609, 9)"
      ]
     },
     "execution_count": 11,
     "metadata": {},
     "output_type": "execute_result"
    }
   ],
   "source": [
    "display(df_users)\n",
    "df_users.shape"
   ]
  },
  {
   "cell_type": "markdown",
   "metadata": {},
   "source": [
    "### 1.2.3 \"Footprints Data\" - 2 Tables"
   ]
  },
  {
   "cell_type": "code",
   "execution_count": 12,
   "metadata": {},
   "outputs": [
    {
     "data": {
      "text/html": [
       "<div>\n",
       "<style scoped>\n",
       "    .dataframe tbody tr th:only-of-type {\n",
       "        vertical-align: middle;\n",
       "    }\n",
       "\n",
       "    .dataframe tbody tr th {\n",
       "        vertical-align: top;\n",
       "    }\n",
       "\n",
       "    .dataframe thead th {\n",
       "        text-align: right;\n",
       "    }\n",
       "</style>\n",
       "<table border=\"1\" class=\"dataframe\">\n",
       "  <thead>\n",
       "    <tr style=\"text-align: right;\">\n",
       "      <th></th>\n",
       "      <th>client_id</th>\n",
       "      <th>visitor_id</th>\n",
       "      <th>visit_id</th>\n",
       "      <th>process_step</th>\n",
       "      <th>date_time</th>\n",
       "    </tr>\n",
       "  </thead>\n",
       "  <tbody>\n",
       "    <tr>\n",
       "      <th>0</th>\n",
       "      <td>9988021</td>\n",
       "      <td>580560515_7732621733</td>\n",
       "      <td>781255054_21935453173_531117</td>\n",
       "      <td>step_3</td>\n",
       "      <td>2017-04-17 15:27:07</td>\n",
       "    </tr>\n",
       "    <tr>\n",
       "      <th>1</th>\n",
       "      <td>9988021</td>\n",
       "      <td>580560515_7732621733</td>\n",
       "      <td>781255054_21935453173_531117</td>\n",
       "      <td>step_2</td>\n",
       "      <td>2017-04-17 15:26:51</td>\n",
       "    </tr>\n",
       "    <tr>\n",
       "      <th>2</th>\n",
       "      <td>9988021</td>\n",
       "      <td>580560515_7732621733</td>\n",
       "      <td>781255054_21935453173_531117</td>\n",
       "      <td>step_3</td>\n",
       "      <td>2017-04-17 15:19:22</td>\n",
       "    </tr>\n",
       "    <tr>\n",
       "      <th>3</th>\n",
       "      <td>9988021</td>\n",
       "      <td>580560515_7732621733</td>\n",
       "      <td>781255054_21935453173_531117</td>\n",
       "      <td>step_2</td>\n",
       "      <td>2017-04-17 15:19:13</td>\n",
       "    </tr>\n",
       "    <tr>\n",
       "      <th>4</th>\n",
       "      <td>9988021</td>\n",
       "      <td>580560515_7732621733</td>\n",
       "      <td>781255054_21935453173_531117</td>\n",
       "      <td>step_3</td>\n",
       "      <td>2017-04-17 15:18:04</td>\n",
       "    </tr>\n",
       "  </tbody>\n",
       "</table>\n",
       "</div>"
      ],
      "text/plain": [
       "   client_id            visitor_id                      visit_id process_step  \\\n",
       "0    9988021  580560515_7732621733  781255054_21935453173_531117       step_3   \n",
       "1    9988021  580560515_7732621733  781255054_21935453173_531117       step_2   \n",
       "2    9988021  580560515_7732621733  781255054_21935453173_531117       step_3   \n",
       "3    9988021  580560515_7732621733  781255054_21935453173_531117       step_2   \n",
       "4    9988021  580560515_7732621733  781255054_21935453173_531117       step_3   \n",
       "\n",
       "             date_time  \n",
       "0  2017-04-17 15:27:07  \n",
       "1  2017-04-17 15:26:51  \n",
       "2  2017-04-17 15:19:22  \n",
       "3  2017-04-17 15:19:13  \n",
       "4  2017-04-17 15:18:04  "
      ]
     },
     "metadata": {},
     "output_type": "display_data"
    },
    {
     "data": {
      "text/plain": [
       "(343141, 5)"
      ]
     },
     "execution_count": 12,
     "metadata": {},
     "output_type": "execute_result"
    }
   ],
   "source": [
    "display(df_pt1.head())\n",
    "df_pt1.shape"
   ]
  },
  {
   "cell_type": "code",
   "execution_count": 13,
   "metadata": {},
   "outputs": [
    {
     "data": {
      "text/html": [
       "<div>\n",
       "<style scoped>\n",
       "    .dataframe tbody tr th:only-of-type {\n",
       "        vertical-align: middle;\n",
       "    }\n",
       "\n",
       "    .dataframe tbody tr th {\n",
       "        vertical-align: top;\n",
       "    }\n",
       "\n",
       "    .dataframe thead th {\n",
       "        text-align: right;\n",
       "    }\n",
       "</style>\n",
       "<table border=\"1\" class=\"dataframe\">\n",
       "  <thead>\n",
       "    <tr style=\"text-align: right;\">\n",
       "      <th></th>\n",
       "      <th>client_id</th>\n",
       "      <th>visitor_id</th>\n",
       "      <th>visit_id</th>\n",
       "      <th>process_step</th>\n",
       "      <th>date_time</th>\n",
       "    </tr>\n",
       "  </thead>\n",
       "  <tbody>\n",
       "    <tr>\n",
       "      <th>0</th>\n",
       "      <td>763412</td>\n",
       "      <td>601952081_10457207388</td>\n",
       "      <td>397475557_40440946728_419634</td>\n",
       "      <td>confirm</td>\n",
       "      <td>2017-06-06 08:56:00</td>\n",
       "    </tr>\n",
       "    <tr>\n",
       "      <th>1</th>\n",
       "      <td>6019349</td>\n",
       "      <td>442094451_91531546617</td>\n",
       "      <td>154620534_35331068705_522317</td>\n",
       "      <td>confirm</td>\n",
       "      <td>2017-06-01 11:59:27</td>\n",
       "    </tr>\n",
       "    <tr>\n",
       "      <th>2</th>\n",
       "      <td>6019349</td>\n",
       "      <td>442094451_91531546617</td>\n",
       "      <td>154620534_35331068705_522317</td>\n",
       "      <td>step_3</td>\n",
       "      <td>2017-06-01 11:58:48</td>\n",
       "    </tr>\n",
       "    <tr>\n",
       "      <th>3</th>\n",
       "      <td>6019349</td>\n",
       "      <td>442094451_91531546617</td>\n",
       "      <td>154620534_35331068705_522317</td>\n",
       "      <td>step_2</td>\n",
       "      <td>2017-06-01 11:58:08</td>\n",
       "    </tr>\n",
       "    <tr>\n",
       "      <th>4</th>\n",
       "      <td>6019349</td>\n",
       "      <td>442094451_91531546617</td>\n",
       "      <td>154620534_35331068705_522317</td>\n",
       "      <td>step_1</td>\n",
       "      <td>2017-06-01 11:57:58</td>\n",
       "    </tr>\n",
       "  </tbody>\n",
       "</table>\n",
       "</div>"
      ],
      "text/plain": [
       "   client_id             visitor_id                      visit_id  \\\n",
       "0     763412  601952081_10457207388  397475557_40440946728_419634   \n",
       "1    6019349  442094451_91531546617  154620534_35331068705_522317   \n",
       "2    6019349  442094451_91531546617  154620534_35331068705_522317   \n",
       "3    6019349  442094451_91531546617  154620534_35331068705_522317   \n",
       "4    6019349  442094451_91531546617  154620534_35331068705_522317   \n",
       "\n",
       "  process_step            date_time  \n",
       "0      confirm  2017-06-06 08:56:00  \n",
       "1      confirm  2017-06-01 11:59:27  \n",
       "2       step_3  2017-06-01 11:58:48  \n",
       "3       step_2  2017-06-01 11:58:08  \n",
       "4       step_1  2017-06-01 11:57:58  "
      ]
     },
     "metadata": {},
     "output_type": "display_data"
    },
    {
     "data": {
      "text/plain": [
       "(412264, 5)"
      ]
     },
     "execution_count": 13,
     "metadata": {},
     "output_type": "execute_result"
    }
   ],
   "source": [
    "display(df_pt2.head())\n",
    "df_pt2.shape"
   ]
  },
  {
   "cell_type": "markdown",
   "metadata": {},
   "source": [
    "## 1.3 Combining tables"
   ]
  },
  {
   "cell_type": "markdown",
   "metadata": {},
   "source": [
    "We're combining both group of tabless due to we have the same data columns within them."
   ]
  },
  {
   "cell_type": "markdown",
   "metadata": {},
   "source": [
    "### 1.3.1 Combining Footprints Tables:"
   ]
  },
  {
   "cell_type": "code",
   "execution_count": 14,
   "metadata": {},
   "outputs": [],
   "source": [
    "# Combining df_pt_1 and df_pt_2:\n",
    "df_footprint=pd.concat([df_pt1,df_pt2])"
   ]
  },
  {
   "cell_type": "code",
   "execution_count": 15,
   "metadata": {},
   "outputs": [
    {
     "data": {
      "text/html": [
       "<div>\n",
       "<style scoped>\n",
       "    .dataframe tbody tr th:only-of-type {\n",
       "        vertical-align: middle;\n",
       "    }\n",
       "\n",
       "    .dataframe tbody tr th {\n",
       "        vertical-align: top;\n",
       "    }\n",
       "\n",
       "    .dataframe thead th {\n",
       "        text-align: right;\n",
       "    }\n",
       "</style>\n",
       "<table border=\"1\" class=\"dataframe\">\n",
       "  <thead>\n",
       "    <tr style=\"text-align: right;\">\n",
       "      <th></th>\n",
       "      <th>client_id</th>\n",
       "      <th>visitor_id</th>\n",
       "      <th>visit_id</th>\n",
       "      <th>process_step</th>\n",
       "      <th>date_time</th>\n",
       "    </tr>\n",
       "  </thead>\n",
       "  <tbody>\n",
       "    <tr>\n",
       "      <th>0</th>\n",
       "      <td>9988021</td>\n",
       "      <td>580560515_7732621733</td>\n",
       "      <td>781255054_21935453173_531117</td>\n",
       "      <td>step_3</td>\n",
       "      <td>2017-04-17 15:27:07</td>\n",
       "    </tr>\n",
       "    <tr>\n",
       "      <th>1</th>\n",
       "      <td>9988021</td>\n",
       "      <td>580560515_7732621733</td>\n",
       "      <td>781255054_21935453173_531117</td>\n",
       "      <td>step_2</td>\n",
       "      <td>2017-04-17 15:26:51</td>\n",
       "    </tr>\n",
       "    <tr>\n",
       "      <th>2</th>\n",
       "      <td>9988021</td>\n",
       "      <td>580560515_7732621733</td>\n",
       "      <td>781255054_21935453173_531117</td>\n",
       "      <td>step_3</td>\n",
       "      <td>2017-04-17 15:19:22</td>\n",
       "    </tr>\n",
       "    <tr>\n",
       "      <th>3</th>\n",
       "      <td>9988021</td>\n",
       "      <td>580560515_7732621733</td>\n",
       "      <td>781255054_21935453173_531117</td>\n",
       "      <td>step_2</td>\n",
       "      <td>2017-04-17 15:19:13</td>\n",
       "    </tr>\n",
       "    <tr>\n",
       "      <th>4</th>\n",
       "      <td>9988021</td>\n",
       "      <td>580560515_7732621733</td>\n",
       "      <td>781255054_21935453173_531117</td>\n",
       "      <td>step_3</td>\n",
       "      <td>2017-04-17 15:18:04</td>\n",
       "    </tr>\n",
       "  </tbody>\n",
       "</table>\n",
       "</div>"
      ],
      "text/plain": [
       "   client_id            visitor_id                      visit_id process_step  \\\n",
       "0    9988021  580560515_7732621733  781255054_21935453173_531117       step_3   \n",
       "1    9988021  580560515_7732621733  781255054_21935453173_531117       step_2   \n",
       "2    9988021  580560515_7732621733  781255054_21935453173_531117       step_3   \n",
       "3    9988021  580560515_7732621733  781255054_21935453173_531117       step_2   \n",
       "4    9988021  580560515_7732621733  781255054_21935453173_531117       step_3   \n",
       "\n",
       "             date_time  \n",
       "0  2017-04-17 15:27:07  \n",
       "1  2017-04-17 15:26:51  \n",
       "2  2017-04-17 15:19:22  \n",
       "3  2017-04-17 15:19:13  \n",
       "4  2017-04-17 15:18:04  "
      ]
     },
     "metadata": {},
     "output_type": "display_data"
    },
    {
     "name": "stdout",
     "output_type": "stream",
     "text": [
      "shape of pt1: (343141, 5)\n",
      "shape of pt2: (412264, 5)\n",
      "shape of the concat: (755405, 5)\n"
     ]
    }
   ],
   "source": [
    "#Now we take a overview about the concatenated table\n",
    "display(df_footprint.head())\n",
    "\n",
    "print(f\"shape of pt1: {df_pt1.shape}\")\n",
    "print(f\"shape of pt2: {df_pt2.shape}\")\n",
    "print(f\"shape of the concat: {df_footprint.shape}\")"
   ]
  },
  {
   "cell_type": "markdown",
   "metadata": {},
   "source": [
    "Let's see how many unique clients we have data."
   ]
  },
  {
   "cell_type": "code",
   "execution_count": 16,
   "metadata": {},
   "outputs": [
    {
     "data": {
      "text/plain": [
       "120157"
      ]
     },
     "execution_count": 16,
     "metadata": {},
     "output_type": "execute_result"
    }
   ],
   "source": [
    "# Number of clients\n",
    "df_footprint['client_id'].nunique()"
   ]
  },
  {
   "cell_type": "markdown",
   "metadata": {},
   "source": [
    "### 1.3.2 Combining Demo and Experiment tables"
   ]
  },
  {
   "cell_type": "markdown",
   "metadata": {},
   "source": [
    "Experiment a demo tables have the exactly same shape and they have client_id in common, soy we are going to merge them to have the second column from experiment as another variable in our big table \"demographics\". "
   ]
  },
  {
   "cell_type": "code",
   "execution_count": 17,
   "metadata": {},
   "outputs": [],
   "source": [
    "df_clients = df_users.merge(df_exp, on='client_id', how='left')"
   ]
  },
  {
   "cell_type": "code",
   "execution_count": 18,
   "metadata": {},
   "outputs": [],
   "source": [
    "df_clients = df_clients.reset_index(drop=True)"
   ]
  },
  {
   "cell_type": "code",
   "execution_count": 19,
   "metadata": {},
   "outputs": [
    {
     "data": {
      "text/html": [
       "<div>\n",
       "<style scoped>\n",
       "    .dataframe tbody tr th:only-of-type {\n",
       "        vertical-align: middle;\n",
       "    }\n",
       "\n",
       "    .dataframe tbody tr th {\n",
       "        vertical-align: top;\n",
       "    }\n",
       "\n",
       "    .dataframe thead th {\n",
       "        text-align: right;\n",
       "    }\n",
       "</style>\n",
       "<table border=\"1\" class=\"dataframe\">\n",
       "  <thead>\n",
       "    <tr style=\"text-align: right;\">\n",
       "      <th></th>\n",
       "      <th>client_id</th>\n",
       "      <th>clnt_tenure_yr</th>\n",
       "      <th>clnt_tenure_mnth</th>\n",
       "      <th>clnt_age</th>\n",
       "      <th>gendr</th>\n",
       "      <th>num_accts</th>\n",
       "      <th>bal</th>\n",
       "      <th>calls_6_mnth</th>\n",
       "      <th>logons_6_mnth</th>\n",
       "      <th>variation</th>\n",
       "    </tr>\n",
       "  </thead>\n",
       "  <tbody>\n",
       "    <tr>\n",
       "      <th>0</th>\n",
       "      <td>836976</td>\n",
       "      <td>6.0</td>\n",
       "      <td>73.0</td>\n",
       "      <td>60.5</td>\n",
       "      <td>U</td>\n",
       "      <td>2.0</td>\n",
       "      <td>45105.30</td>\n",
       "      <td>6.0</td>\n",
       "      <td>9.0</td>\n",
       "      <td>Test</td>\n",
       "    </tr>\n",
       "    <tr>\n",
       "      <th>1</th>\n",
       "      <td>2304905</td>\n",
       "      <td>7.0</td>\n",
       "      <td>94.0</td>\n",
       "      <td>58.0</td>\n",
       "      <td>U</td>\n",
       "      <td>2.0</td>\n",
       "      <td>110860.30</td>\n",
       "      <td>6.0</td>\n",
       "      <td>9.0</td>\n",
       "      <td>Control</td>\n",
       "    </tr>\n",
       "    <tr>\n",
       "      <th>2</th>\n",
       "      <td>1439522</td>\n",
       "      <td>5.0</td>\n",
       "      <td>64.0</td>\n",
       "      <td>32.0</td>\n",
       "      <td>U</td>\n",
       "      <td>2.0</td>\n",
       "      <td>52467.79</td>\n",
       "      <td>6.0</td>\n",
       "      <td>9.0</td>\n",
       "      <td>Test</td>\n",
       "    </tr>\n",
       "    <tr>\n",
       "      <th>3</th>\n",
       "      <td>1562045</td>\n",
       "      <td>16.0</td>\n",
       "      <td>198.0</td>\n",
       "      <td>49.0</td>\n",
       "      <td>M</td>\n",
       "      <td>2.0</td>\n",
       "      <td>67454.65</td>\n",
       "      <td>3.0</td>\n",
       "      <td>6.0</td>\n",
       "      <td>Test</td>\n",
       "    </tr>\n",
       "    <tr>\n",
       "      <th>4</th>\n",
       "      <td>5126305</td>\n",
       "      <td>12.0</td>\n",
       "      <td>145.0</td>\n",
       "      <td>33.0</td>\n",
       "      <td>F</td>\n",
       "      <td>2.0</td>\n",
       "      <td>103671.75</td>\n",
       "      <td>0.0</td>\n",
       "      <td>3.0</td>\n",
       "      <td>Control</td>\n",
       "    </tr>\n",
       "    <tr>\n",
       "      <th>...</th>\n",
       "      <td>...</td>\n",
       "      <td>...</td>\n",
       "      <td>...</td>\n",
       "      <td>...</td>\n",
       "      <td>...</td>\n",
       "      <td>...</td>\n",
       "      <td>...</td>\n",
       "      <td>...</td>\n",
       "      <td>...</td>\n",
       "      <td>...</td>\n",
       "    </tr>\n",
       "    <tr>\n",
       "      <th>70604</th>\n",
       "      <td>7993686</td>\n",
       "      <td>4.0</td>\n",
       "      <td>56.0</td>\n",
       "      <td>38.5</td>\n",
       "      <td>U</td>\n",
       "      <td>3.0</td>\n",
       "      <td>1411062.68</td>\n",
       "      <td>5.0</td>\n",
       "      <td>5.0</td>\n",
       "      <td>NaN</td>\n",
       "    </tr>\n",
       "    <tr>\n",
       "      <th>70605</th>\n",
       "      <td>8981690</td>\n",
       "      <td>12.0</td>\n",
       "      <td>148.0</td>\n",
       "      <td>31.0</td>\n",
       "      <td>M</td>\n",
       "      <td>2.0</td>\n",
       "      <td>101867.07</td>\n",
       "      <td>6.0</td>\n",
       "      <td>6.0</td>\n",
       "      <td>NaN</td>\n",
       "    </tr>\n",
       "    <tr>\n",
       "      <th>70606</th>\n",
       "      <td>333913</td>\n",
       "      <td>16.0</td>\n",
       "      <td>198.0</td>\n",
       "      <td>61.5</td>\n",
       "      <td>F</td>\n",
       "      <td>2.0</td>\n",
       "      <td>40745.00</td>\n",
       "      <td>3.0</td>\n",
       "      <td>3.0</td>\n",
       "      <td>NaN</td>\n",
       "    </tr>\n",
       "    <tr>\n",
       "      <th>70607</th>\n",
       "      <td>1573142</td>\n",
       "      <td>21.0</td>\n",
       "      <td>255.0</td>\n",
       "      <td>68.0</td>\n",
       "      <td>M</td>\n",
       "      <td>3.0</td>\n",
       "      <td>475114.69</td>\n",
       "      <td>4.0</td>\n",
       "      <td>4.0</td>\n",
       "      <td>NaN</td>\n",
       "    </tr>\n",
       "    <tr>\n",
       "      <th>70608</th>\n",
       "      <td>5602139</td>\n",
       "      <td>21.0</td>\n",
       "      <td>254.0</td>\n",
       "      <td>59.5</td>\n",
       "      <td>F</td>\n",
       "      <td>3.0</td>\n",
       "      <td>157498.73</td>\n",
       "      <td>7.0</td>\n",
       "      <td>7.0</td>\n",
       "      <td>NaN</td>\n",
       "    </tr>\n",
       "  </tbody>\n",
       "</table>\n",
       "<p>70609 rows × 10 columns</p>\n",
       "</div>"
      ],
      "text/plain": [
       "       client_id  clnt_tenure_yr  clnt_tenure_mnth  clnt_age gendr  num_accts  \\\n",
       "0         836976             6.0              73.0      60.5     U        2.0   \n",
       "1        2304905             7.0              94.0      58.0     U        2.0   \n",
       "2        1439522             5.0              64.0      32.0     U        2.0   \n",
       "3        1562045            16.0             198.0      49.0     M        2.0   \n",
       "4        5126305            12.0             145.0      33.0     F        2.0   \n",
       "...          ...             ...               ...       ...   ...        ...   \n",
       "70604    7993686             4.0              56.0      38.5     U        3.0   \n",
       "70605    8981690            12.0             148.0      31.0     M        2.0   \n",
       "70606     333913            16.0             198.0      61.5     F        2.0   \n",
       "70607    1573142            21.0             255.0      68.0     M        3.0   \n",
       "70608    5602139            21.0             254.0      59.5     F        3.0   \n",
       "\n",
       "              bal  calls_6_mnth  logons_6_mnth variation  \n",
       "0        45105.30           6.0            9.0      Test  \n",
       "1       110860.30           6.0            9.0   Control  \n",
       "2        52467.79           6.0            9.0      Test  \n",
       "3        67454.65           3.0            6.0      Test  \n",
       "4       103671.75           0.0            3.0   Control  \n",
       "...           ...           ...            ...       ...  \n",
       "70604  1411062.68           5.0            5.0       NaN  \n",
       "70605   101867.07           6.0            6.0       NaN  \n",
       "70606    40745.00           3.0            3.0       NaN  \n",
       "70607   475114.69           4.0            4.0       NaN  \n",
       "70608   157498.73           7.0            7.0       NaN  \n",
       "\n",
       "[70609 rows x 10 columns]"
      ]
     },
     "metadata": {},
     "output_type": "display_data"
    },
    {
     "data": {
      "text/plain": [
       "(70609, 10)"
      ]
     },
     "execution_count": 19,
     "metadata": {},
     "output_type": "execute_result"
    }
   ],
   "source": [
    "display(df_clients)\n",
    "df_clients.shape"
   ]
  },
  {
   "cell_type": "markdown",
   "metadata": {},
   "source": [
    "# 2. Cleaning Dataframes"
   ]
  },
  {
   "cell_type": "markdown",
   "metadata": {},
   "source": [
    "## 2.1 Cleaning Clients Table"
   ]
  },
  {
   "cell_type": "markdown",
   "metadata": {},
   "source": [
    "### 2.1.1 Duplicates"
   ]
  },
  {
   "cell_type": "code",
   "execution_count": 20,
   "metadata": {},
   "outputs": [
    {
     "name": "stdout",
     "output_type": "stream",
     "text": [
      "Empty DataFrame\n",
      "Columns: [client_id, clnt_tenure_yr, clnt_tenure_mnth, clnt_age, gendr, num_accts, bal, calls_6_mnth, logons_6_mnth, variation]\n",
      "Index: []\n"
     ]
    }
   ],
   "source": [
    "# Let's check how many duplicated rows there are.\n",
    "duplicates_clients = df_clients.duplicated(keep=False)\n",
    "df_duplicates_clients = df_clients[duplicates_clients]\n",
    "\n",
    "print(df_duplicates_clients)"
   ]
  },
  {
   "cell_type": "code",
   "execution_count": 21,
   "metadata": {},
   "outputs": [
    {
     "name": "stdout",
     "output_type": "stream",
     "text": [
      "       client_id  clnt_tenure_yr  clnt_tenure_mnth  clnt_age gendr  num_accts  \\\n",
      "0         836976             6.0              73.0      60.5     U        2.0   \n",
      "1        2304905             7.0              94.0      58.0     U        2.0   \n",
      "2        1439522             5.0              64.0      32.0     U        2.0   \n",
      "3        1562045            16.0             198.0      49.0     M        2.0   \n",
      "4        5126305            12.0             145.0      33.0     F        2.0   \n",
      "...          ...             ...               ...       ...   ...        ...   \n",
      "70604    7993686             4.0              56.0      38.5     U        3.0   \n",
      "70605    8981690            12.0             148.0      31.0     M        2.0   \n",
      "70606     333913            16.0             198.0      61.5     F        2.0   \n",
      "70607    1573142            21.0             255.0      68.0     M        3.0   \n",
      "70608    5602139            21.0             254.0      59.5     F        3.0   \n",
      "\n",
      "              bal  calls_6_mnth  logons_6_mnth variation  \n",
      "0        45105.30           6.0            9.0      Test  \n",
      "1       110860.30           6.0            9.0   Control  \n",
      "2        52467.79           6.0            9.0      Test  \n",
      "3        67454.65           3.0            6.0      Test  \n",
      "4       103671.75           0.0            3.0   Control  \n",
      "...           ...           ...            ...       ...  \n",
      "70604  1411062.68           5.0            5.0       NaN  \n",
      "70605   101867.07           6.0            6.0       NaN  \n",
      "70606    40745.00           3.0            3.0       NaN  \n",
      "70607   475114.69           4.0            4.0       NaN  \n",
      "70608   157498.73           7.0            7.0       NaN  \n",
      "\n",
      "[70609 rows x 10 columns]\n"
     ]
    }
   ],
   "source": [
    "# Deleting all duplicates\n",
    "df_clients_nd = df_clients.drop_duplicates(keep=False)\n",
    "\n",
    "print(df_clients_nd)"
   ]
  },
  {
   "cell_type": "markdown",
   "metadata": {},
   "source": [
    "### 2.1.2 Nulls"
   ]
  },
  {
   "cell_type": "code",
   "execution_count": 22,
   "metadata": {},
   "outputs": [
    {
     "name": "stdout",
     "output_type": "stream",
     "text": [
      "client_id               0\n",
      "clnt_tenure_yr         14\n",
      "clnt_tenure_mnth       14\n",
      "clnt_age               15\n",
      "gendr                  14\n",
      "num_accts              14\n",
      "bal                    14\n",
      "calls_6_mnth           14\n",
      "logons_6_mnth          14\n",
      "variation           20109\n",
      "dtype: int64\n"
     ]
    }
   ],
   "source": [
    "missing_clients_data = df_clients_nd.isnull().sum()\n",
    "print(missing_clients_data)"
   ]
  },
  {
   "cell_type": "markdown",
   "metadata": {},
   "source": [
    "We procced to drop rows with nulls data (20109 rows)"
   ]
  },
  {
   "cell_type": "code",
   "execution_count": 23,
   "metadata": {},
   "outputs": [
    {
     "name": "stdout",
     "output_type": "stream",
     "text": [
      "       client_id  clnt_tenure_yr  clnt_tenure_mnth  clnt_age gendr  num_accts  \\\n",
      "0         836976             6.0              73.0      60.5     U        2.0   \n",
      "1        2304905             7.0              94.0      58.0     U        2.0   \n",
      "2        1439522             5.0              64.0      32.0     U        2.0   \n",
      "3        1562045            16.0             198.0      49.0     M        2.0   \n",
      "4        5126305            12.0             145.0      33.0     F        2.0   \n",
      "...          ...             ...               ...       ...   ...        ...   \n",
      "50495    1780858            21.0             262.0      68.5     M        3.0   \n",
      "50496    6967120            21.0             260.0      68.5     M        3.0   \n",
      "50497    5826160            20.0             249.0      56.5     F        2.0   \n",
      "50498    8739285            19.0             229.0      69.5     F        2.0   \n",
      "50499    7468138            18.0             222.0      61.0     F        3.0   \n",
      "\n",
      "              bal  calls_6_mnth  logons_6_mnth variation  \n",
      "0        45105.30           6.0            9.0      Test  \n",
      "1       110860.30           6.0            9.0   Control  \n",
      "2        52467.79           6.0            9.0      Test  \n",
      "3        67454.65           3.0            6.0      Test  \n",
      "4       103671.75           0.0            3.0   Control  \n",
      "...           ...           ...            ...       ...  \n",
      "50495   372100.59           6.0            9.0      Test  \n",
      "50496  4279873.38           6.0            9.0   Control  \n",
      "50497    44837.16           2.0            5.0      Test  \n",
      "50498    44994.24           1.0            4.0      Test  \n",
      "50499   209278.15           0.0            3.0      Test  \n",
      "\n",
      "[50487 rows x 10 columns]\n"
     ]
    }
   ],
   "source": [
    "df_clients_nd_nn = df_clients_nd.dropna()\n",
    "\n",
    "print(df_clients_nd_nn)"
   ]
  },
  {
   "cell_type": "markdown",
   "metadata": {},
   "source": [
    "### 2.1.3 Column client_id"
   ]
  },
  {
   "cell_type": "markdown",
   "metadata": {},
   "source": [
    "* Checking unique values"
   ]
  },
  {
   "cell_type": "code",
   "execution_count": 24,
   "metadata": {},
   "outputs": [
    {
     "data": {
      "text/plain": [
       "(50487, 10)"
      ]
     },
     "execution_count": 24,
     "metadata": {},
     "output_type": "execute_result"
    }
   ],
   "source": [
    "df_clients_nd_nn.shape"
   ]
  },
  {
   "cell_type": "code",
   "execution_count": 25,
   "metadata": {},
   "outputs": [
    {
     "data": {
      "text/plain": [
       "50487"
      ]
     },
     "execution_count": 25,
     "metadata": {},
     "output_type": "execute_result"
    }
   ],
   "source": [
    "df_clients_nd_nn['client_id'].nunique()"
   ]
  },
  {
   "cell_type": "markdown",
   "metadata": {},
   "source": [
    "Unique values for id_client is the same than shape, so we assume it is cleaned."
   ]
  },
  {
   "cell_type": "markdown",
   "metadata": {},
   "source": [
    "### 2.1.4 Column clnt_tenure_yr"
   ]
  },
  {
   "cell_type": "code",
   "execution_count": 26,
   "metadata": {},
   "outputs": [
    {
     "data": {
      "text/plain": [
       "0         6.0\n",
       "1         7.0\n",
       "2         5.0\n",
       "3        16.0\n",
       "4        12.0\n",
       "         ... \n",
       "50495    21.0\n",
       "50496    21.0\n",
       "50497    20.0\n",
       "50498    19.0\n",
       "50499    18.0\n",
       "Name: clnt_tenure_yr, Length: 50487, dtype: float64"
      ]
     },
     "metadata": {},
     "output_type": "display_data"
    },
    {
     "name": "stdout",
     "output_type": "stream",
     "text": [
      "Valor mínimo: 2.0\n",
      "Valor mínimo: 55.0\n"
     ]
    }
   ],
   "source": [
    "display(df_clients_nd_nn['clnt_tenure_yr'])\n",
    "print(f\"Valor mínimo: {df_clients_nd_nn['clnt_tenure_yr'].min()}\")\n",
    "print(f\"Valor mínimo: {df_clients_nd_nn['clnt_tenure_yr'].max()}\")"
   ]
  },
  {
   "cell_type": "markdown",
   "metadata": {},
   "source": [
    "We change the column datatype:"
   ]
  },
  {
   "cell_type": "code",
   "execution_count": 27,
   "metadata": {},
   "outputs": [
    {
     "name": "stderr",
     "output_type": "stream",
     "text": [
      "C:\\Users\\Carlos\\AppData\\Local\\Temp\\ipykernel_26304\\2219402206.py:1: SettingWithCopyWarning: \n",
      "A value is trying to be set on a copy of a slice from a DataFrame.\n",
      "Try using .loc[row_indexer,col_indexer] = value instead\n",
      "\n",
      "See the caveats in the documentation: https://pandas.pydata.org/pandas-docs/stable/user_guide/indexing.html#returning-a-view-versus-a-copy\n",
      "  df_clients_nd_nn['clnt_tenure_yr'] = df_clients_nd_nn['clnt_tenure_yr'].astype(int)\n"
     ]
    }
   ],
   "source": [
    "df_clients_nd_nn['clnt_tenure_yr'] = df_clients_nd_nn['clnt_tenure_yr'].astype(int)"
   ]
  },
  {
   "cell_type": "code",
   "execution_count": 28,
   "metadata": {},
   "outputs": [
    {
     "data": {
      "text/plain": [
       "array([ 6,  7,  5, 16, 12, 30, 15,  8,  4,  3, 10, 11, 13, 14, 19, 18, 25,\n",
       "       23, 21, 17,  9, 27, 24, 20, 28, 22, 29, 46, 26, 32, 33, 35,  2, 38,\n",
       "       31, 48, 34, 36, 51, 47, 49, 37, 39, 40, 55, 42, 44, 43, 50, 54, 41,\n",
       "       45, 52])"
      ]
     },
     "execution_count": 28,
     "metadata": {},
     "output_type": "execute_result"
    }
   ],
   "source": [
    "df_clients_nd_nn['clnt_tenure_yr'].unique()"
   ]
  },
  {
   "cell_type": "markdown",
   "metadata": {},
   "source": [
    "### 2.1.5 Column clnt_tenure_mnth"
   ]
  },
  {
   "cell_type": "code",
   "execution_count": 29,
   "metadata": {},
   "outputs": [
    {
     "data": {
      "text/plain": [
       "0         6\n",
       "1         7\n",
       "2         5\n",
       "3        16\n",
       "4        12\n",
       "         ..\n",
       "50495    21\n",
       "50496    21\n",
       "50497    20\n",
       "50498    19\n",
       "50499    18\n",
       "Name: clnt_tenure_yr, Length: 50487, dtype: int32"
      ]
     },
     "metadata": {},
     "output_type": "display_data"
    },
    {
     "name": "stdout",
     "output_type": "stream",
     "text": [
      "Valor mínimo: 2\n",
      "Valor mínimo: 55\n"
     ]
    }
   ],
   "source": [
    "display(df_clients_nd_nn['clnt_tenure_yr'])\n",
    "print(f\"Valor mínimo: {df_clients_nd_nn['clnt_tenure_yr'].min()}\")\n",
    "print(f\"Valor mínimo: {df_clients_nd_nn['clnt_tenure_yr'].max()}\")"
   ]
  },
  {
   "cell_type": "markdown",
   "metadata": {},
   "source": [
    "We change the column datatype:"
   ]
  },
  {
   "cell_type": "code",
   "execution_count": 30,
   "metadata": {},
   "outputs": [
    {
     "name": "stderr",
     "output_type": "stream",
     "text": [
      "C:\\Users\\Carlos\\AppData\\Local\\Temp\\ipykernel_26304\\143528322.py:1: SettingWithCopyWarning: \n",
      "A value is trying to be set on a copy of a slice from a DataFrame.\n",
      "Try using .loc[row_indexer,col_indexer] = value instead\n",
      "\n",
      "See the caveats in the documentation: https://pandas.pydata.org/pandas-docs/stable/user_guide/indexing.html#returning-a-view-versus-a-copy\n",
      "  df_clients_nd_nn['clnt_tenure_mnth'] = df_clients_nd_nn['clnt_tenure_mnth'].astype(int)\n"
     ]
    }
   ],
   "source": [
    "df_clients_nd_nn['clnt_tenure_mnth'] = df_clients_nd_nn['clnt_tenure_mnth'].astype(int)"
   ]
  },
  {
   "cell_type": "code",
   "execution_count": 31,
   "metadata": {},
   "outputs": [
    {
     "data": {
      "text/plain": [
       "array([ 73,  94,  64, 198, 145,  71,  66, 361, 369, 189, 100,  99,  67,\n",
       "       193,  58,  47, 122, 136, 101, 103,  70, 152, 160,  80,  88,  86,\n",
       "        65,  68,  93,  85, 168, 142, 228, 223, 305, 286, 285, 280, 254,\n",
       "       253, 278, 221, 216, 212, 204, 260, 116, 130, 177, 159, 190,  89,\n",
       "        91, 129, 329,  92,  82, 169, 239,  69, 178,  95,  63, 187, 288,\n",
       "       261, 251, 250,  56,  60, 123, 175, 188,  59, 336, 149, 156, 330,\n",
       "       155, 167,  96, 242, 163,  81, 182, 134, 113, 172, 120, 105, 271,\n",
       "       244, 200, 157,  78, 151, 121, 184, 335, 357, 111, 185,  76, 148,\n",
       "        97,  83, 347, 324, 162, 194,  74, 186, 300, 289, 295, 282, 270,\n",
       "       246, 229, 206, 109, 343, 176, 144, 161, 179, 106, 154, 119,  75,\n",
       "       166, 143, 202, 326, 298, 290, 279, 252,  57, 334, 150,  46, 114,\n",
       "       174,  72, 107, 164, 131, 554, 140, 118, 292, 273, 257, 225, 128,\n",
       "       135, 258, 126, 359, 210, 263, 262, 255, 214, 310, 141, 319, 395,\n",
       "       108, 181, 173,  55, 203, 297, 213, 183, 115, 117, 299, 287, 269,\n",
       "       222, 195, 127, 245, 110, 102,  54, 277, 276, 274, 249, 147, 153,\n",
       "        84, 132, 312,  79, 146, 346, 348, 332, 170, 267, 191,  38, 205,\n",
       "       265, 264, 234, 233, 208,  53, 399, 197, 139,  61, 124, 165, 236,\n",
       "       219, 215, 226, 388, 421, 192, 306, 266, 240, 231, 180, 296,  87,\n",
       "       158, 227, 196, 199,  34, 397,  90, 349,  42, 424, 337, 207, 104,\n",
       "       338, 137, 201,  62, 294, 230, 220, 209,  49, 321, 345, 138,  33,\n",
       "       238, 459, 171, 355,  98, 237, 235, 370, 352,  48, 303, 259, 218,\n",
       "       322, 428, 247, 241, 341, 302, 217, 360, 385, 383, 576, 293, 243,\n",
       "       350, 340,  36, 256, 323, 354, 232, 318, 313,  51,  77, 430, 420,\n",
       "       268, 275, 317, 339,  35, 327, 407, 301, 133, 211, 125, 112,  43,\n",
       "       281,  45, 316,  40, 325, 291, 368, 384, 248, 382, 314, 408, 284,\n",
       "       283, 376, 304, 309, 356, 394, 386, 311, 419, 411, 406, 409, 464,\n",
       "       224, 333, 371, 358, 401, 320, 413, 375, 422, 272,  52, 342, 307,\n",
       "       328, 381, 434, 353, 612, 400,  50, 344, 367, 415, 364, 374, 416,\n",
       "       391, 431, 423, 396, 315, 378,  44, 379, 569, 596, 393, 392,  41,\n",
       "       362, 451, 439, 331, 468, 418, 442, 389,  37, 481, 366, 351, 390,\n",
       "       402, 463,  39, 432, 403, 417, 461, 380, 482, 460, 372, 308, 373,\n",
       "       465, 404, 412, 387, 561, 669, 429, 585, 414, 365, 427, 504, 433,\n",
       "       444, 456, 410, 441, 512, 445, 539, 516, 363, 454, 589, 425, 377,\n",
       "       457, 443, 398, 484, 473, 507, 475, 449, 668, 602, 405, 446, 608,\n",
       "       447, 440, 453, 613, 462, 483, 479, 562, 485, 655, 448, 472, 564,\n",
       "       526, 532, 511, 492, 426, 593, 455, 450, 581, 550, 624, 571, 563,\n",
       "       469])"
      ]
     },
     "execution_count": 31,
     "metadata": {},
     "output_type": "execute_result"
    }
   ],
   "source": [
    "df_clients_nd_nn['clnt_tenure_mnth'].unique()"
   ]
  },
  {
   "cell_type": "markdown",
   "metadata": {},
   "source": [
    "Let's see if moonths and years of tenure are coherent. "
   ]
  },
  {
   "cell_type": "code",
   "execution_count": 32,
   "metadata": {},
   "outputs": [
    {
     "name": "stdout",
     "output_type": "stream",
     "text": [
      "       client_id  clnt_tenure_yr  clnt_tenure_mnth  clnt_age gendr  num_accts  \\\n",
      "113      7045562               7                96      33.5     U        3.0   \n",
      "1035     6895833               7                96      58.5     U        2.0   \n",
      "1529     6915261              11               144      46.0     F        2.0   \n",
      "1648      911208              11               144      34.5     M        2.0   \n",
      "1703      346409              15               192      48.5     M        2.0   \n",
      "2196     3071537               3                48      31.5     U        2.0   \n",
      "12235    1114136              15               192      60.0     M        3.0   \n",
      "13343    7041735              11               144      22.5     F        2.0   \n",
      "16310    7479669              23               288      75.0     M        3.0   \n",
      "23813    2798244               7                96      33.5     U        2.0   \n",
      "24424    1230061              15               192      51.0     M        2.0   \n",
      "24793    8996903              19               240      60.5     M        2.0   \n",
      "24934    1112135              19               240      57.0     M        2.0   \n",
      "25234    5525306              15               192      37.5     M        3.0   \n",
      "25454    5973130              11               144      35.5     M        2.0   \n",
      "27429    8555009              23               288      55.5     M        5.0   \n",
      "28343    9859629              11               144      45.5     F        2.0   \n",
      "35436    5320874               7                96      34.5     U        3.0   \n",
      "35550    6430083              23               288      20.5     F        3.0   \n",
      "36070    7430424               7                96      51.0     U        2.0   \n",
      "36956    6552010               7                96      44.5     U        2.0   \n",
      "37467    9893657              23               288      42.0     F        3.0   \n",
      "39490    2524954              11               144      60.5     M        2.0   \n",
      "39776    4660576               7                96      62.5     U        2.0   \n",
      "40517     943794               7                96      68.0     U        2.0   \n",
      "45358    9902433              11               144      51.0     F        2.0   \n",
      "45941     142725               7                96      67.0     U        3.0   \n",
      "46488    7285965               3                48      24.0     U        3.0   \n",
      "46544    1171024               7                96      47.0     U        2.0   \n",
      "47633     227610               7                96      27.5     U        3.0   \n",
      "48629     373345               7                96      31.5     U        2.0   \n",
      "\n",
      "             bal  calls_6_mnth  logons_6_mnth variation  \n",
      "113     73644.53           1.0            4.0   Control  \n",
      "1035    42811.36           2.0            5.0      Test  \n",
      "1529   136775.04           6.0            9.0   Control  \n",
      "1648    23953.68           5.0            8.0      Test  \n",
      "1703   383551.00           2.0            5.0   Control  \n",
      "2196    31307.52           4.0            7.0   Control  \n",
      "12235  460321.09           1.0            4.0      Test  \n",
      "13343   81036.53           0.0            3.0   Control  \n",
      "16310   73945.50           4.0            7.0   Control  \n",
      "23813   46586.37           0.0            3.0   Control  \n",
      "24424  457101.91           6.0            9.0   Control  \n",
      "24793   28710.72           0.0            3.0      Test  \n",
      "24934   42298.02           6.0            9.0   Control  \n",
      "25234   65314.57           0.0            3.0      Test  \n",
      "25454   52435.91           6.0            9.0      Test  \n",
      "27429  922994.88           3.0            6.0      Test  \n",
      "28343  133202.59           0.0            3.0      Test  \n",
      "35436   41206.54           6.0            9.0      Test  \n",
      "35550   58815.84           2.0            5.0   Control  \n",
      "36070   41224.84           4.0            7.0   Control  \n",
      "36956   55593.51           3.0            6.0      Test  \n",
      "37467  358905.85           6.0            9.0      Test  \n",
      "39490  231654.76           3.0            6.0   Control  \n",
      "39776  370386.01           6.0            9.0   Control  \n",
      "40517  299164.55           1.0            4.0      Test  \n",
      "45358   31911.48           1.0            4.0      Test  \n",
      "45941  145314.73           2.0            5.0   Control  \n",
      "46488   40527.35           6.0            9.0   Control  \n",
      "46544   56575.37           2.0            5.0      Test  \n",
      "47633   62437.01           6.0            9.0      Test  \n",
      "48629   29061.37           6.0            9.0      Test  \n"
     ]
    }
   ],
   "source": [
    "# Comprobamos si hay filas donde los meses son mayores o iguales a 12 pero no coinciden con los años\n",
    "df_inconsistencias = df_clients_nd_nn[(df_clients_nd_nn['clnt_tenure_mnth'] >= 12) & (df_clients_nd_nn['clnt_tenure_yr'] != df_clients_nd_nn['clnt_tenure_mnth'] // 12)]\n",
    "\n",
    "# Mostrar filas con inconsistencias\n",
    "print(df_inconsistencias)"
   ]
  },
  {
   "cell_type": "markdown",
   "metadata": {},
   "source": [
    "Let's drop that inconsistences:"
   ]
  },
  {
   "cell_type": "code",
   "execution_count": 33,
   "metadata": {},
   "outputs": [],
   "source": [
    "df_clients_nd_nn_in = df_clients_nd_nn.drop(df_inconsistencias.index)"
   ]
  },
  {
   "cell_type": "markdown",
   "metadata": {},
   "source": [
    "### 2.1.6 Column client_age"
   ]
  },
  {
   "cell_type": "code",
   "execution_count": 34,
   "metadata": {},
   "outputs": [
    {
     "data": {
      "text/plain": [
       "0        60.5\n",
       "1        58.0\n",
       "2        32.0\n",
       "3        49.0\n",
       "4        33.0\n",
       "         ... \n",
       "50495    68.5\n",
       "50496    68.5\n",
       "50497    56.5\n",
       "50498    69.5\n",
       "50499    61.0\n",
       "Name: clnt_age, Length: 50456, dtype: float64"
      ]
     },
     "metadata": {},
     "output_type": "display_data"
    },
    {
     "name": "stdout",
     "output_type": "stream",
     "text": [
      "Valor mínimo: 17.0\n",
      "Valor máximo: 96.0\n"
     ]
    }
   ],
   "source": [
    "display(df_clients_nd_nn_in['clnt_age'])\n",
    "print(f\"Valor mínimo: {df_clients_nd_nn_in['clnt_age'].min()}\")\n",
    "print(f\"Valor máximo: {df_clients_nd_nn_in['clnt_age'].max()}\")"
   ]
  },
  {
   "cell_type": "markdown",
   "metadata": {},
   "source": [
    "We round the client's age.We add the column."
   ]
  },
  {
   "cell_type": "code",
   "execution_count": 35,
   "metadata": {},
   "outputs": [],
   "source": [
    "df_clients_nd_nn_in['edad_redondeada'] = df_clients_nd_nn_in['clnt_age'].round()"
   ]
  },
  {
   "cell_type": "markdown",
   "metadata": {},
   "source": [
    "Let's graph ages"
   ]
  },
  {
   "cell_type": "code",
   "execution_count": 36,
   "metadata": {},
   "outputs": [
    {
     "data": {
      "image/png": "[encoded data removed]",
      "text/plain": [
       "<Figure size 1000x600 with 1 Axes>"
      ]
     },
     "metadata": {},
     "output_type": "display_data"
    }
   ],
   "source": [
    "# Supongamos que tu DataFrame tiene una columna llamada 'edad'\n",
    "df_clients_nd_nn_in['edad_redondeada'].value_counts().sort_index().plot(kind='bar', figsize=(10,6))\n",
    "\n",
    "# Añadir título y etiquetas\n",
    "plt.title('Distribución de Edades de los Clientes')\n",
    "plt.xlabel('Edad')\n",
    "plt.ylabel('Número de Clientes')\n",
    "\n",
    "# Mostrar el gráfico\n",
    "plt.show()"
   ]
  },
  {
   "cell_type": "markdown",
   "metadata": {},
   "source": [
    "### 2.1.7 Column gender"
   ]
  },
  {
   "cell_type": "code",
   "execution_count": 37,
   "metadata": {},
   "outputs": [
    {
     "data": {
      "text/plain": [
       "0        U\n",
       "1        U\n",
       "2        U\n",
       "3        M\n",
       "4        F\n",
       "        ..\n",
       "50495    M\n",
       "50496    M\n",
       "50497    F\n",
       "50498    F\n",
       "50499    F\n",
       "Name: gendr, Length: 50456, dtype: object"
      ]
     },
     "metadata": {},
     "output_type": "display_data"
    },
    {
     "name": "stdout",
     "output_type": "stream",
     "text": [
      "Valor mínimo: F\n",
      "Valor máximo: X\n"
     ]
    }
   ],
   "source": [
    "display(df_clients_nd_nn_in['gendr'])\n",
    "print(f\"Valor mínimo: {df_clients_nd_nn_in['gendr'].min()}\")\n",
    "print(f\"Valor máximo: {df_clients_nd_nn_in['gendr'].max()}\")"
   ]
  },
  {
   "cell_type": "markdown",
   "metadata": {},
   "source": [
    "Check unique values"
   ]
  },
  {
   "cell_type": "code",
   "execution_count": 38,
   "metadata": {},
   "outputs": [
    {
     "name": "stdout",
     "output_type": "stream",
     "text": [
      "\n",
      "Valores únicos en la columna 'gendr':\n",
      "['U' 'M' 'F' 'X']\n",
      "gendr\n",
      "U    17266\n",
      "M    16936\n",
      "F    16252\n",
      "X        2\n",
      "Name: count, dtype: int64\n"
     ]
    }
   ],
   "source": [
    "unique_genders = df_clients_nd_nn_in['gendr'].unique()\n",
    "count_genders = df_clients_nd_nn_in['gendr'].value_counts()\n",
    "print(\"\\nValores únicos en la columna 'gendr':\")\n",
    "print(unique_genders)\n",
    "print(count_genders)"
   ]
  },
  {
   "cell_type": "markdown",
   "metadata": {},
   "source": [
    "Let's replace X by U in those 2 values with X gender. "
   ]
  },
  {
   "cell_type": "code",
   "execution_count": 39,
   "metadata": {},
   "outputs": [],
   "source": [
    "df_clients_nd_nn_in['gendr'] = df_clients_nd_nn_in['gendr'].replace('X', 'U')"
   ]
  },
  {
   "cell_type": "code",
   "execution_count": 40,
   "metadata": {},
   "outputs": [],
   "source": [
    "# In case you wannna drop those.\n",
    "# df_clients_nd_nn_in_gdr = df_clients_nd_nn_in[df_clients_nd_nn_in['gendr'] != 'X']"
   ]
  },
  {
   "cell_type": "markdown",
   "metadata": {},
   "source": [
    "### 2.1.8 Column num_accts"
   ]
  },
  {
   "cell_type": "code",
   "execution_count": 41,
   "metadata": {},
   "outputs": [
    {
     "data": {
      "text/plain": [
       "0        2.0\n",
       "1        2.0\n",
       "2        2.0\n",
       "3        2.0\n",
       "4        2.0\n",
       "        ... \n",
       "50495    3.0\n",
       "50496    3.0\n",
       "50497    2.0\n",
       "50498    2.0\n",
       "50499    3.0\n",
       "Name: num_accts, Length: 50456, dtype: float64"
      ]
     },
     "metadata": {},
     "output_type": "display_data"
    },
    {
     "name": "stdout",
     "output_type": "stream",
     "text": [
      "Valor mínimo: 1.0\n",
      "Valor máximo: 7.0\n"
     ]
    }
   ],
   "source": [
    "display(df_clients_nd_nn_in['num_accts'])\n",
    "print(f\"Valor mínimo: {df_clients_nd_nn_in['num_accts'].min()}\")\n",
    "print(f\"Valor máximo: {df_clients_nd_nn_in['num_accts'].max()}\")"
   ]
  },
  {
   "cell_type": "markdown",
   "metadata": {},
   "source": [
    "We change the column datatype:"
   ]
  },
  {
   "cell_type": "code",
   "execution_count": 42,
   "metadata": {},
   "outputs": [],
   "source": [
    "df_clients_nd_nn_in['num_accts'] = df_clients_nd_nn_in['num_accts'].astype(int)"
   ]
  },
  {
   "cell_type": "code",
   "execution_count": 43,
   "metadata": {},
   "outputs": [
    {
     "data": {
      "text/plain": [
       "num_accts\n",
       "2    39700\n",
       "3     8937\n",
       "4     1585\n",
       "5      204\n",
       "6       23\n",
       "7        6\n",
       "1        1\n",
       "Name: count, dtype: int64"
      ]
     },
     "execution_count": 43,
     "metadata": {},
     "output_type": "execute_result"
    }
   ],
   "source": [
    "df_clients_nd_nn_in['num_accts'].value_counts()"
   ]
  },
  {
   "cell_type": "markdown",
   "metadata": {},
   "source": [
    "### 2.1.9 Column bal"
   ]
  },
  {
   "cell_type": "code",
   "execution_count": 44,
   "metadata": {},
   "outputs": [
    {
     "data": {
      "text/plain": [
       "0        2\n",
       "1        2\n",
       "2        2\n",
       "3        2\n",
       "4        2\n",
       "        ..\n",
       "50495    3\n",
       "50496    3\n",
       "50497    2\n",
       "50498    2\n",
       "50499    3\n",
       "Name: num_accts, Length: 50456, dtype: int32"
      ]
     },
     "metadata": {},
     "output_type": "display_data"
    },
    {
     "name": "stdout",
     "output_type": "stream",
     "text": [
      "Valor mínimo: 1\n",
      "Valor máximo: 7\n"
     ]
    }
   ],
   "source": [
    "display(df_clients_nd_nn_in['num_accts'])\n",
    "print(f\"Valor mínimo: {df_clients_nd_nn_in['num_accts'].min()}\")\n",
    "print(f\"Valor máximo: {df_clients_nd_nn_in['num_accts'].max()}\")"
   ]
  },
  {
   "cell_type": "code",
   "execution_count": 45,
   "metadata": {},
   "outputs": [
    {
     "data": {
      "text/plain": [
       "num_accts\n",
       "2    39700\n",
       "3     8937\n",
       "4     1585\n",
       "5      204\n",
       "6       23\n",
       "7        6\n",
       "1        1\n",
       "Name: count, dtype: int64"
      ]
     },
     "execution_count": 45,
     "metadata": {},
     "output_type": "execute_result"
    }
   ],
   "source": [
    "df_clients_nd_nn_in['num_accts'].value_counts()"
   ]
  },
  {
   "cell_type": "markdown",
   "metadata": {},
   "source": [
    "### 2.1.10 Column calls_6_month"
   ]
  },
  {
   "cell_type": "code",
   "execution_count": 46,
   "metadata": {},
   "outputs": [
    {
     "data": {
      "text/plain": [
       "0        6.0\n",
       "1        6.0\n",
       "2        6.0\n",
       "3        3.0\n",
       "4        0.0\n",
       "        ... \n",
       "50495    6.0\n",
       "50496    6.0\n",
       "50497    2.0\n",
       "50498    1.0\n",
       "50499    0.0\n",
       "Name: calls_6_mnth, Length: 50456, dtype: float64"
      ]
     },
     "metadata": {},
     "output_type": "display_data"
    },
    {
     "name": "stdout",
     "output_type": "stream",
     "text": [
      "Valor mínimo: 0.0\n",
      "Valor máximo: 6.0\n"
     ]
    }
   ],
   "source": [
    "display(df_clients_nd_nn_in['calls_6_mnth'])\n",
    "print(f\"Valor mínimo: {df_clients_nd_nn_in['calls_6_mnth'].min()}\")\n",
    "print(f\"Valor máximo: {df_clients_nd_nn_in['calls_6_mnth'].max()}\")"
   ]
  },
  {
   "cell_type": "code",
   "execution_count": 47,
   "metadata": {},
   "outputs": [
    {
     "data": {
      "text/plain": [
       "calls_6_mnth\n",
       "6.0    12215\n",
       "1.0     7904\n",
       "0.0     7727\n",
       "2.0     7210\n",
       "3.0     5850\n",
       "4.0     4844\n",
       "5.0     4706\n",
       "Name: count, dtype: int64"
      ]
     },
     "execution_count": 47,
     "metadata": {},
     "output_type": "execute_result"
    }
   ],
   "source": [
    "df_clients_nd_nn_in['calls_6_mnth'].value_counts()"
   ]
  },
  {
   "cell_type": "markdown",
   "metadata": {},
   "source": [
    "Let's turn into int"
   ]
  },
  {
   "cell_type": "code",
   "execution_count": 48,
   "metadata": {},
   "outputs": [],
   "source": [
    "df_clients_nd_nn_in['calls_6_mnth'] = df_clients_nd_nn_in['calls_6_mnth'].astype(int)"
   ]
  },
  {
   "cell_type": "markdown",
   "metadata": {},
   "source": [
    "### 2.1.11 Column logons_6_mnth"
   ]
  },
  {
   "cell_type": "code",
   "execution_count": 49,
   "metadata": {},
   "outputs": [
    {
     "data": {
      "text/plain": [
       "0        9.0\n",
       "1        9.0\n",
       "2        9.0\n",
       "3        6.0\n",
       "4        3.0\n",
       "        ... \n",
       "50495    9.0\n",
       "50496    9.0\n",
       "50497    5.0\n",
       "50498    4.0\n",
       "50499    3.0\n",
       "Name: logons_6_mnth, Length: 50456, dtype: float64"
      ]
     },
     "metadata": {},
     "output_type": "display_data"
    },
    {
     "name": "stdout",
     "output_type": "stream",
     "text": [
      "Valor mínimo: 3.0\n",
      "Valor máximo: 9.0\n"
     ]
    }
   ],
   "source": [
    "display(df_clients_nd_nn_in['logons_6_mnth'])\n",
    "print(f\"Valor mínimo: {df_clients_nd_nn_in['logons_6_mnth'].min()}\")\n",
    "print(f\"Valor máximo: {df_clients_nd_nn_in['logons_6_mnth'].max()}\")"
   ]
  },
  {
   "cell_type": "code",
   "execution_count": 50,
   "metadata": {},
   "outputs": [
    {
     "data": {
      "text/plain": [
       "logons_6_mnth\n",
       "9.0    12340\n",
       "4.0     7851\n",
       "3.0     7306\n",
       "5.0     7278\n",
       "6.0     5962\n",
       "7.0     4910\n",
       "8.0     4809\n",
       "Name: count, dtype: int64"
      ]
     },
     "execution_count": 50,
     "metadata": {},
     "output_type": "execute_result"
    }
   ],
   "source": [
    "df_clients_nd_nn_in['logons_6_mnth'].value_counts()"
   ]
  },
  {
   "cell_type": "code",
   "execution_count": 51,
   "metadata": {},
   "outputs": [],
   "source": [
    "df_clients_nd_nn_in['logons_6_mnth'] = df_clients_nd_nn_in['logons_6_mnth'].astype(int)"
   ]
  },
  {
   "cell_type": "markdown",
   "metadata": {},
   "source": [
    "### 2.1.12 Restart the index"
   ]
  },
  {
   "cell_type": "code",
   "execution_count": 52,
   "metadata": {},
   "outputs": [],
   "source": [
    "df_clients_nd_nn_in = df_clients_nd_nn_in.reset_index(drop=True)"
   ]
  },
  {
   "cell_type": "markdown",
   "metadata": {},
   "source": [
    "## 2.2 Cleaning Footprints Table"
   ]
  },
  {
   "cell_type": "markdown",
   "metadata": {},
   "source": [
    "### 2.2.1 Duplicates"
   ]
  },
  {
   "cell_type": "code",
   "execution_count": 53,
   "metadata": {},
   "outputs": [
    {
     "name": "stdout",
     "output_type": "stream",
     "text": [
      "        client_id             visitor_id                      visit_id  \\\n",
      "364       9358626  148475529_63668223960  223297395_36250329195_832161   \n",
      "365       9358626  148475529_63668223960  223297395_36250329195_832161   \n",
      "367       5376894  622509328_44408201172  688984457_43441834354_912755   \n",
      "368       5376894  622509328_44408201172  688984457_43441834354_912755   \n",
      "382        438567  923318467_50708963627  330543236_29863358529_771432   \n",
      "...           ...                    ...                           ...   \n",
      "412165    4408245   14058946_73585431797  994148957_84373994761_991865   \n",
      "412166    4408245   14058946_73585431797  994148957_84373994761_991865   \n",
      "412167    4408245   14058946_73585431797  994148957_84373994761_991865   \n",
      "412216    3897324   80177429_24869309091  149796456_64325617570_112561   \n",
      "412217    3897324   80177429_24869309091  149796456_64325617570_112561   \n",
      "\n",
      "       process_step            date_time  \n",
      "364           start  2017-04-28 12:27:28  \n",
      "365           start  2017-04-28 12:27:28  \n",
      "367           start  2017-04-28 14:20:01  \n",
      "368           start  2017-04-28 14:20:01  \n",
      "382           start  2017-04-28 02:52:29  \n",
      "...             ...                  ...  \n",
      "412165        start  2017-06-06 09:09:44  \n",
      "412166        start  2017-06-06 08:51:16  \n",
      "412167        start  2017-06-06 08:51:16  \n",
      "412216        start  2017-05-04 08:21:30  \n",
      "412217        start  2017-05-04 08:21:30  \n",
      "\n",
      "[19816 rows x 5 columns]\n"
     ]
    }
   ],
   "source": [
    "# Let's check how many duplicated rows there are.\n",
    "duplicates = df_footprint.duplicated(keep=False)\n",
    "df_duplicates = df_footprint[duplicates]\n",
    "\n",
    "print(df_duplicates)"
   ]
  },
  {
   "cell_type": "code",
   "execution_count": 54,
   "metadata": {},
   "outputs": [
    {
     "name": "stdout",
     "output_type": "stream",
     "text": [
      "        client_id             visitor_id                      visit_id  \\\n",
      "0         9988021   580560515_7732621733  781255054_21935453173_531117   \n",
      "1         9988021   580560515_7732621733  781255054_21935453173_531117   \n",
      "2         9988021   580560515_7732621733  781255054_21935453173_531117   \n",
      "3         9988021   580560515_7732621733  781255054_21935453173_531117   \n",
      "4         9988021   580560515_7732621733  781255054_21935453173_531117   \n",
      "...           ...                    ...                           ...   \n",
      "412259    9668240   388766751_9038881013   922267647_3096648104_968866   \n",
      "412260    9668240   388766751_9038881013   922267647_3096648104_968866   \n",
      "412261    9668240   388766751_9038881013   922267647_3096648104_968866   \n",
      "412262    9668240   388766751_9038881013   922267647_3096648104_968866   \n",
      "412263     674799  947159805_81558194550   86152093_47511127657_716022   \n",
      "\n",
      "       process_step            date_time  \n",
      "0            step_3  2017-04-17 15:27:07  \n",
      "1            step_2  2017-04-17 15:26:51  \n",
      "2            step_3  2017-04-17 15:19:22  \n",
      "3            step_2  2017-04-17 15:19:13  \n",
      "4            step_3  2017-04-17 15:18:04  \n",
      "...             ...                  ...  \n",
      "412259        start  2017-05-24 18:46:10  \n",
      "412260        start  2017-05-24 18:45:29  \n",
      "412261       step_1  2017-05-24 18:44:51  \n",
      "412262        start  2017-05-24 18:44:34  \n",
      "412263        start  2017-06-03 12:17:09  \n",
      "\n",
      "[735589 rows x 5 columns]\n"
     ]
    }
   ],
   "source": [
    "# Deleting all duplicates\n",
    "df_footprint_nd = df_footprint.drop_duplicates(keep=False)\n",
    "\n",
    "print(df_footprint_nd)"
   ]
  },
  {
   "cell_type": "markdown",
   "metadata": {},
   "source": [
    "### 2.2.2 Drop Clients not in experiment"
   ]
  },
  {
   "cell_type": "code",
   "execution_count": 55,
   "metadata": {},
   "outputs": [
    {
     "data": {
      "text/plain": [
       "[836976,\n",
       " 2304905,\n",
       " 1439522,\n",
       " 1562045,\n",
       " 5126305,\n",
       " 3727881,\n",
       " 272934,\n",
       " 388801,\n",
       " 285619,\n",
       " 8198645,\n",
       " 8368822,\n",
       " 2537139,\n",
       " 2208717,\n",
       " 2214073,\n",
       " 2368987,\n",
       " 2892152,\n",
       " 4536541,\n",
       " 3788589,\n",
       " 719792,\n",
       " 5904035,\n",
       " 1502049,\n",
       " 6590646,\n",
       " 7585111,\n",
       " 3638336,\n",
       " 9520009,\n",
       " 1508759,\n",
       " 9381346,\n",
       " 7035604,\n",
       " 3055315,\n",
       " 3350906,\n",
       " 2109862,\n",
       " 1549737,\n",
       " 7474517,\n",
       " 6448014,\n",
       " 6651826,\n",
       " 2305285,\n",
       " 5889920,\n",
       " 3065089,\n",
       " 313570,\n",
       " 9721424,\n",
       " 3753796,\n",
       " 6647577,\n",
       " 6341488,\n",
       " 838619,\n",
       " 2000151,\n",
       " 6579978,\n",
       " 8475126,\n",
       " 7419744,\n",
       " 9796602,\n",
       " 1329260,\n",
       " 4821014,\n",
       " 7906602,\n",
       " 2671231,\n",
       " 9587439,\n",
       " 5542798,\n",
       " 5977906,\n",
       " 7928244,\n",
       " 4906392,\n",
       " 3939684,\n",
       " 3731320,\n",
       " 9055726,\n",
       " 5808972,\n",
       " 7414763,\n",
       " 1531616,\n",
       " 8387066,\n",
       " 3402999,\n",
       " 8593187,\n",
       " 5908339,\n",
       " 4442018,\n",
       " 5727622,\n",
       " 3284361,\n",
       " 6666515,\n",
       " 9150149,\n",
       " 7176877,\n",
       " 410752,\n",
       " 3979917,\n",
       " 7759130,\n",
       " 5587497,\n",
       " 4264493,\n",
       " 9492169,\n",
       " 5816825,\n",
       " 9692048,\n",
       " 9250552,\n",
       " 1730954,\n",
       " 2264903,\n",
       " 7321667,\n",
       " 1460648,\n",
       " 2942135,\n",
       " 1459001,\n",
       " 6398341,\n",
       " 5531076,\n",
       " 3162487,\n",
       " 2570380,\n",
       " 5449775,\n",
       " 8415669,\n",
       " 6810931,\n",
       " 8096768,\n",
       " 6737425,\n",
       " 7949341,\n",
       " 7458635,\n",
       " 3322068,\n",
       " 1643775,\n",
       " 934609,\n",
       " 2408879,\n",
       " 1596507,\n",
       " 8763719,\n",
       " 7702214,\n",
       " 200698,\n",
       " 7449147,\n",
       " 2096514,\n",
       " 5474775,\n",
       " 6226205,\n",
       " 2069824,\n",
       " 8501949,\n",
       " 5376149,\n",
       " 148954,\n",
       " 7803610,\n",
       " 7772844,\n",
       " 4681026,\n",
       " 9242446,\n",
       " 1905822,\n",
       " 5586955,\n",
       " 6980695,\n",
       " 3097635,\n",
       " 2559930,\n",
       " 2693746,\n",
       " 9073948,\n",
       " 9897542,\n",
       " 6652996,\n",
       " 5601417,\n",
       " 4560228,\n",
       " 1592329,\n",
       " 5115750,\n",
       " 7885704,\n",
       " 2876901,\n",
       " 2365190,\n",
       " 4516383,\n",
       " 730546,\n",
       " 1860982,\n",
       " 1945276,\n",
       " 1525212,\n",
       " 7139038,\n",
       " 3678422,\n",
       " 121354,\n",
       " 7597197,\n",
       " 8806527,\n",
       " 4561742,\n",
       " 8011247,\n",
       " 6689398,\n",
       " 5416822,\n",
       " 3093790,\n",
       " 9625688,\n",
       " 7280817,\n",
       " 6055529,\n",
       " 6679780,\n",
       " 2668008,\n",
       " 9247669,\n",
       " 7704754,\n",
       " 3455403,\n",
       " 3930919,\n",
       " 2615801,\n",
       " 4110312,\n",
       " 7794321,\n",
       " 1165994,\n",
       " 5650730,\n",
       " 7695537,\n",
       " 3545210,\n",
       " 4149206,\n",
       " 3431014,\n",
       " 8972482,\n",
       " 151444,\n",
       " 3778929,\n",
       " 9341975,\n",
       " 9070908,\n",
       " 3070720,\n",
       " 1840230,\n",
       " 4761400,\n",
       " 312094,\n",
       " 9435892,\n",
       " 3270955,\n",
       " 6840204,\n",
       " 8971654,\n",
       " 7288041,\n",
       " 3143881,\n",
       " 340192,\n",
       " 7845532,\n",
       " 4447192,\n",
       " 5119615,\n",
       " 976546,\n",
       " 4644384,\n",
       " 4028430,\n",
       " 2519481,\n",
       " 4412954,\n",
       " 9635691,\n",
       " 3362778,\n",
       " 5687972,\n",
       " 8676893,\n",
       " 4399072,\n",
       " 7705023,\n",
       " 4260236,\n",
       " 8368220,\n",
       " 6929446,\n",
       " 1524426,\n",
       " 1105924,\n",
       " 6770720,\n",
       " 5572217,\n",
       " 3604010,\n",
       " 8506583,\n",
       " 4853148,\n",
       " 425532,\n",
       " 7307378,\n",
       " 929350,\n",
       " 1435050,\n",
       " 929038,\n",
       " 5205837,\n",
       " 5754354,\n",
       " 4231609,\n",
       " 493194,\n",
       " 3706067,\n",
       " 5474772,\n",
       " 3937930,\n",
       " 4088467,\n",
       " 3767937,\n",
       " 278839,\n",
       " 9989642,\n",
       " 8789491,\n",
       " 692622,\n",
       " 8253877,\n",
       " 1168373,\n",
       " 5981232,\n",
       " 461846,\n",
       " 9821262,\n",
       " 416346,\n",
       " 7185880,\n",
       " 3460496,\n",
       " 39968,\n",
       " 9262445,\n",
       " 171583,\n",
       " 8730282,\n",
       " 7412471,\n",
       " 86877,\n",
       " 7669500,\n",
       " 6488984,\n",
       " 327151,\n",
       " 1413769,\n",
       " 3246979,\n",
       " 7056174,\n",
       " 7205884,\n",
       " 6201791,\n",
       " 3527743,\n",
       " 7018468,\n",
       " 1949872,\n",
       " 1056722,\n",
       " 1887639,\n",
       " 7153152,\n",
       " 1897278,\n",
       " 820519,\n",
       " 4653489,\n",
       " 3660141,\n",
       " 6815257,\n",
       " 9767681,\n",
       " 4474907,\n",
       " 6717435,\n",
       " 6958124,\n",
       " 5869570,\n",
       " 979208,\n",
       " 681824,\n",
       " 9006366,\n",
       " 8274863,\n",
       " 4055202,\n",
       " 9358802,\n",
       " 5749370,\n",
       " 8333682,\n",
       " 203223,\n",
       " 9153853,\n",
       " 9546409,\n",
       " 3544760,\n",
       " 9308901,\n",
       " 72395,\n",
       " 2346575,\n",
       " 7995744,\n",
       " 5078188,\n",
       " 6250726,\n",
       " 7434562,\n",
       " 4877364,\n",
       " 3736142,\n",
       " 9863604,\n",
       " 8284433,\n",
       " 7183351,\n",
       " 3959099,\n",
       " 4362459,\n",
       " 3083365,\n",
       " 556698,\n",
       " 4333518,\n",
       " 6540065,\n",
       " 1646150,\n",
       " 6550550,\n",
       " 4319069,\n",
       " 5931603,\n",
       " 2938423,\n",
       " 2215051,\n",
       " 2952627,\n",
       " 2790667,\n",
       " 9027736,\n",
       " 7240133,\n",
       " 6196555,\n",
       " 6012640,\n",
       " 5966661,\n",
       " 1820934,\n",
       " 7190256,\n",
       " 9048757,\n",
       " 5937897,\n",
       " 560810,\n",
       " 704762,\n",
       " 1350724,\n",
       " 9234234,\n",
       " 6765972,\n",
       " 8037116,\n",
       " 2754680,\n",
       " 8984143,\n",
       " 9797884,\n",
       " 7680980,\n",
       " 4928575,\n",
       " 2406021,\n",
       " 1908158,\n",
       " 881563,\n",
       " 2653016,\n",
       " 548340,\n",
       " 2609914,\n",
       " 3055755,\n",
       " 8798149,\n",
       " 4278502,\n",
       " 5004793,\n",
       " 1040359,\n",
       " 1334827,\n",
       " 8945610,\n",
       " 9371037,\n",
       " 2509909,\n",
       " 2600705,\n",
       " 3442959,\n",
       " 9207047,\n",
       " 3991847,\n",
       " 2959476,\n",
       " 973686,\n",
       " 7988248,\n",
       " 3158341,\n",
       " 9373092,\n",
       " 7561241,\n",
       " 3590454,\n",
       " 4374343,\n",
       " 1025015,\n",
       " 6524861,\n",
       " 3668675,\n",
       " 8257047,\n",
       " 1753961,\n",
       " 9432051,\n",
       " 9591707,\n",
       " 5522802,\n",
       " 5319506,\n",
       " 6399171,\n",
       " 7569257,\n",
       " 547839,\n",
       " 5781524,\n",
       " 6286537,\n",
       " 2529465,\n",
       " 4937056,\n",
       " 3132961,\n",
       " 6248651,\n",
       " 7187827,\n",
       " 9516559,\n",
       " 2166490,\n",
       " 9876315,\n",
       " 9795687,\n",
       " 3573589,\n",
       " 6082639,\n",
       " 8163796,\n",
       " 3191374,\n",
       " 3334174,\n",
       " 2057447,\n",
       " 3778920,\n",
       " 4834461,\n",
       " 2365886,\n",
       " 4848480,\n",
       " 7656967,\n",
       " 6559072,\n",
       " 2960870,\n",
       " 399690,\n",
       " 3319565,\n",
       " 470365,\n",
       " 5769715,\n",
       " 8336549,\n",
       " 7313442,\n",
       " 327337,\n",
       " 4296369,\n",
       " 1830058,\n",
       " 3337300,\n",
       " 272484,\n",
       " 6666419,\n",
       " 8830618,\n",
       " 8306917,\n",
       " 8068242,\n",
       " 2697914,\n",
       " 8730685,\n",
       " 5894819,\n",
       " 3539231,\n",
       " 9484909,\n",
       " 695585,\n",
       " 2485287,\n",
       " 736752,\n",
       " 1597883,\n",
       " 675111,\n",
       " 5116128,\n",
       " 3194104,\n",
       " 7151522,\n",
       " 3319635,\n",
       " 3197890,\n",
       " 28857,\n",
       " 6334676,\n",
       " 7781717,\n",
       " 1465714,\n",
       " 6020962,\n",
       " 2472976,\n",
       " 7020609,\n",
       " 2956739,\n",
       " 5517122,\n",
       " 1241733,\n",
       " 4458772,\n",
       " 242235,\n",
       " 8544599,\n",
       " 793692,\n",
       " 595241,\n",
       " 9590571,\n",
       " 6206582,\n",
       " 5954855,\n",
       " 5076263,\n",
       " 9957845,\n",
       " 509544,\n",
       " 8969191,\n",
       " 1288843,\n",
       " 4319222,\n",
       " 9092174,\n",
       " 3086399,\n",
       " 730801,\n",
       " 5552968,\n",
       " 4366496,\n",
       " 6615925,\n",
       " 9493249,\n",
       " 3290004,\n",
       " 4866771,\n",
       " 9517536,\n",
       " 5293569,\n",
       " 9754728,\n",
       " 3777909,\n",
       " 2515665,\n",
       " 198935,\n",
       " 2449759,\n",
       " 6641855,\n",
       " 3874169,\n",
       " 392459,\n",
       " 3806151,\n",
       " 7414306,\n",
       " 9295772,\n",
       " 3887490,\n",
       " 9138140,\n",
       " 1346,\n",
       " 1814940,\n",
       " 9075393,\n",
       " 16095,\n",
       " 533553,\n",
       " 7452449,\n",
       " 5142178,\n",
       " 9081837,\n",
       " 3022895,\n",
       " 6768127,\n",
       " 7244004,\n",
       " 4405688,\n",
       " 2658149,\n",
       " 6373368,\n",
       " 1007748,\n",
       " 5092651,\n",
       " 9449889,\n",
       " 8088920,\n",
       " 4153564,\n",
       " 1805954,\n",
       " 1990964,\n",
       " 811242,\n",
       " 6380474,\n",
       " 5690823,\n",
       " 9105369,\n",
       " 4494336,\n",
       " 7198363,\n",
       " 5644663,\n",
       " 1695407,\n",
       " 2948165,\n",
       " 9714140,\n",
       " 2826516,\n",
       " 6877738,\n",
       " 9040967,\n",
       " 3367073,\n",
       " 943015,\n",
       " 1020634,\n",
       " 7718817,\n",
       " 1829130,\n",
       " 9336495,\n",
       " 8722759,\n",
       " 4952288,\n",
       " 7953367,\n",
       " 5870441,\n",
       " 3233554,\n",
       " 4787368,\n",
       " 6930182,\n",
       " 4738519,\n",
       " 6604463,\n",
       " 6050973,\n",
       " 5579672,\n",
       " 1290934,\n",
       " 7024366,\n",
       " 663941,\n",
       " 1196376,\n",
       " 9229226,\n",
       " 2985233,\n",
       " 2186143,\n",
       " 6567268,\n",
       " 8732389,\n",
       " 7038187,\n",
       " 8047484,\n",
       " 5101399,\n",
       " 8381127,\n",
       " 7396309,\n",
       " 1792552,\n",
       " 848570,\n",
       " 3452850,\n",
       " 4786414,\n",
       " 9598074,\n",
       " 2968201,\n",
       " 8169732,\n",
       " 5156720,\n",
       " 4333852,\n",
       " 83683,\n",
       " 7236024,\n",
       " 3953921,\n",
       " 3899785,\n",
       " 8060496,\n",
       " 8682039,\n",
       " 5798572,\n",
       " 4656898,\n",
       " 2865677,\n",
       " 8832236,\n",
       " 2691632,\n",
       " 6842137,\n",
       " 3041776,\n",
       " 3167061,\n",
       " 6514104,\n",
       " 2839247,\n",
       " 1903850,\n",
       " 3992853,\n",
       " 187901,\n",
       " 6331923,\n",
       " 2941394,\n",
       " 2663775,\n",
       " 5337525,\n",
       " 967593,\n",
       " 1667795,\n",
       " 6991948,\n",
       " 1391630,\n",
       " 5085938,\n",
       " 9844262,\n",
       " 2013867,\n",
       " 8538985,\n",
       " 8444793,\n",
       " 2833480,\n",
       " 5829248,\n",
       " 7891259,\n",
       " 6603420,\n",
       " 8847388,\n",
       " 945109,\n",
       " 930596,\n",
       " 7158443,\n",
       " 7521207,\n",
       " 1098398,\n",
       " 6885626,\n",
       " 4409593,\n",
       " 7213148,\n",
       " 6772022,\n",
       " 6004537,\n",
       " 5357266,\n",
       " 3749858,\n",
       " 1152607,\n",
       " 2029226,\n",
       " 7570180,\n",
       " 7972854,\n",
       " 5559456,\n",
       " 3329950,\n",
       " 1972780,\n",
       " 2050426,\n",
       " 2475990,\n",
       " 6511554,\n",
       " 5961178,\n",
       " 4238252,\n",
       " 3999026,\n",
       " 8074391,\n",
       " 1505011,\n",
       " 8363051,\n",
       " 3966756,\n",
       " 7627270,\n",
       " 2111761,\n",
       " 6080815,\n",
       " 2211630,\n",
       " 6005237,\n",
       " 8404715,\n",
       " 1672032,\n",
       " 8803272,\n",
       " 3603649,\n",
       " 8004671,\n",
       " 3695599,\n",
       " 7861570,\n",
       " 643544,\n",
       " 8128275,\n",
       " 7542559,\n",
       " 3145774,\n",
       " 2608155,\n",
       " 9224876,\n",
       " 6746595,\n",
       " 7176632,\n",
       " 9409347,\n",
       " 9963117,\n",
       " 2769229,\n",
       " 4508825,\n",
       " 6865229,\n",
       " 5447175,\n",
       " 918538,\n",
       " 4244298,\n",
       " 1002041,\n",
       " 8057539,\n",
       " 9436140,\n",
       " 3240177,\n",
       " 3388462,\n",
       " 5334594,\n",
       " 2765161,\n",
       " 1473236,\n",
       " 8058142,\n",
       " 5751427,\n",
       " 2455070,\n",
       " 1088201,\n",
       " 5283980,\n",
       " 1687262,\n",
       " 3010146,\n",
       " 9121026,\n",
       " 7447069,\n",
       " 3782508,\n",
       " 9068680,\n",
       " 5518659,\n",
       " 9861727,\n",
       " 1396964,\n",
       " 7245855,\n",
       " 8248476,\n",
       " 2258357,\n",
       " 1111086,\n",
       " 5572873,\n",
       " 6299914,\n",
       " 4690774,\n",
       " 3990599,\n",
       " 4919508,\n",
       " 3058849,\n",
       " 6941992,\n",
       " 5336299,\n",
       " 7082310,\n",
       " 8950411,\n",
       " 1879312,\n",
       " 3959519,\n",
       " 8610616,\n",
       " 6102903,\n",
       " 6669765,\n",
       " 1180546,\n",
       " 1721941,\n",
       " 700784,\n",
       " 9552319,\n",
       " 9255104,\n",
       " 3149079,\n",
       " 5153501,\n",
       " 2122736,\n",
       " 1275733,\n",
       " 6711443,\n",
       " 8422642,\n",
       " 4863224,\n",
       " 546337,\n",
       " 3537735,\n",
       " 9218358,\n",
       " 8343009,\n",
       " 7191234,\n",
       " 8794039,\n",
       " 9795049,\n",
       " 8170143,\n",
       " 4012328,\n",
       " 5623848,\n",
       " 8680964,\n",
       " 5255030,\n",
       " 4856097,\n",
       " 4066207,\n",
       " 4978709,\n",
       " 5258581,\n",
       " 144678,\n",
       " 8215989,\n",
       " 1363737,\n",
       " 3151112,\n",
       " 8588068,\n",
       " 2226478,\n",
       " 5081402,\n",
       " 3172746,\n",
       " 267391,\n",
       " 3450766,\n",
       " 250645,\n",
       " 1866820,\n",
       " 6904931,\n",
       " 5041971,\n",
       " 5761113,\n",
       " 6103153,\n",
       " 7022761,\n",
       " 4580091,\n",
       " 4529371,\n",
       " 6173581,\n",
       " 191300,\n",
       " 6195253,\n",
       " 8505452,\n",
       " 6478662,\n",
       " 8962369,\n",
       " 5910608,\n",
       " 1858800,\n",
       " 2549185,\n",
       " 9516166,\n",
       " 6280963,\n",
       " 3875133,\n",
       " 2420905,\n",
       " 7651432,\n",
       " 6652360,\n",
       " 9182143,\n",
       " 8229804,\n",
       " 5283242,\n",
       " 7631819,\n",
       " 2601202,\n",
       " 8486666,\n",
       " 5141416,\n",
       " 3484978,\n",
       " 8928774,\n",
       " 8017188,\n",
       " 2096040,\n",
       " 4744361,\n",
       " 1671477,\n",
       " 595657,\n",
       " 8048935,\n",
       " 7146195,\n",
       " 4647478,\n",
       " 5464721,\n",
       " 3882086,\n",
       " 4385232,\n",
       " 5490056,\n",
       " 7188669,\n",
       " 9656424,\n",
       " 329574,\n",
       " 2636198,\n",
       " 2495355,\n",
       " 7726175,\n",
       " 737881,\n",
       " 1237163,\n",
       " 3369137,\n",
       " 9395390,\n",
       " 432789,\n",
       " 5249795,\n",
       " 9408869,\n",
       " 7872084,\n",
       " 1024268,\n",
       " 8644435,\n",
       " 4446759,\n",
       " 6571403,\n",
       " 6208259,\n",
       " 8094167,\n",
       " 2271164,\n",
       " 9243700,\n",
       " 2354204,\n",
       " 6449098,\n",
       " 409787,\n",
       " 7871271,\n",
       " 3737834,\n",
       " 3394004,\n",
       " 7096317,\n",
       " 7494176,\n",
       " 9268374,\n",
       " 3127831,\n",
       " 7045882,\n",
       " 7044362,\n",
       " 6672315,\n",
       " 2240256,\n",
       " 3694585,\n",
       " 3221598,\n",
       " 7149854,\n",
       " 848688,\n",
       " 1374292,\n",
       " 7394783,\n",
       " 8752868,\n",
       " 3479816,\n",
       " 7203736,\n",
       " 1108090,\n",
       " 1260653,\n",
       " 1112343,\n",
       " 73453,\n",
       " 6095280,\n",
       " 598705,\n",
       " 7337453,\n",
       " 2680334,\n",
       " 6697221,\n",
       " 3813623,\n",
       " 1978167,\n",
       " 4765026,\n",
       " 3305322,\n",
       " 6112197,\n",
       " 9117250,\n",
       " 5314587,\n",
       " 3198093,\n",
       " 1357384,\n",
       " 4472571,\n",
       " 6721172,\n",
       " 769765,\n",
       " 4630971,\n",
       " 8537217,\n",
       " 5036404,\n",
       " 37423,\n",
       " 4251068,\n",
       " 7864632,\n",
       " 574728,\n",
       " 782399,\n",
       " 699117,\n",
       " 4890753,\n",
       " 5340999,\n",
       " 4807789,\n",
       " 9068866,\n",
       " 4246602,\n",
       " 8071131,\n",
       " 4089005,\n",
       " 9410507,\n",
       " 6885624,\n",
       " 9354633,\n",
       " 9763536,\n",
       " 2621982,\n",
       " 4743648,\n",
       " 15050,\n",
       " 4267612,\n",
       " 9397973,\n",
       " 9815599,\n",
       " 7467039,\n",
       " 9359463,\n",
       " 1954630,\n",
       " 1200050,\n",
       " 473920,\n",
       " 9547634,\n",
       " 3781768,\n",
       " 1446469,\n",
       " 4542413,\n",
       " 227805,\n",
       " 2560691,\n",
       " 4952273,\n",
       " 7697945,\n",
       " 7154717,\n",
       " 822123,\n",
       " 8062119,\n",
       " 4799453,\n",
       " 3647252,\n",
       " 1433566,\n",
       " 3918261,\n",
       " 5044560,\n",
       " 2341792,\n",
       " 3597484,\n",
       " 6093544,\n",
       " 4056801,\n",
       " 431627,\n",
       " 4417192,\n",
       " 5120012,\n",
       " 3652385,\n",
       " 3333348,\n",
       " 6909039,\n",
       " 4977984,\n",
       " 2261819,\n",
       " 1198944,\n",
       " 2023072,\n",
       " 1678234,\n",
       " 8257803,\n",
       " 5031199,\n",
       " 3790249,\n",
       " 4379730,\n",
       " 6358660,\n",
       " 7253866,\n",
       " 927516,\n",
       " 8063233,\n",
       " 2550200,\n",
       " 297472,\n",
       " 8646291,\n",
       " 8259583,\n",
       " 9750016,\n",
       " 1677722,\n",
       " 960724,\n",
       " 4060334,\n",
       " 8568326,\n",
       " 6427526,\n",
       " 2122912,\n",
       " 2923342,\n",
       " 7534819,\n",
       " 1256690,\n",
       " 2971820,\n",
       " 4431185,\n",
       " 2909102,\n",
       " 3468813,\n",
       " 5211432,\n",
       " 6953767,\n",
       " 8213521,\n",
       " 3425096,\n",
       " 8007865,\n",
       " 2735635,\n",
       " 4204839,\n",
       " 4315514,\n",
       " 1263455,\n",
       " 1194237,\n",
       " 8103106,\n",
       " 5711578,\n",
       " 5308409,\n",
       " 4885697,\n",
       " 1393168,\n",
       " 3816563,\n",
       " 4876132,\n",
       " 3154747,\n",
       " 4575326,\n",
       " 7065655,\n",
       " 2785387,\n",
       " 8479157,\n",
       " 9485851,\n",
       " 5955812,\n",
       " 2506177,\n",
       " 8400843,\n",
       " 2116239,\n",
       " 6270117,\n",
       " 8699610,\n",
       " 1482272,\n",
       " 5449569,\n",
       " 8836494,\n",
       " 9587960,\n",
       " 4023749,\n",
       " 1278647,\n",
       " 5644420,\n",
       " 55448,\n",
       " 6066023,\n",
       " 6841726,\n",
       " 2566517,\n",
       " 782609,\n",
       " 8650703,\n",
       " 5369253,\n",
       " 5929312,\n",
       " 3954242,\n",
       " 1360394,\n",
       " 3182538,\n",
       " 4953806,\n",
       " 9744723,\n",
       " 3198496,\n",
       " 2138772,\n",
       " 3597029,\n",
       " 2061626,\n",
       " 2837561,\n",
       " 2478041,\n",
       " 719113,\n",
       " 2313292,\n",
       " 4129281,\n",
       " 3639173,\n",
       " 4955883,\n",
       " 293284,\n",
       " 3823935,\n",
       " 64871,\n",
       " 7068283,\n",
       " 631016,\n",
       " 6662779,\n",
       " 5107674,\n",
       " 4520186,\n",
       " 7897592,\n",
       " 4015423,\n",
       " 8180878,\n",
       " 1263597,\n",
       " 3047293,\n",
       " 108335,\n",
       " 8371066,\n",
       " 1981739,\n",
       " 4094092,\n",
       " 7791817,\n",
       " 5299317,\n",
       " 746892,\n",
       " 7140331,\n",
       " 2906540,\n",
       " 4791137,\n",
       " 6088700,\n",
       " 8292253,\n",
       " 1157434,\n",
       " 5333922,\n",
       " 8897392,\n",
       " 9151225,\n",
       " 8404765,\n",
       " ...]"
      ]
     },
     "execution_count": 55,
     "metadata": {},
     "output_type": "execute_result"
    }
   ],
   "source": [
    "#create list of client_ids: \n",
    "clients_list = list(df_clients_nd_nn_in['client_id'])\n",
    "clients_list"
   ]
  },
  {
   "cell_type": "markdown",
   "metadata": {},
   "source": [
    "Because we need to put an eye only in the clients who we know are in the experiment (so, the list of clients in df_clients), we are deleting the rest of clients. "
   ]
  },
  {
   "cell_type": "code",
   "execution_count": 56,
   "metadata": {},
   "outputs": [
    {
     "data": {
      "text/plain": [
       "(313904, 5)"
      ]
     },
     "execution_count": 56,
     "metadata": {},
     "output_type": "execute_result"
    }
   ],
   "source": [
    "#creating new dataframe with footprints only with clients from clients list\n",
    "df_sample_fp = df_footprint_nd.loc[df_footprint_nd['client_id'].isin(clients_list)]\n",
    "\n",
    "df_sample_fp.shape"
   ]
  },
  {
   "cell_type": "code",
   "execution_count": 57,
   "metadata": {},
   "outputs": [],
   "source": [
    "df_sample_fp = df_sample_fp.reset_index(drop=True)"
   ]
  },
  {
   "cell_type": "markdown",
   "metadata": {},
   "source": [
    "### 2.2.3 Nulls"
   ]
  },
  {
   "cell_type": "markdown",
   "metadata": {},
   "source": [
    "Let's see now if we have nulls values"
   ]
  },
  {
   "cell_type": "code",
   "execution_count": 58,
   "metadata": {},
   "outputs": [
    {
     "name": "stdout",
     "output_type": "stream",
     "text": [
      "client_id       0\n",
      "visitor_id      0\n",
      "visit_id        0\n",
      "process_step    0\n",
      "date_time       0\n",
      "dtype: int64\n"
     ]
    }
   ],
   "source": [
    "missing_data = df_footprint_nd.isnull().sum()\n",
    "print(missing_data)"
   ]
  },
  {
   "cell_type": "markdown",
   "metadata": {},
   "source": [
    "# 3. Exporting our cleaned dataframes"
   ]
  },
  {
   "cell_type": "markdown",
   "metadata": {},
   "source": [
    "Rename dataframes for easy exportation"
   ]
  },
  {
   "cell_type": "code",
   "execution_count": 60,
   "metadata": {},
   "outputs": [],
   "source": [
    "df_clean_users = df_clients_nd_nn_in\n",
    "df_clean_fp = df_footprint_nd"
   ]
  },
  {
   "cell_type": "markdown",
   "metadata": {},
   "source": [
    "Exportation to CSV"
   ]
  },
  {
   "cell_type": "code",
   "execution_count": 61,
   "metadata": {},
   "outputs": [],
   "source": [
    "df_clean_fp.to_csv('clean_data/df_clean_fp.csv', index=False)\n",
    "df_clean_users.to_csv('clean_data/df_clean_users.csv', index=False)"
   ]
  },
  {
   "cell_type": "markdown",
   "metadata": {},
   "source": [
    "# Para comprobar si hay datos atípicos en la columna clnt_age, puedes calcular los límites intercuartílicos (IQR). "
   ]
  },
  {
   "cell_type": "code",
   "execution_count": 77,
   "metadata": {},
   "outputs": [
    {
     "name": "stdout",
     "output_type": "stream",
     "text": [
      "Cantidad de valores atípicos en clnt_age: 0\n"
     ]
    }
   ],
   "source": [
    "# Calcular Q1 (primer cuartil) y Q3 (tercer cuartil)\n",
    "Q1 = df_demo['clnt_age'].quantile(0.25)\n",
    "Q3 = df_demo['clnt_age'].quantile(0.75)\n",
    "IQR = Q3 - Q1\n",
    "\n",
    "# Definir límites inferior y superior\n",
    "lower_bound = Q1 - 1.5 * IQR\n",
    "upper_bound = Q3 + 1.5 * IQR\n",
    "\n",
    "# Identificar valores atípicos\n",
    "outliers = df_demo[(df_demo['clnt_age'] < lower_bound) | (df_demo['clnt_age'] > upper_bound)]\n",
    "\n",
    "# Mostrar cantidad de valores atípicos\n",
    "print(f'Cantidad de valores atípicos en clnt_age: {outliers.shape[0]}')\n"
   ]
  },
  {
   "cell_type": "markdown",
   "metadata": {},
   "source": [
    "##  Análisis de la Demografía de los Clientes"
   ]
  },
  {
   "cell_type": "code",
   "execution_count": 78,
   "metadata": {},
   "outputs": [
    {
     "data": {
      "text/plain": [
       "(count    70591.000000\n",
       " mean        46.442542\n",
       " std         15.591381\n",
       " min         13.500000\n",
       " 25%         32.500000\n",
       " 50%         47.000000\n",
       " 75%         59.000000\n",
       " max         96.000000\n",
       " Name: clnt_age, dtype: float64,\n",
       " gendr\n",
       " U    24122\n",
       " M    23724\n",
       " F    22745\n",
       " Name: count, dtype: int64,\n",
       " num_accts\n",
       " 2.0    55494\n",
       " 3.0    12528\n",
       " 4.0     2241\n",
       " 5.0      284\n",
       " 6.0       33\n",
       " 7.0        8\n",
       " 1.0        2\n",
       " 8.0        1\n",
       " Name: count, dtype: int64)"
      ]
     },
     "execution_count": 78,
     "metadata": {},
     "output_type": "execute_result"
    }
   ],
   "source": [
    "import pandas as pd\n",
    "\n",
    "# Cargar el DataFrame (si no está cargado)\n",
    "# df_demo = pd.read_csv('ruta_al_archivo.csv')\n",
    "\n",
    "# Análisis de la edad de los clientes\n",
    "age_distribution = df_demo['clnt_age'].describe()\n",
    "\n",
    "# Distribución de género\n",
    "gender_distribution = df_demo['gendr'].value_counts()\n",
    "\n",
    "# Número de cuentas por cliente\n",
    "account_distribution = df_demo['num_accts'].value_counts()\n",
    "\n",
    "age_distribution, gender_distribution, account_distribution\n"
   ]
  },
  {
   "cell_type": "code",
   "execution_count": 79,
   "metadata": {},
   "outputs": [
    {
     "data": {
      "text/plain": [
       "(46.442542250428524,\n",
       " 12.053108753240497,\n",
       "       clnt_tenure_yr  clnt_age  counts\n",
       " 0                2.0      14.5       1\n",
       " 1                2.0      17.0       1\n",
       " 2                2.0      18.5       2\n",
       " 3                2.0      19.5       1\n",
       " 4                2.0      21.5       1\n",
       " ...              ...       ...     ...\n",
       " 4345            55.0      67.0       1\n",
       " 4346            55.0      68.0       1\n",
       " 4347            55.0      72.0       1\n",
       " 4348            55.0      78.0       1\n",
       " 4349            62.0      51.0       1\n",
       " \n",
       " [4350 rows x 3 columns])"
      ]
     },
     "execution_count": 79,
     "metadata": {},
     "output_type": "execute_result"
    }
   ],
   "source": [
    "# Edad promedio\n",
    "average_age = df_demo['clnt_age'].mean()\n",
    "\n",
    "# Tenencia promedio\n",
    "average_tenure = df_demo['clnt_tenure_yr'].mean()\n",
    "\n",
    "# Agrupar por edad y tenencia\n",
    "age_tenure_analysis = df_demo.groupby(['clnt_tenure_yr', 'clnt_age']).size().reset_index(name='counts')\n",
    "\n",
    "average_age, average_tenure, age_tenure_analysis\n"
   ]
  },
  {
   "cell_type": "code",
   "execution_count": 80,
   "metadata": {},
   "outputs": [
    {
     "name": "stderr",
     "output_type": "stream",
     "text": [
      "C:\\Users\\Usuario\\AppData\\Local\\Temp\\ipykernel_120500\\287947343.py:5: FutureWarning: The default of observed=False is deprecated and will be changed to True in a future version of pandas. Pass observed=False to retain current behavior or observed=True to adopt the future default and silence this warning.\n",
      "  call_login_analysis = df_demo.groupby(pd.cut(df_demo['bal'], bins=[0, 100000, 500000, 1000000, 10000000])).agg({'calls_6_mnth': 'mean', 'logons_6_mnth': 'mean'})\n"
     ]
    },
    {
     "data": {
      "text/plain": [
       "(          clnt_age       bal\n",
       " clnt_age  1.000000  0.209545\n",
       " bal       0.209545  1.000000,\n",
       "                      calls_6_mnth  logons_6_mnth\n",
       " bal                                             \n",
       " (0, 100000]              3.053574       5.207998\n",
       " (100000, 500000]         3.902361       6.150634\n",
       " (500000, 1000000]        4.567957       6.771071\n",
       " (1000000, 10000000]      4.882653       7.113946)"
      ]
     },
     "execution_count": 80,
     "metadata": {},
     "output_type": "execute_result"
    }
   ],
   "source": [
    "# Análisis de saldo en función de la edad\n",
    "age_balance_correlation = df_demo[['clnt_age', 'bal']].corr()\n",
    "\n",
    "# Promedio de llamadas y logins por grupo de saldo\n",
    "call_login_analysis = df_demo.groupby(pd.cut(df_demo['bal'], bins=[0, 100000, 500000, 1000000, 10000000])).agg({'calls_6_mnth': 'mean', 'logons_6_mnth': 'mean'})\n",
    "\n",
    "age_balance_correlation, call_login_analysis\n"
   ]
  },
  {
   "cell_type": "code",
   "execution_count": 81,
   "metadata": {},
   "outputs": [
    {
     "name": "stdout",
     "output_type": "stream",
     "text": [
      "Correlación entre Edad y Número de Cuentas: -0.017708400750834206\n"
     ]
    }
   ],
   "source": [
    "correlation_age_accounts = df_demo['clnt_age'].corr(df_demo['num_accts'])\n",
    "print(\"Correlación entre Edad y Número de Cuentas:\", correlation_age_accounts)\n"
   ]
  },
  {
   "cell_type": "code",
   "execution_count": 82,
   "metadata": {},
   "outputs": [
    {
     "name": "stdout",
     "output_type": "stream",
     "text": [
      "age_group\n",
      "Joven      2.264922\n",
      "Adulto     2.263316\n",
      "Mayor      2.254641\n",
      "Anciano    2.238759\n",
      "Name: num_accts, dtype: float64\n"
     ]
    },
    {
     "name": "stderr",
     "output_type": "stream",
     "text": [
      "C:\\Users\\Usuario\\AppData\\Local\\Temp\\ipykernel_120500\\218544797.py:5: FutureWarning: The default of observed=False is deprecated and will be changed to True in a future version of pandas. Pass observed=False to retain current behavior or observed=True to adopt the future default and silence this warning.\n",
      "  avg_accounts_by_age_group = df_demo.groupby('age_group')['num_accts'].mean()\n"
     ]
    }
   ],
   "source": [
    "age_bins = [0, 30, 45, 60, 100]\n",
    "age_labels = ['Joven', 'Adulto', 'Mayor', 'Anciano']\n",
    "df_demo['age_group'] = pd.cut(df_demo['clnt_age'], bins=age_bins, labels=age_labels)\n",
    "\n",
    "avg_accounts_by_age_group = df_demo.groupby('age_group')['num_accts'].mean()\n",
    "print(avg_accounts_by_age_group)\n"
   ]
  },
  {
   "cell_type": "code",
   "execution_count": 83,
   "metadata": {},
   "outputs": [
    {
     "data": {
      "text/html": [
       "<div>\n",
       "<style scoped>\n",
       "    .dataframe tbody tr th:only-of-type {\n",
       "        vertical-align: middle;\n",
       "    }\n",
       "\n",
       "    .dataframe tbody tr th {\n",
       "        vertical-align: top;\n",
       "    }\n",
       "\n",
       "    .dataframe thead th {\n",
       "        text-align: right;\n",
       "    }\n",
       "</style>\n",
       "<table border=\"1\" class=\"dataframe\">\n",
       "  <thead>\n",
       "    <tr style=\"text-align: right;\">\n",
       "      <th></th>\n",
       "      <th></th>\n",
       "      <th>count</th>\n",
       "      <th>mean</th>\n",
       "      <th>std</th>\n",
       "      <th>min</th>\n",
       "      <th>25%</th>\n",
       "      <th>50%</th>\n",
       "      <th>75%</th>\n",
       "      <th>max</th>\n",
       "    </tr>\n",
       "    <tr>\n",
       "      <th>clnt_age</th>\n",
       "      <th>gendr</th>\n",
       "      <th></th>\n",
       "      <th></th>\n",
       "      <th></th>\n",
       "      <th></th>\n",
       "      <th></th>\n",
       "      <th></th>\n",
       "      <th></th>\n",
       "      <th></th>\n",
       "    </tr>\n",
       "  </thead>\n",
       "  <tbody>\n",
       "    <tr>\n",
       "      <th>13.5</th>\n",
       "      <th>U</th>\n",
       "      <td>1.0</td>\n",
       "      <td>24435.08</td>\n",
       "      <td>NaN</td>\n",
       "      <td>24435.08</td>\n",
       "      <td>24435.0800</td>\n",
       "      <td>24435.080</td>\n",
       "      <td>24435.0800</td>\n",
       "      <td>24435.08</td>\n",
       "    </tr>\n",
       "    <tr>\n",
       "      <th rowspan=\"2\" valign=\"top\">14.0</th>\n",
       "      <th>F</th>\n",
       "      <td>1.0</td>\n",
       "      <td>16989.14</td>\n",
       "      <td>NaN</td>\n",
       "      <td>16989.14</td>\n",
       "      <td>16989.1400</td>\n",
       "      <td>16989.140</td>\n",
       "      <td>16989.1400</td>\n",
       "      <td>16989.14</td>\n",
       "    </tr>\n",
       "    <tr>\n",
       "      <th>U</th>\n",
       "      <td>1.0</td>\n",
       "      <td>19945.35</td>\n",
       "      <td>NaN</td>\n",
       "      <td>19945.35</td>\n",
       "      <td>19945.3500</td>\n",
       "      <td>19945.350</td>\n",
       "      <td>19945.3500</td>\n",
       "      <td>19945.35</td>\n",
       "    </tr>\n",
       "    <tr>\n",
       "      <th rowspan=\"2\" valign=\"top\">14.5</th>\n",
       "      <th>F</th>\n",
       "      <td>3.0</td>\n",
       "      <td>17103.58</td>\n",
       "      <td>1781.543845</td>\n",
       "      <td>15048.83</td>\n",
       "      <td>16546.8800</td>\n",
       "      <td>18044.930</td>\n",
       "      <td>18130.9550</td>\n",
       "      <td>18216.98</td>\n",
       "    </tr>\n",
       "    <tr>\n",
       "      <th>M</th>\n",
       "      <td>4.0</td>\n",
       "      <td>23983.90</td>\n",
       "      <td>7106.456638</td>\n",
       "      <td>15487.91</td>\n",
       "      <td>19442.9675</td>\n",
       "      <td>25116.555</td>\n",
       "      <td>29657.4875</td>\n",
       "      <td>30214.58</td>\n",
       "    </tr>\n",
       "    <tr>\n",
       "      <th>...</th>\n",
       "      <th>...</th>\n",
       "      <td>...</td>\n",
       "      <td>...</td>\n",
       "      <td>...</td>\n",
       "      <td>...</td>\n",
       "      <td>...</td>\n",
       "      <td>...</td>\n",
       "      <td>...</td>\n",
       "      <td>...</td>\n",
       "    </tr>\n",
       "    <tr>\n",
       "      <th>94.0</th>\n",
       "      <th>U</th>\n",
       "      <td>3.0</td>\n",
       "      <td>394455.75</td>\n",
       "      <td>485296.364159</td>\n",
       "      <td>58162.77</td>\n",
       "      <td>116286.6300</td>\n",
       "      <td>174410.490</td>\n",
       "      <td>562602.2400</td>\n",
       "      <td>950793.99</td>\n",
       "    </tr>\n",
       "    <tr>\n",
       "      <th>94.5</th>\n",
       "      <th>U</th>\n",
       "      <td>1.0</td>\n",
       "      <td>108825.59</td>\n",
       "      <td>NaN</td>\n",
       "      <td>108825.59</td>\n",
       "      <td>108825.5900</td>\n",
       "      <td>108825.590</td>\n",
       "      <td>108825.5900</td>\n",
       "      <td>108825.59</td>\n",
       "    </tr>\n",
       "    <tr>\n",
       "      <th>95.5</th>\n",
       "      <th>F</th>\n",
       "      <td>1.0</td>\n",
       "      <td>43471.96</td>\n",
       "      <td>NaN</td>\n",
       "      <td>43471.96</td>\n",
       "      <td>43471.9600</td>\n",
       "      <td>43471.960</td>\n",
       "      <td>43471.9600</td>\n",
       "      <td>43471.96</td>\n",
       "    </tr>\n",
       "    <tr>\n",
       "      <th rowspan=\"2\" valign=\"top\">96.0</th>\n",
       "      <th>M</th>\n",
       "      <td>1.0</td>\n",
       "      <td>36297.66</td>\n",
       "      <td>NaN</td>\n",
       "      <td>36297.66</td>\n",
       "      <td>36297.6600</td>\n",
       "      <td>36297.660</td>\n",
       "      <td>36297.6600</td>\n",
       "      <td>36297.66</td>\n",
       "    </tr>\n",
       "    <tr>\n",
       "      <th>U</th>\n",
       "      <td>1.0</td>\n",
       "      <td>94240.29</td>\n",
       "      <td>NaN</td>\n",
       "      <td>94240.29</td>\n",
       "      <td>94240.2900</td>\n",
       "      <td>94240.290</td>\n",
       "      <td>94240.2900</td>\n",
       "      <td>94240.29</td>\n",
       "    </tr>\n",
       "  </tbody>\n",
       "</table>\n",
       "<p>481 rows × 8 columns</p>\n",
       "</div>"
      ],
      "text/plain": [
       "                count       mean            std        min          25%  \\\n",
       "clnt_age gendr                                                            \n",
       "13.5     U        1.0   24435.08            NaN   24435.08   24435.0800   \n",
       "14.0     F        1.0   16989.14            NaN   16989.14   16989.1400   \n",
       "         U        1.0   19945.35            NaN   19945.35   19945.3500   \n",
       "14.5     F        3.0   17103.58    1781.543845   15048.83   16546.8800   \n",
       "         M        4.0   23983.90    7106.456638   15487.91   19442.9675   \n",
       "...               ...        ...            ...        ...          ...   \n",
       "94.0     U        3.0  394455.75  485296.364159   58162.77  116286.6300   \n",
       "94.5     U        1.0  108825.59            NaN  108825.59  108825.5900   \n",
       "95.5     F        1.0   43471.96            NaN   43471.96   43471.9600   \n",
       "96.0     M        1.0   36297.66            NaN   36297.66   36297.6600   \n",
       "         U        1.0   94240.29            NaN   94240.29   94240.2900   \n",
       "\n",
       "                       50%          75%        max  \n",
       "clnt_age gendr                                      \n",
       "13.5     U       24435.080   24435.0800   24435.08  \n",
       "14.0     F       16989.140   16989.1400   16989.14  \n",
       "         U       19945.350   19945.3500   19945.35  \n",
       "14.5     F       18044.930   18130.9550   18216.98  \n",
       "         M       25116.555   29657.4875   30214.58  \n",
       "...                    ...          ...        ...  \n",
       "94.0     U      174410.490  562602.2400  950793.99  \n",
       "94.5     U      108825.590  108825.5900  108825.59  \n",
       "95.5     F       43471.960   43471.9600   43471.96  \n",
       "96.0     M       36297.660   36297.6600   36297.66  \n",
       "         U       94240.290   94240.2900   94240.29  \n",
       "\n",
       "[481 rows x 8 columns]"
      ]
     },
     "execution_count": 83,
     "metadata": {},
     "output_type": "execute_result"
    }
   ],
   "source": [
    "demographics_balance = df_demo.groupby(['clnt_age', 'gendr'])['bal'].describe()\n",
    "demographics_balance\n"
   ]
  },
  {
   "cell_type": "markdown",
   "metadata": {},
   "source": []
  }
 ],
 "metadata": {
  "kernelspec": {
   "display_name": "Python 3",
   "language": "python",
   "name": "python3"
  },
  "language_info": {
   "codemirror_mode": {
    "name": "ipython",
    "version": 3
   },
   "file_extension": ".py",
   "mimetype": "text/x-python",
   "name": "python",
   "nbconvert_exporter": "python",
   "pygments_lexer": "ipython3",
   "version": "3.11.9"
  }
 },
 "nbformat": 4,
 "nbformat_minor": 4
}
