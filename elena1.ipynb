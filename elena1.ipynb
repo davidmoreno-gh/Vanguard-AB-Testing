{
 "cells": [
  {
   "cell_type": "markdown",
   "metadata": {},
   "source": [
    "## EDA & Data Cleaning"
   ]
  },
  {
   "cell_type": "code",
   "execution_count": 66,
   "metadata": {},
   "outputs": [],
   "source": [
    "import pandas as pd\n",
    "\n",
    "# Cargar el dataset\n",
    "df_demo = pd.read_csv('df_final_demo.txt')\n"
   ]
  },
  {
   "cell_type": "code",
   "execution_count": 67,
   "metadata": {},
   "outputs": [
    {
     "data": {
      "text/plain": [
       "(70609, 9)"
      ]
     },
     "execution_count": 67,
     "metadata": {},
     "output_type": "execute_result"
    }
   ],
   "source": [
    "df_demo.shape"
   ]
  },
  {
   "cell_type": "code",
   "execution_count": 68,
   "metadata": {},
   "outputs": [
    {
     "data": {
      "text/html": [
       "<div>\n",
       "<style scoped>\n",
       "    .dataframe tbody tr th:only-of-type {\n",
       "        vertical-align: middle;\n",
       "    }\n",
       "\n",
       "    .dataframe tbody tr th {\n",
       "        vertical-align: top;\n",
       "    }\n",
       "\n",
       "    .dataframe thead th {\n",
       "        text-align: right;\n",
       "    }\n",
       "</style>\n",
       "<table border=\"1\" class=\"dataframe\">\n",
       "  <thead>\n",
       "    <tr style=\"text-align: right;\">\n",
       "      <th></th>\n",
       "      <th>client_id</th>\n",
       "      <th>clnt_tenure_yr</th>\n",
       "      <th>clnt_tenure_mnth</th>\n",
       "      <th>clnt_age</th>\n",
       "      <th>gendr</th>\n",
       "      <th>num_accts</th>\n",
       "      <th>bal</th>\n",
       "      <th>calls_6_mnth</th>\n",
       "      <th>logons_6_mnth</th>\n",
       "    </tr>\n",
       "  </thead>\n",
       "  <tbody>\n",
       "    <tr>\n",
       "      <th>0</th>\n",
       "      <td>836976</td>\n",
       "      <td>6.0</td>\n",
       "      <td>73.0</td>\n",
       "      <td>60.5</td>\n",
       "      <td>U</td>\n",
       "      <td>2.0</td>\n",
       "      <td>45105.30</td>\n",
       "      <td>6.0</td>\n",
       "      <td>9.0</td>\n",
       "    </tr>\n",
       "    <tr>\n",
       "      <th>1</th>\n",
       "      <td>2304905</td>\n",
       "      <td>7.0</td>\n",
       "      <td>94.0</td>\n",
       "      <td>58.0</td>\n",
       "      <td>U</td>\n",
       "      <td>2.0</td>\n",
       "      <td>110860.30</td>\n",
       "      <td>6.0</td>\n",
       "      <td>9.0</td>\n",
       "    </tr>\n",
       "    <tr>\n",
       "      <th>2</th>\n",
       "      <td>1439522</td>\n",
       "      <td>5.0</td>\n",
       "      <td>64.0</td>\n",
       "      <td>32.0</td>\n",
       "      <td>U</td>\n",
       "      <td>2.0</td>\n",
       "      <td>52467.79</td>\n",
       "      <td>6.0</td>\n",
       "      <td>9.0</td>\n",
       "    </tr>\n",
       "    <tr>\n",
       "      <th>3</th>\n",
       "      <td>1562045</td>\n",
       "      <td>16.0</td>\n",
       "      <td>198.0</td>\n",
       "      <td>49.0</td>\n",
       "      <td>M</td>\n",
       "      <td>2.0</td>\n",
       "      <td>67454.65</td>\n",
       "      <td>3.0</td>\n",
       "      <td>6.0</td>\n",
       "    </tr>\n",
       "    <tr>\n",
       "      <th>4</th>\n",
       "      <td>5126305</td>\n",
       "      <td>12.0</td>\n",
       "      <td>145.0</td>\n",
       "      <td>33.0</td>\n",
       "      <td>F</td>\n",
       "      <td>2.0</td>\n",
       "      <td>103671.75</td>\n",
       "      <td>0.0</td>\n",
       "      <td>3.0</td>\n",
       "    </tr>\n",
       "  </tbody>\n",
       "</table>\n",
       "</div>"
      ],
      "text/plain": [
       "   client_id  clnt_tenure_yr  clnt_tenure_mnth  clnt_age gendr  num_accts  \\\n",
       "0     836976             6.0              73.0      60.5     U        2.0   \n",
       "1    2304905             7.0              94.0      58.0     U        2.0   \n",
       "2    1439522             5.0              64.0      32.0     U        2.0   \n",
       "3    1562045            16.0             198.0      49.0     M        2.0   \n",
       "4    5126305            12.0             145.0      33.0     F        2.0   \n",
       "\n",
       "         bal  calls_6_mnth  logons_6_mnth  \n",
       "0   45105.30           6.0            9.0  \n",
       "1  110860.30           6.0            9.0  \n",
       "2   52467.79           6.0            9.0  \n",
       "3   67454.65           3.0            6.0  \n",
       "4  103671.75           0.0            3.0  "
      ]
     },
     "execution_count": 68,
     "metadata": {},
     "output_type": "execute_result"
    }
   ],
   "source": [
    "# Ver las primeras filas\n",
    "df_demo.head()"
   ]
  },
  {
   "cell_type": "code",
   "execution_count": 69,
   "metadata": {},
   "outputs": [
    {
     "name": "stdout",
     "output_type": "stream",
     "text": [
      "Número de registros duplicados en 'client_id': 0\n",
      "Registros duplicados:\n",
      "Empty DataFrame\n",
      "Columns: [client_id, clnt_tenure_yr, clnt_tenure_mnth, clnt_age, gendr, num_accts, bal, calls_6_mnth, logons_6_mnth]\n",
      "Index: []\n"
     ]
    }
   ],
   "source": [
    "# Comprobar duplicados en la columna 'client_id'\n",
    "duplicados = df_demo[df_demo.duplicated(subset='client_id', keep=False)]\n",
    "\n",
    "# Contar el número de duplicados\n",
    "num_duplicados = duplicados.shape[0]\n",
    "\n",
    "print(f\"Número de registros duplicados en 'client_id': {num_duplicados}\")\n",
    "print(\"Registros duplicados:\")\n",
    "print(duplicados)\n"
   ]
  },
  {
   "cell_type": "code",
   "execution_count": 70,
   "metadata": {},
   "outputs": [
    {
     "name": "stdout",
     "output_type": "stream",
     "text": [
      "<class 'pandas.core.frame.DataFrame'>\n",
      "RangeIndex: 70609 entries, 0 to 70608\n",
      "Data columns (total 9 columns):\n",
      " #   Column            Non-Null Count  Dtype  \n",
      "---  ------            --------------  -----  \n",
      " 0   client_id         70609 non-null  int64  \n",
      " 1   clnt_tenure_yr    70595 non-null  float64\n",
      " 2   clnt_tenure_mnth  70595 non-null  float64\n",
      " 3   clnt_age          70594 non-null  float64\n",
      " 4   gendr             70595 non-null  object \n",
      " 5   num_accts         70595 non-null  float64\n",
      " 6   bal               70595 non-null  float64\n",
      " 7   calls_6_mnth      70595 non-null  float64\n",
      " 8   logons_6_mnth     70595 non-null  float64\n",
      "dtypes: float64(7), int64(1), object(1)\n",
      "memory usage: 4.8+ MB\n"
     ]
    }
   ],
   "source": [
    "# Información general del DataFrame\n",
    "df_demo.info()"
   ]
  },
  {
   "cell_type": "code",
   "execution_count": 71,
   "metadata": {},
   "outputs": [
    {
     "data": {
      "text/html": [
       "<div>\n",
       "<style scoped>\n",
       "    .dataframe tbody tr th:only-of-type {\n",
       "        vertical-align: middle;\n",
       "    }\n",
       "\n",
       "    .dataframe tbody tr th {\n",
       "        vertical-align: top;\n",
       "    }\n",
       "\n",
       "    .dataframe thead th {\n",
       "        text-align: right;\n",
       "    }\n",
       "</style>\n",
       "<table border=\"1\" class=\"dataframe\">\n",
       "  <thead>\n",
       "    <tr style=\"text-align: right;\">\n",
       "      <th></th>\n",
       "      <th>client_id</th>\n",
       "      <th>clnt_tenure_yr</th>\n",
       "      <th>clnt_tenure_mnth</th>\n",
       "      <th>clnt_age</th>\n",
       "      <th>gendr</th>\n",
       "      <th>num_accts</th>\n",
       "      <th>bal</th>\n",
       "      <th>calls_6_mnth</th>\n",
       "      <th>logons_6_mnth</th>\n",
       "    </tr>\n",
       "  </thead>\n",
       "  <tbody>\n",
       "    <tr>\n",
       "      <th>count</th>\n",
       "      <td>7.060900e+04</td>\n",
       "      <td>70595.000000</td>\n",
       "      <td>70595.000000</td>\n",
       "      <td>70594.000000</td>\n",
       "      <td>70595</td>\n",
       "      <td>70595.000000</td>\n",
       "      <td>7.059500e+04</td>\n",
       "      <td>70595.000000</td>\n",
       "      <td>70595.000000</td>\n",
       "    </tr>\n",
       "    <tr>\n",
       "      <th>unique</th>\n",
       "      <td>NaN</td>\n",
       "      <td>NaN</td>\n",
       "      <td>NaN</td>\n",
       "      <td>NaN</td>\n",
       "      <td>4</td>\n",
       "      <td>NaN</td>\n",
       "      <td>NaN</td>\n",
       "      <td>NaN</td>\n",
       "      <td>NaN</td>\n",
       "    </tr>\n",
       "    <tr>\n",
       "      <th>top</th>\n",
       "      <td>NaN</td>\n",
       "      <td>NaN</td>\n",
       "      <td>NaN</td>\n",
       "      <td>NaN</td>\n",
       "      <td>U</td>\n",
       "      <td>NaN</td>\n",
       "      <td>NaN</td>\n",
       "      <td>NaN</td>\n",
       "      <td>NaN</td>\n",
       "    </tr>\n",
       "    <tr>\n",
       "      <th>freq</th>\n",
       "      <td>NaN</td>\n",
       "      <td>NaN</td>\n",
       "      <td>NaN</td>\n",
       "      <td>NaN</td>\n",
       "      <td>24122</td>\n",
       "      <td>NaN</td>\n",
       "      <td>NaN</td>\n",
       "      <td>NaN</td>\n",
       "      <td>NaN</td>\n",
       "    </tr>\n",
       "    <tr>\n",
       "      <th>mean</th>\n",
       "      <td>5.004992e+06</td>\n",
       "      <td>12.052950</td>\n",
       "      <td>150.659367</td>\n",
       "      <td>46.442240</td>\n",
       "      <td>NaN</td>\n",
       "      <td>2.255528</td>\n",
       "      <td>1.474452e+05</td>\n",
       "      <td>3.382478</td>\n",
       "      <td>5.566740</td>\n",
       "    </tr>\n",
       "    <tr>\n",
       "      <th>std</th>\n",
       "      <td>2.877278e+06</td>\n",
       "      <td>6.871819</td>\n",
       "      <td>82.089854</td>\n",
       "      <td>15.591273</td>\n",
       "      <td>NaN</td>\n",
       "      <td>0.534997</td>\n",
       "      <td>3.015087e+05</td>\n",
       "      <td>2.236580</td>\n",
       "      <td>2.353286</td>\n",
       "    </tr>\n",
       "    <tr>\n",
       "      <th>min</th>\n",
       "      <td>1.690000e+02</td>\n",
       "      <td>2.000000</td>\n",
       "      <td>33.000000</td>\n",
       "      <td>13.500000</td>\n",
       "      <td>NaN</td>\n",
       "      <td>1.000000</td>\n",
       "      <td>1.378942e+04</td>\n",
       "      <td>0.000000</td>\n",
       "      <td>1.000000</td>\n",
       "    </tr>\n",
       "    <tr>\n",
       "      <th>25%</th>\n",
       "      <td>2.519329e+06</td>\n",
       "      <td>6.000000</td>\n",
       "      <td>82.000000</td>\n",
       "      <td>32.500000</td>\n",
       "      <td>NaN</td>\n",
       "      <td>2.000000</td>\n",
       "      <td>3.734683e+04</td>\n",
       "      <td>1.000000</td>\n",
       "      <td>4.000000</td>\n",
       "    </tr>\n",
       "    <tr>\n",
       "      <th>50%</th>\n",
       "      <td>5.016978e+06</td>\n",
       "      <td>11.000000</td>\n",
       "      <td>136.000000</td>\n",
       "      <td>47.000000</td>\n",
       "      <td>NaN</td>\n",
       "      <td>2.000000</td>\n",
       "      <td>6.333290e+04</td>\n",
       "      <td>3.000000</td>\n",
       "      <td>5.000000</td>\n",
       "    </tr>\n",
       "    <tr>\n",
       "      <th>75%</th>\n",
       "      <td>7.483085e+06</td>\n",
       "      <td>16.000000</td>\n",
       "      <td>192.000000</td>\n",
       "      <td>59.000000</td>\n",
       "      <td>NaN</td>\n",
       "      <td>2.000000</td>\n",
       "      <td>1.375449e+05</td>\n",
       "      <td>6.000000</td>\n",
       "      <td>7.000000</td>\n",
       "    </tr>\n",
       "    <tr>\n",
       "      <th>max</th>\n",
       "      <td>9.999839e+06</td>\n",
       "      <td>62.000000</td>\n",
       "      <td>749.000000</td>\n",
       "      <td>96.000000</td>\n",
       "      <td>NaN</td>\n",
       "      <td>8.000000</td>\n",
       "      <td>1.632004e+07</td>\n",
       "      <td>7.000000</td>\n",
       "      <td>9.000000</td>\n",
       "    </tr>\n",
       "  </tbody>\n",
       "</table>\n",
       "</div>"
      ],
      "text/plain": [
       "           client_id  clnt_tenure_yr  clnt_tenure_mnth      clnt_age  gendr  \\\n",
       "count   7.060900e+04    70595.000000      70595.000000  70594.000000  70595   \n",
       "unique           NaN             NaN               NaN           NaN      4   \n",
       "top              NaN             NaN               NaN           NaN      U   \n",
       "freq             NaN             NaN               NaN           NaN  24122   \n",
       "mean    5.004992e+06       12.052950        150.659367     46.442240    NaN   \n",
       "std     2.877278e+06        6.871819         82.089854     15.591273    NaN   \n",
       "min     1.690000e+02        2.000000         33.000000     13.500000    NaN   \n",
       "25%     2.519329e+06        6.000000         82.000000     32.500000    NaN   \n",
       "50%     5.016978e+06       11.000000        136.000000     47.000000    NaN   \n",
       "75%     7.483085e+06       16.000000        192.000000     59.000000    NaN   \n",
       "max     9.999839e+06       62.000000        749.000000     96.000000    NaN   \n",
       "\n",
       "           num_accts           bal  calls_6_mnth  logons_6_mnth  \n",
       "count   70595.000000  7.059500e+04  70595.000000   70595.000000  \n",
       "unique           NaN           NaN           NaN            NaN  \n",
       "top              NaN           NaN           NaN            NaN  \n",
       "freq             NaN           NaN           NaN            NaN  \n",
       "mean        2.255528  1.474452e+05      3.382478       5.566740  \n",
       "std         0.534997  3.015087e+05      2.236580       2.353286  \n",
       "min         1.000000  1.378942e+04      0.000000       1.000000  \n",
       "25%         2.000000  3.734683e+04      1.000000       4.000000  \n",
       "50%         2.000000  6.333290e+04      3.000000       5.000000  \n",
       "75%         2.000000  1.375449e+05      6.000000       7.000000  \n",
       "max         8.000000  1.632004e+07      7.000000       9.000000  "
      ]
     },
     "execution_count": 71,
     "metadata": {},
     "output_type": "execute_result"
    }
   ],
   "source": [
    "# Estadísticas descriptivas\n",
    "df_demo.describe(include='all')"
   ]
  },
  {
   "cell_type": "code",
   "execution_count": 72,
   "metadata": {},
   "outputs": [
    {
     "name": "stdout",
     "output_type": "stream",
     "text": [
      "client_id            0\n",
      "clnt_tenure_yr      14\n",
      "clnt_tenure_mnth    14\n",
      "clnt_age            15\n",
      "gendr               14\n",
      "num_accts           14\n",
      "bal                 14\n",
      "calls_6_mnth        14\n",
      "logons_6_mnth       14\n",
      "dtype: int64\n"
     ]
    }
   ],
   "source": [
    "# Comprobar datos faltantes\n",
    "missing_data = df_demo.isnull().sum()\n",
    "print(missing_data)\n"
   ]
  },
  {
   "cell_type": "code",
   "execution_count": 73,
   "metadata": {},
   "outputs": [
    {
     "data": {
      "text/plain": [
       "client_id           0\n",
       "clnt_tenure_yr      0\n",
       "clnt_tenure_mnth    0\n",
       "clnt_age            0\n",
       "gendr               0\n",
       "num_accts           0\n",
       "bal                 0\n",
       "calls_6_mnth        0\n",
       "logons_6_mnth       0\n",
       "dtype: int64"
      ]
     },
     "execution_count": 73,
     "metadata": {},
     "output_type": "execute_result"
    }
   ],
   "source": [
    "# Eliminar filas con datos faltantes en columnas específicas y actualizar df_demo\n",
    "df_demo.dropna(subset=['clnt_tenure_yr', 'clnt_tenure_mnth', 'clnt_age', 'gendr', 'num_accts', 'bal', 'calls_6_mnth', 'logons_6_mnth'], inplace=True)\n",
    "\n",
    "# Verificar que se eliminaron los datos faltantes\n",
    "df_demo.isnull().sum()\n"
   ]
  },
  {
   "cell_type": "code",
   "execution_count": 74,
   "metadata": {},
   "outputs": [
    {
     "name": "stdout",
     "output_type": "stream",
     "text": [
      "\n",
      "Valores únicos en la columna 'gendr':\n",
      "['U' 'M' 'F' 'X']\n"
     ]
    }
   ],
   "source": [
    "# Comprobar valores únicos\n",
    "unique_genders = df_demo['gendr'].unique()\n",
    "print(\"\\nValores únicos en la columna 'gendr':\")\n",
    "print(unique_genders)"
   ]
  },
  {
   "cell_type": "code",
   "execution_count": 75,
   "metadata": {},
   "outputs": [
    {
     "name": "stdout",
     "output_type": "stream",
     "text": [
      "Cantidad de valores 'X' en la columna 'gendr': 3\n"
     ]
    }
   ],
   "source": [
    "# Contar cuántas veces aparece 'X' en la columna 'gendr'\n",
    "count_x = (df_demo['gendr'] == 'X').sum()\n",
    "print(f\"Cantidad de valores 'X' en la columna 'gendr': {count_x}\")\n"
   ]
  },
  {
   "cell_type": "code",
   "execution_count": 76,
   "metadata": {},
   "outputs": [],
   "source": [
    "# Eliminar filas donde 'gendr' es 'X'\n",
    "df_demo = df_demo[df_demo['gendr'] != 'X']\n"
   ]
  },
  {
   "cell_type": "markdown",
   "metadata": {},
   "source": [
    "## Para comprobar si hay datos atípicos en la columna clnt_age, puedes calcular los límites intercuartílicos (IQR). "
   ]
  },
  {
   "cell_type": "code",
   "execution_count": 77,
   "metadata": {},
   "outputs": [
    {
     "name": "stdout",
     "output_type": "stream",
     "text": [
      "Cantidad de valores atípicos en clnt_age: 0\n"
     ]
    }
   ],
   "source": [
    "# Calcular Q1 (primer cuartil) y Q3 (tercer cuartil)\n",
    "Q1 = df_demo['clnt_age'].quantile(0.25)\n",
    "Q3 = df_demo['clnt_age'].quantile(0.75)\n",
    "IQR = Q3 - Q1\n",
    "\n",
    "# Definir límites inferior y superior\n",
    "lower_bound = Q1 - 1.5 * IQR\n",
    "upper_bound = Q3 + 1.5 * IQR\n",
    "\n",
    "# Identificar valores atípicos\n",
    "outliers = df_demo[(df_demo['clnt_age'] < lower_bound) | (df_demo['clnt_age'] > upper_bound)]\n",
    "\n",
    "# Mostrar cantidad de valores atípicos\n",
    "print(f'Cantidad de valores atípicos en clnt_age: {outliers.shape[0]}')\n"
   ]
  },
  {
   "cell_type": "markdown",
   "metadata": {},
   "source": [
    "##  Análisis de la Demografía de los Clientes"
   ]
  },
  {
   "cell_type": "code",
   "execution_count": 78,
   "metadata": {},
   "outputs": [
    {
     "data": {
      "text/plain": [
       "(count    70591.000000\n",
       " mean        46.442542\n",
       " std         15.591381\n",
       " min         13.500000\n",
       " 25%         32.500000\n",
       " 50%         47.000000\n",
       " 75%         59.000000\n",
       " max         96.000000\n",
       " Name: clnt_age, dtype: float64,\n",
       " gendr\n",
       " U    24122\n",
       " M    23724\n",
       " F    22745\n",
       " Name: count, dtype: int64,\n",
       " num_accts\n",
       " 2.0    55494\n",
       " 3.0    12528\n",
       " 4.0     2241\n",
       " 5.0      284\n",
       " 6.0       33\n",
       " 7.0        8\n",
       " 1.0        2\n",
       " 8.0        1\n",
       " Name: count, dtype: int64)"
      ]
     },
     "execution_count": 78,
     "metadata": {},
     "output_type": "execute_result"
    }
   ],
   "source": [
    "import pandas as pd\n",
    "\n",
    "# Cargar el DataFrame (si no está cargado)\n",
    "# df_demo = pd.read_csv('ruta_al_archivo.csv')\n",
    "\n",
    "# Análisis de la edad de los clientes\n",
    "age_distribution = df_demo['clnt_age'].describe()\n",
    "\n",
    "# Distribución de género\n",
    "gender_distribution = df_demo['gendr'].value_counts()\n",
    "\n",
    "# Número de cuentas por cliente\n",
    "account_distribution = df_demo['num_accts'].value_counts()\n",
    "\n",
    "age_distribution, gender_distribution, account_distribution\n"
   ]
  },
  {
   "cell_type": "code",
   "execution_count": 79,
   "metadata": {},
   "outputs": [
    {
     "data": {
      "text/plain": [
       "(46.442542250428524,\n",
       " 12.053108753240497,\n",
       "       clnt_tenure_yr  clnt_age  counts\n",
       " 0                2.0      14.5       1\n",
       " 1                2.0      17.0       1\n",
       " 2                2.0      18.5       2\n",
       " 3                2.0      19.5       1\n",
       " 4                2.0      21.5       1\n",
       " ...              ...       ...     ...\n",
       " 4345            55.0      67.0       1\n",
       " 4346            55.0      68.0       1\n",
       " 4347            55.0      72.0       1\n",
       " 4348            55.0      78.0       1\n",
       " 4349            62.0      51.0       1\n",
       " \n",
       " [4350 rows x 3 columns])"
      ]
     },
     "execution_count": 79,
     "metadata": {},
     "output_type": "execute_result"
    }
   ],
   "source": [
    "# Edad promedio\n",
    "average_age = df_demo['clnt_age'].mean()\n",
    "\n",
    "# Tenencia promedio\n",
    "average_tenure = df_demo['clnt_tenure_yr'].mean()\n",
    "\n",
    "# Agrupar por edad y tenencia\n",
    "age_tenure_analysis = df_demo.groupby(['clnt_tenure_yr', 'clnt_age']).size().reset_index(name='counts')\n",
    "\n",
    "average_age, average_tenure, age_tenure_analysis\n"
   ]
  },
  {
   "cell_type": "code",
   "execution_count": 80,
   "metadata": {},
   "outputs": [
    {
     "name": "stderr",
     "output_type": "stream",
     "text": [
      "C:\\Users\\Usuario\\AppData\\Local\\Temp\\ipykernel_120500\\287947343.py:5: FutureWarning: The default of observed=False is deprecated and will be changed to True in a future version of pandas. Pass observed=False to retain current behavior or observed=True to adopt the future default and silence this warning.\n",
      "  call_login_analysis = df_demo.groupby(pd.cut(df_demo['bal'], bins=[0, 100000, 500000, 1000000, 10000000])).agg({'calls_6_mnth': 'mean', 'logons_6_mnth': 'mean'})\n"
     ]
    },
    {
     "data": {
      "text/plain": [
       "(          clnt_age       bal\n",
       " clnt_age  1.000000  0.209545\n",
       " bal       0.209545  1.000000,\n",
       "                      calls_6_mnth  logons_6_mnth\n",
       " bal                                             \n",
       " (0, 100000]              3.053574       5.207998\n",
       " (100000, 500000]         3.902361       6.150634\n",
       " (500000, 1000000]        4.567957       6.771071\n",
       " (1000000, 10000000]      4.882653       7.113946)"
      ]
     },
     "execution_count": 80,
     "metadata": {},
     "output_type": "execute_result"
    }
   ],
   "source": [
    "# Análisis de saldo en función de la edad\n",
    "age_balance_correlation = df_demo[['clnt_age', 'bal']].corr()\n",
    "\n",
    "# Promedio de llamadas y logins por grupo de saldo\n",
    "call_login_analysis = df_demo.groupby(pd.cut(df_demo['bal'], bins=[0, 100000, 500000, 1000000, 10000000])).agg({'calls_6_mnth': 'mean', 'logons_6_mnth': 'mean'})\n",
    "\n",
    "age_balance_correlation, call_login_analysis\n"
   ]
  },
  {
   "cell_type": "code",
   "execution_count": 81,
   "metadata": {},
   "outputs": [
    {
     "name": "stdout",
     "output_type": "stream",
     "text": [
      "Correlación entre Edad y Número de Cuentas: -0.017708400750834206\n"
     ]
    }
   ],
   "source": [
    "correlation_age_accounts = df_demo['clnt_age'].corr(df_demo['num_accts'])\n",
    "print(\"Correlación entre Edad y Número de Cuentas:\", correlation_age_accounts)\n"
   ]
  },
  {
   "cell_type": "code",
   "execution_count": 82,
   "metadata": {},
   "outputs": [
    {
     "name": "stdout",
     "output_type": "stream",
     "text": [
      "age_group\n",
      "Joven      2.264922\n",
      "Adulto     2.263316\n",
      "Mayor      2.254641\n",
      "Anciano    2.238759\n",
      "Name: num_accts, dtype: float64\n"
     ]
    },
    {
     "name": "stderr",
     "output_type": "stream",
     "text": [
      "C:\\Users\\Usuario\\AppData\\Local\\Temp\\ipykernel_120500\\218544797.py:5: FutureWarning: The default of observed=False is deprecated and will be changed to True in a future version of pandas. Pass observed=False to retain current behavior or observed=True to adopt the future default and silence this warning.\n",
      "  avg_accounts_by_age_group = df_demo.groupby('age_group')['num_accts'].mean()\n"
     ]
    }
   ],
   "source": [
    "age_bins = [0, 30, 45, 60, 100]\n",
    "age_labels = ['Joven', 'Adulto', 'Mayor', 'Anciano']\n",
    "df_demo['age_group'] = pd.cut(df_demo['clnt_age'], bins=age_bins, labels=age_labels)\n",
    "\n",
    "avg_accounts_by_age_group = df_demo.groupby('age_group')['num_accts'].mean()\n",
    "print(avg_accounts_by_age_group)\n"
   ]
  },
  {
   "cell_type": "code",
   "execution_count": 83,
   "metadata": {},
   "outputs": [
    {
     "data": {
      "text/html": [
       "<div>\n",
       "<style scoped>\n",
       "    .dataframe tbody tr th:only-of-type {\n",
       "        vertical-align: middle;\n",
       "    }\n",
       "\n",
       "    .dataframe tbody tr th {\n",
       "        vertical-align: top;\n",
       "    }\n",
       "\n",
       "    .dataframe thead th {\n",
       "        text-align: right;\n",
       "    }\n",
       "</style>\n",
       "<table border=\"1\" class=\"dataframe\">\n",
       "  <thead>\n",
       "    <tr style=\"text-align: right;\">\n",
       "      <th></th>\n",
       "      <th></th>\n",
       "      <th>count</th>\n",
       "      <th>mean</th>\n",
       "      <th>std</th>\n",
       "      <th>min</th>\n",
       "      <th>25%</th>\n",
       "      <th>50%</th>\n",
       "      <th>75%</th>\n",
       "      <th>max</th>\n",
       "    </tr>\n",
       "    <tr>\n",
       "      <th>clnt_age</th>\n",
       "      <th>gendr</th>\n",
       "      <th></th>\n",
       "      <th></th>\n",
       "      <th></th>\n",
       "      <th></th>\n",
       "      <th></th>\n",
       "      <th></th>\n",
       "      <th></th>\n",
       "      <th></th>\n",
       "    </tr>\n",
       "  </thead>\n",
       "  <tbody>\n",
       "    <tr>\n",
       "      <th>13.5</th>\n",
       "      <th>U</th>\n",
       "      <td>1.0</td>\n",
       "      <td>24435.08</td>\n",
       "      <td>NaN</td>\n",
       "      <td>24435.08</td>\n",
       "      <td>24435.0800</td>\n",
       "      <td>24435.080</td>\n",
       "      <td>24435.0800</td>\n",
       "      <td>24435.08</td>\n",
       "    </tr>\n",
       "    <tr>\n",
       "      <th rowspan=\"2\" valign=\"top\">14.0</th>\n",
       "      <th>F</th>\n",
       "      <td>1.0</td>\n",
       "      <td>16989.14</td>\n",
       "      <td>NaN</td>\n",
       "      <td>16989.14</td>\n",
       "      <td>16989.1400</td>\n",
       "      <td>16989.140</td>\n",
       "      <td>16989.1400</td>\n",
       "      <td>16989.14</td>\n",
       "    </tr>\n",
       "    <tr>\n",
       "      <th>U</th>\n",
       "      <td>1.0</td>\n",
       "      <td>19945.35</td>\n",
       "      <td>NaN</td>\n",
       "      <td>19945.35</td>\n",
       "      <td>19945.3500</td>\n",
       "      <td>19945.350</td>\n",
       "      <td>19945.3500</td>\n",
       "      <td>19945.35</td>\n",
       "    </tr>\n",
       "    <tr>\n",
       "      <th rowspan=\"2\" valign=\"top\">14.5</th>\n",
       "      <th>F</th>\n",
       "      <td>3.0</td>\n",
       "      <td>17103.58</td>\n",
       "      <td>1781.543845</td>\n",
       "      <td>15048.83</td>\n",
       "      <td>16546.8800</td>\n",
       "      <td>18044.930</td>\n",
       "      <td>18130.9550</td>\n",
       "      <td>18216.98</td>\n",
       "    </tr>\n",
       "    <tr>\n",
       "      <th>M</th>\n",
       "      <td>4.0</td>\n",
       "      <td>23983.90</td>\n",
       "      <td>7106.456638</td>\n",
       "      <td>15487.91</td>\n",
       "      <td>19442.9675</td>\n",
       "      <td>25116.555</td>\n",
       "      <td>29657.4875</td>\n",
       "      <td>30214.58</td>\n",
       "    </tr>\n",
       "    <tr>\n",
       "      <th>...</th>\n",
       "      <th>...</th>\n",
       "      <td>...</td>\n",
       "      <td>...</td>\n",
       "      <td>...</td>\n",
       "      <td>...</td>\n",
       "      <td>...</td>\n",
       "      <td>...</td>\n",
       "      <td>...</td>\n",
       "      <td>...</td>\n",
       "    </tr>\n",
       "    <tr>\n",
       "      <th>94.0</th>\n",
       "      <th>U</th>\n",
       "      <td>3.0</td>\n",
       "      <td>394455.75</td>\n",
       "      <td>485296.364159</td>\n",
       "      <td>58162.77</td>\n",
       "      <td>116286.6300</td>\n",
       "      <td>174410.490</td>\n",
       "      <td>562602.2400</td>\n",
       "      <td>950793.99</td>\n",
       "    </tr>\n",
       "    <tr>\n",
       "      <th>94.5</th>\n",
       "      <th>U</th>\n",
       "      <td>1.0</td>\n",
       "      <td>108825.59</td>\n",
       "      <td>NaN</td>\n",
       "      <td>108825.59</td>\n",
       "      <td>108825.5900</td>\n",
       "      <td>108825.590</td>\n",
       "      <td>108825.5900</td>\n",
       "      <td>108825.59</td>\n",
       "    </tr>\n",
       "    <tr>\n",
       "      <th>95.5</th>\n",
       "      <th>F</th>\n",
       "      <td>1.0</td>\n",
       "      <td>43471.96</td>\n",
       "      <td>NaN</td>\n",
       "      <td>43471.96</td>\n",
       "      <td>43471.9600</td>\n",
       "      <td>43471.960</td>\n",
       "      <td>43471.9600</td>\n",
       "      <td>43471.96</td>\n",
       "    </tr>\n",
       "    <tr>\n",
       "      <th rowspan=\"2\" valign=\"top\">96.0</th>\n",
       "      <th>M</th>\n",
       "      <td>1.0</td>\n",
       "      <td>36297.66</td>\n",
       "      <td>NaN</td>\n",
       "      <td>36297.66</td>\n",
       "      <td>36297.6600</td>\n",
       "      <td>36297.660</td>\n",
       "      <td>36297.6600</td>\n",
       "      <td>36297.66</td>\n",
       "    </tr>\n",
       "    <tr>\n",
       "      <th>U</th>\n",
       "      <td>1.0</td>\n",
       "      <td>94240.29</td>\n",
       "      <td>NaN</td>\n",
       "      <td>94240.29</td>\n",
       "      <td>94240.2900</td>\n",
       "      <td>94240.290</td>\n",
       "      <td>94240.2900</td>\n",
       "      <td>94240.29</td>\n",
       "    </tr>\n",
       "  </tbody>\n",
       "</table>\n",
       "<p>481 rows × 8 columns</p>\n",
       "</div>"
      ],
      "text/plain": [
       "                count       mean            std        min          25%  \\\n",
       "clnt_age gendr                                                            \n",
       "13.5     U        1.0   24435.08            NaN   24435.08   24435.0800   \n",
       "14.0     F        1.0   16989.14            NaN   16989.14   16989.1400   \n",
       "         U        1.0   19945.35            NaN   19945.35   19945.3500   \n",
       "14.5     F        3.0   17103.58    1781.543845   15048.83   16546.8800   \n",
       "         M        4.0   23983.90    7106.456638   15487.91   19442.9675   \n",
       "...               ...        ...            ...        ...          ...   \n",
       "94.0     U        3.0  394455.75  485296.364159   58162.77  116286.6300   \n",
       "94.5     U        1.0  108825.59            NaN  108825.59  108825.5900   \n",
       "95.5     F        1.0   43471.96            NaN   43471.96   43471.9600   \n",
       "96.0     M        1.0   36297.66            NaN   36297.66   36297.6600   \n",
       "         U        1.0   94240.29            NaN   94240.29   94240.2900   \n",
       "\n",
       "                       50%          75%        max  \n",
       "clnt_age gendr                                      \n",
       "13.5     U       24435.080   24435.0800   24435.08  \n",
       "14.0     F       16989.140   16989.1400   16989.14  \n",
       "         U       19945.350   19945.3500   19945.35  \n",
       "14.5     F       18044.930   18130.9550   18216.98  \n",
       "         M       25116.555   29657.4875   30214.58  \n",
       "...                    ...          ...        ...  \n",
       "94.0     U      174410.490  562602.2400  950793.99  \n",
       "94.5     U      108825.590  108825.5900  108825.59  \n",
       "95.5     F       43471.960   43471.9600   43471.96  \n",
       "96.0     M       36297.660   36297.6600   36297.66  \n",
       "         U       94240.290   94240.2900   94240.29  \n",
       "\n",
       "[481 rows x 8 columns]"
      ]
     },
     "execution_count": 83,
     "metadata": {},
     "output_type": "execute_result"
    }
   ],
   "source": [
    "demographics_balance = df_demo.groupby(['clnt_age', 'gendr'])['bal'].describe()\n",
    "demographics_balance\n"
   ]
  }
 ],
 "metadata": {
  "kernelspec": {
   "display_name": "Python 3",
   "language": "python",
   "name": "python3"
  },
  "language_info": {
   "codemirror_mode": {
    "name": "ipython",
    "version": 3
   },
   "file_extension": ".py",
   "mimetype": "text/x-python",
   "name": "python",
   "nbconvert_exporter": "python",
   "pygments_lexer": "ipython3",
   "version": "3.12.4"
  }
 },
 "nbformat": 4,
 "nbformat_minor": 4
}
